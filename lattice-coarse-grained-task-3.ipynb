{
 "cells": [
  {
   "cell_type": "markdown",
   "metadata": {},
   "source": [
    "# Семинар 1-6: Крупноблочная $HP$-модель"
   ]
  },
  {
   "cell_type": "markdown",
   "metadata": {},
   "source": [
    " "
   ]
  },
  {
   "cell_type": "markdown",
   "metadata": {},
   "source": [
    " "
   ]
  },
  {
   "cell_type": "code",
   "execution_count": 68,
   "metadata": {},
   "outputs": [],
   "source": [
    "import numpy as np\n",
    "import matplotlib.pyplot as plt\n",
    "import Bio.PDB as pdb\n",
    "\n",
    "from hp_model.utils.sequence import HPSequenceManager\n",
    "from hp_model.lattice import PseudoTriangularLattice, FCC3DLattice"
   ]
  },
  {
   "cell_type": "markdown",
   "metadata": {},
   "source": [
    "# 0. Подготовка"
   ]
  },
  {
   "cell_type": "markdown",
   "metadata": {},
   "source": [
    "На этом семинаре будем работать с 2D $HP$-моделью. \n",
    "\n",
    "И сразу прыгнем с места в карьер - прочитаем белок 1FSD и сделаем из него $HP$-последовательность:"
   ]
  },
  {
   "cell_type": "code",
   "execution_count": 3,
   "metadata": {},
   "outputs": [
    {
     "name": "stdout",
     "output_type": "stream",
     "text": [
      "Downloading PDB structure '1fsd'...\n"
     ]
    }
   ],
   "source": [
    "fpath = pdb.PDBList().retrieve_pdb_file(\"1fsd\", \n",
    "                                        file_format=\"pdb\")"
   ]
  },
  {
   "cell_type": "code",
   "execution_count": 8,
   "metadata": {},
   "outputs": [],
   "source": [
    "chain = pdb.PDBParser().get_structure(\"s\", fpath)[0].child_list[0]"
   ]
  },
  {
   "cell_type": "code",
   "execution_count": 9,
   "metadata": {},
   "outputs": [],
   "source": [
    "hp_sequence = HPSequenceManager(pdb_chain=chain).get_hp_sequence()"
   ]
  },
  {
   "cell_type": "code",
   "execution_count": 10,
   "metadata": {},
   "outputs": [
    {
     "data": {
      "text/plain": [
       "'PPPPHPHPHPPHPPPPPHPPHHPPHPHP'"
      ]
     },
     "execution_count": 10,
     "metadata": {},
     "output_type": "execute_result"
    }
   ],
   "source": [
    "hp_sequence"
   ]
  },
  {
   "cell_type": "markdown",
   "metadata": {},
   "source": [
    "Получим координаты всех $C_\\alpha$:"
   ]
  },
  {
   "cell_type": "code",
   "execution_count": 12,
   "metadata": {},
   "outputs": [],
   "source": [
    "ca_coords = np.array([res[\"CA\"].coord for res in chain])"
   ]
  },
  {
   "cell_type": "markdown",
   "metadata": {},
   "source": [
    " "
   ]
  },
  {
   "cell_type": "markdown",
   "metadata": {},
   "source": [
    " "
   ]
  },
  {
   "cell_type": "markdown",
   "metadata": {},
   "source": [
    "# 1. Построение максимально плотного ядра"
   ]
  },
  {
   "cell_type": "code",
   "execution_count": 14,
   "metadata": {},
   "outputs": [],
   "source": [
    "from hp_model.prediction.hcore_generation.lp_generation import make_cores\n",
    "from hp_model.plotting import Plotter"
   ]
  },
  {
   "cell_type": "markdown",
   "metadata": {},
   "source": [
    "Сколько $H$-мономеров в $HP$-последовательности?"
   ]
  },
  {
   "cell_type": "code",
   "execution_count": 16,
   "metadata": {},
   "outputs": [
    {
     "data": {
      "text/plain": [
       "9"
      ]
     },
     "execution_count": 16,
     "metadata": {},
     "output_type": "execute_result"
    }
   ],
   "source": [
    "hp_sequence.count(\"H\")"
   ]
  },
  {
   "cell_type": "markdown",
   "metadata": {},
   "source": [
    "Сгенерируем максимально плотные ядра для данной $HP$-последовательности:"
   ]
  },
  {
   "cell_type": "code",
   "execution_count": 20,
   "metadata": {},
   "outputs": [
    {
     "name": "stdout",
     "output_type": "stream",
     "text": [
      "OBJECTIVE: 16.0\n"
     ]
    }
   ],
   "source": [
    "cores = make_cores(hp_sequence, None, False)"
   ]
  },
  {
   "cell_type": "markdown",
   "metadata": {},
   "source": [
    "Сколько получилось ядер? Отрисуем их и визуально сравним!"
   ]
  },
  {
   "cell_type": "code",
   "execution_count": 18,
   "metadata": {},
   "outputs": [
    {
     "data": {
      "image/png": "[encoded data removed]",
      "text/plain": [
       "<Figure size 1500x375 with 4 Axes>"
      ]
     },
     "metadata": {},
     "output_type": "display_data"
    }
   ],
   "source": [
    "fig, axs = plt.subplots(1, len(cores), figsize=(15, 15 / len(cores)))\n",
    "\n",
    "for i, core in enumerate(cores):\n",
    "    Plotter.plot_hcore(axs[i], \n",
    "                       core)\n",
    "    axs[i].axis(\"equal\")\n",
    "    axs[i].axis(\"off\")\n",
    "\n",
    "plt.show()"
   ]
  },
  {
   "cell_type": "markdown",
   "metadata": {},
   "source": [
    "**Вопрос для обсуждения**: Если ядер получилось несколько, разные ли они?"
   ]
  },
  {
   "cell_type": "markdown",
   "metadata": {},
   "source": [
    "К слову: <a href=\"https://projectswhynot.site/draggable_lattice_points/\">давайте поиграем 🙂</a>"
   ]
  },
  {
   "cell_type": "markdown",
   "metadata": {},
   "source": [
    " "
   ]
  },
  {
   "cell_type": "markdown",
   "metadata": {},
   "source": [
    " "
   ]
  },
  {
   "cell_type": "markdown",
   "metadata": {},
   "source": [
    "Посмотрим внимательнее на $HP$-последовательность. Может ли быть такое, что **ни в одно из этих ядер** белок 1FSD не фитится? 🤔"
   ]
  },
  {
   "cell_type": "markdown",
   "metadata": {},
   "source": [
    "Разделим блоки, состоящие из нескольких последовательных $P$ и $H$ в $HP$-последовательности друг от друга:"
   ]
  },
  {
   "cell_type": "code",
   "execution_count": 21,
   "metadata": {},
   "outputs": [
    {
     "name": "stdout",
     "output_type": "stream",
     "text": [
      "PPPP-H-P-H-P-H-PP-H-PPPPP-H-PP-HH-PP-H-P-H-P\n"
     ]
    }
   ],
   "source": [
    "print(hp_sequence.replace(\"HP\", \"H-P\").replace(\"PH\", \"P-H\"))"
   ]
  },
  {
   "cell_type": "markdown",
   "metadata": {},
   "source": [
    "**Вопрос для обсуждения**: Можно ли здесь что-то увидеть? 🤔\n",
    "\n",
    "**Напоминание**: в $H$-ядре не могут находиться $P$-мономеры!"
   ]
  },
  {
   "cell_type": "markdown",
   "metadata": {},
   "source": [
    " "
   ]
  },
  {
   "cell_type": "markdown",
   "metadata": {},
   "source": [
    " "
   ]
  },
  {
   "cell_type": "markdown",
   "metadata": {},
   "source": [
    " "
   ]
  },
  {
   "cell_type": "markdown",
   "metadata": {},
   "source": [
    "# 2. Оценка максимального числа контактов в $H$-ядре для данной $HP$-последовательности"
   ]
  },
  {
   "cell_type": "markdown",
   "metadata": {},
   "source": [
    "Сколько контактов в полученных ядрах?"
   ]
  },
  {
   "cell_type": "code",
   "execution_count": 23,
   "metadata": {},
   "outputs": [
    {
     "name": "stdout",
     "output_type": "stream",
     "text": [
      "16\n",
      "16\n",
      "16\n",
      "16\n"
     ]
    }
   ],
   "source": [
    "for core in cores:\n",
    "    print(core.n_contacts)"
   ]
  },
  {
   "cell_type": "markdown",
   "metadata": {},
   "source": [
    "Мы поняли, что в таких ядрах разместить белок нельзя. А сколько контактов может быть в ядре, в котором разместить белок **можно**?"
   ]
  },
  {
   "cell_type": "markdown",
   "metadata": {},
   "source": [
    "## 2.1. Посчитаем \"периметр\" $H$-ядра:"
   ]
  },
  {
   "cell_type": "markdown",
   "metadata": {},
   "source": [
    "Можно заметить, что ядро - планарный граф с $N$ вершинами, $K$ ребрами (контактами) и $G$ гранями, $(G - 1)$ из которых треугольные. Обозначим число вершим на поверхности $H$-ядра как $R$.\n",
    "\n",
    "Тогда $N - K + G = 2$; (по ф-ле Эйлера)\n",
    "\n",
    "$2K = 3(G - 1) + R$;\n",
    "\n",
    "Тогда $R = 3N - K - 3$,\n",
    "\n",
    "а число точек **внутри** $H$-ядра: $N_{in} = N - R = K - 2N + 3$"
   ]
  },
  {
   "cell_type": "markdown",
   "metadata": {},
   "source": [
    " "
   ]
  },
  {
   "cell_type": "markdown",
   "metadata": {},
   "source": [
    "Вычислим $R$ и $N_{in}$ для первого максимально плотного ядра:"
   ]
  },
  {
   "cell_type": "code",
   "execution_count": 34,
   "metadata": {},
   "outputs": [],
   "source": [
    "N = hp_sequence.count(\"H\")"
   ]
  },
  {
   "cell_type": "code",
   "execution_count": 35,
   "metadata": {},
   "outputs": [
    {
     "name": "stdout",
     "output_type": "stream",
     "text": [
      "8 1\n"
     ]
    }
   ],
   "source": [
    "K = cores[0].n_contacts\n",
    "R = 3 * N - K - 3\n",
    "Nin = N - R\n",
    "\n",
    "print(R, Nin)"
   ]
  },
  {
   "cell_type": "markdown",
   "metadata": {},
   "source": [
    " "
   ]
  },
  {
   "cell_type": "markdown",
   "metadata": {},
   "source": [
    "## 2.2. А есть ли в $HP$-последовательности такой $H$-мономер, который мог бы находиться внутри $H$-ядра (быть внутренней точкой)? 🤔"
   ]
  },
  {
   "cell_type": "code",
   "execution_count": 36,
   "metadata": {},
   "outputs": [],
   "source": [
    "from hp_model.prediction.protein_fitting.csp_fitting.csp import ConstraintBuilder"
   ]
  },
  {
   "cell_type": "code",
   "execution_count": 37,
   "metadata": {},
   "outputs": [],
   "source": [
    "check_verdict = ConstraintBuilder(hp_sequence, cores[0], PseudoTriangularLattice()).check_feasibility(verbose=True)"
   ]
  },
  {
   "cell_type": "markdown",
   "metadata": {},
   "source": [
    "Если значение check_verdict[\"max_H-P_dist\"] $\\leq$ $N_{in}$, то нет такого мономера!"
   ]
  },
  {
   "cell_type": "code",
   "execution_count": 38,
   "metadata": {},
   "outputs": [
    {
     "name": "stdout",
     "output_type": "stream",
     "text": [
      "1\n"
     ]
    }
   ],
   "source": [
    "print(check_verdict[\"max_H-P_dist\"])"
   ]
  },
  {
   "cell_type": "markdown",
   "metadata": {},
   "source": [
    " "
   ]
  },
  {
   "cell_type": "markdown",
   "metadata": {},
   "source": [
    "$\\rightarrow$ 😕"
   ]
  },
  {
   "cell_type": "markdown",
   "metadata": {},
   "source": [
    " "
   ]
  },
  {
   "cell_type": "markdown",
   "metadata": {},
   "source": [
    "## 2.3. Тогда какое число контактов допустимо? 🤔"
   ]
  },
  {
   "cell_type": "code",
   "execution_count": 39,
   "metadata": {},
   "outputs": [],
   "source": [
    "from hp_model.hcore.filtering._2d.kmax_filtering import get_Kmax"
   ]
  },
  {
   "cell_type": "code",
   "execution_count": 40,
   "metadata": {},
   "outputs": [
    {
     "name": "stdout",
     "output_type": "stream",
     "text": [
      "15\n"
     ]
    }
   ],
   "source": [
    "K_max = get_Kmax(hp_sequence)\n",
    "print(K_max)"
   ]
  },
  {
   "cell_type": "markdown",
   "metadata": {},
   "source": [
    "Сделаем ядра, подходящие под это требование!"
   ]
  },
  {
   "cell_type": "code",
   "execution_count": 41,
   "metadata": {},
   "outputs": [
    {
     "name": "stdout",
     "output_type": "stream",
     "text": [
      "OBJECTIVE: 15.0\n"
     ]
    }
   ],
   "source": [
    "cores = make_cores(hp_sequence, K_max, False)"
   ]
  },
  {
   "cell_type": "markdown",
   "metadata": {},
   "source": [
    "И снова их отрисуем:"
   ]
  },
  {
   "cell_type": "code",
   "execution_count": 42,
   "metadata": {},
   "outputs": [
    {
     "data": {
      "image/png": "[encoded data removed]",
      "text/plain": [
       "<Figure size 1500x187.5 with 8 Axes>"
      ]
     },
     "metadata": {},
     "output_type": "display_data"
    }
   ],
   "source": [
    "fig, axs = plt.subplots(1, len(cores), figsize=(15, 15 / len(cores)))\n",
    "\n",
    "for i, core in enumerate(cores):\n",
    "    Plotter.plot_hcore(axs[i], \n",
    "                       core)\n",
    "    axs[i].axis(\"equal\")\n",
    "    axs[i].axis(\"off\")\n",
    "\n",
    "plt.show()"
   ]
  },
  {
   "cell_type": "markdown",
   "metadata": {},
   "source": [
    "$\\rightarrow$ Лучше? Лууучше 😉"
   ]
  },
  {
   "cell_type": "markdown",
   "metadata": {},
   "source": [
    " "
   ]
  },
  {
   "cell_type": "markdown",
   "metadata": {},
   "source": [
    " "
   ]
  },
  {
   "cell_type": "markdown",
   "metadata": {},
   "source": [
    "## 3. Разместим белок в ядре!"
   ]
  },
  {
   "cell_type": "markdown",
   "metadata": {},
   "source": [
    "Вообще, правильно проверить возможность размещения белка в каждом из сгенерированных ядер.\n",
    "\n",
    "...но мы ограничимся первым 🙂 Его достаточно!"
   ]
  },
  {
   "cell_type": "code",
   "execution_count": 43,
   "metadata": {},
   "outputs": [],
   "source": [
    "from hp_model.prediction.protein_fitting.csp_fitting.fitting import fit_protein"
   ]
  },
  {
   "cell_type": "code",
   "execution_count": 48,
   "metadata": {},
   "outputs": [],
   "source": [
    "mapping = fit_protein(hp_sequence, cores[1])"
   ]
  },
  {
   "cell_type": "code",
   "execution_count": 49,
   "metadata": {},
   "outputs": [
    {
     "name": "stdout",
     "output_type": "stream",
     "text": [
      "{'L_11': [2.0, 5.0], 'L_10': [3, 4], 'L_12': [2, 4], 'L_9': [3, 5], 'L_8': [2.0, 6.0], 'L_7': [3, 6], 'L_6': [2.0, 7.0], 'L_5': [2, 8], 'L_4': [1.0, 8.0], 'L_3': [1, 9], 'L_13': [2, 3], 'L_2': [0, 10], 'L_1': [1, 10], 'L_0': [2, 10], 'L_14': [2, 2], 'L_15': [1, 3], 'L_16': [1, 4], 'L_17': [1.0, 5.0], 'L_18': [0, 5], 'L_19': [0, 6], 'L_20': [1.0, 6.0], 'L_21': [1.0, 7.0], 'L_22': [0, 7], 'L_23': [-1, 8], 'L_24': [0.0, 8.0], 'L_25': [-1, 9], 'L_26': [0.0, 9.0], 'L_27': [-1, 10]}\n"
     ]
    }
   ],
   "source": [
    "print(mapping)"
   ]
  },
  {
   "cell_type": "markdown",
   "metadata": {},
   "source": [
    "Отрисуем, что получилось!"
   ]
  },
  {
   "cell_type": "code",
   "execution_count": 50,
   "metadata": {},
   "outputs": [
    {
     "data": {
      "image/png": "[encoded data removed]",
      "text/plain": [
       "<Figure size 700x700 with 1 Axes>"
      ]
     },
     "metadata": {},
     "output_type": "display_data"
    }
   ],
   "source": [
    "_, ax = plt.subplots(1,1,figsize=(7,7))\n",
    "Plotter.plot_fit(ax, cores[1], hp_sequence, mapping)\n",
    "\n",
    "ax.axis(\"equal\")\n",
    "ax.axis(\"off\")\n",
    "\n",
    "plt.show()"
   ]
  },
  {
   "cell_type": "markdown",
   "metadata": {},
   "source": [
    " "
   ]
  },
  {
   "cell_type": "markdown",
   "metadata": {},
   "source": [
    " "
   ]
  },
  {
   "cell_type": "markdown",
   "metadata": {},
   "source": [
    "# 3.1. Ради научного интереса сравним с реальными позициями $C_\\alpha$!"
   ]
  },
  {
   "cell_type": "markdown",
   "metadata": {},
   "source": [
    "**Замечание**: Расстояние между соседними $C_\\alpha$ - 3.83 ангстрем. А между соседними узлами решетки - $\\sqrt{2}$ 🤔"
   ]
  },
  {
   "cell_type": "markdown",
   "metadata": {},
   "source": [
    "Поменяем масштаб для узлов решетки:"
   ]
  },
  {
   "cell_type": "code",
   "execution_count": 51,
   "metadata": {},
   "outputs": [],
   "source": [
    "pred_cas = np.array([mapping[f\"L_{i}\"] for i in range(len(hp_sequence))])"
   ]
  },
  {
   "cell_type": "code",
   "execution_count": 55,
   "metadata": {},
   "outputs": [],
   "source": [
    "pred_cas = (pred_cas - pred_cas.mean(axis=0)) / np.sqrt(2) * 3.83"
   ]
  },
  {
   "cell_type": "markdown",
   "metadata": {},
   "source": [
    "А еще у нас предсказанные координаты на плоскости 🤔 Добавим нулевой столбец координаты $z$:"
   ]
  },
  {
   "cell_type": "code",
   "execution_count": 60,
   "metadata": {},
   "outputs": [],
   "source": [
    "pred_cas = np.hstack((pred_cas, np.zeros((len(pred_cas), 1))))"
   ]
  },
  {
   "cell_type": "markdown",
   "metadata": {},
   "source": [
    "**Готово!** Посчитаем RMSD:"
   ]
  },
  {
   "cell_type": "code",
   "execution_count": 61,
   "metadata": {},
   "outputs": [],
   "source": [
    "from Bio.PDB.QCPSuperimposer import QCPSuperimposer"
   ]
  },
  {
   "cell_type": "code",
   "execution_count": 65,
   "metadata": {},
   "outputs": [],
   "source": [
    "h_inds = [i for i in range(len(hp_sequence)) if hp_sequence[i] == 'H']"
   ]
  },
  {
   "cell_type": "code",
   "execution_count": 66,
   "metadata": {},
   "outputs": [
    {
     "data": {
      "text/plain": [
       "[4, 6, 8, 11, 17, 20, 21, 24, 26]"
      ]
     },
     "execution_count": 66,
     "metadata": {},
     "output_type": "execute_result"
    }
   ],
   "source": [
    "h_inds"
   ]
  },
  {
   "cell_type": "code",
   "execution_count": 67,
   "metadata": {},
   "outputs": [
    {
     "data": {
      "text/plain": [
       "4.6707098415385415"
      ]
     },
     "execution_count": 67,
     "metadata": {},
     "output_type": "execute_result"
    }
   ],
   "source": [
    "imposer = QCPSuperimposer()\n",
    "imposer.set(ca_coords[h_inds], pred_cas[h_inds])\n",
    "imposer.run()\n",
    "imposer.rms"
   ]
  },
  {
   "cell_type": "markdown",
   "metadata": {},
   "source": [
    " "
   ]
  },
  {
   "cell_type": "markdown",
   "metadata": {},
   "source": [
    " "
   ]
  },
  {
   "cell_type": "markdown",
   "metadata": {},
   "source": [
    "**Вопрос для обсуждения**: хорош ли этот результат? 🤔"
   ]
  }
 ],
 "metadata": {
  "kernelspec": {
   "display_name": "Python 3 (ipykernel)",
   "language": "python",
   "name": "python3"
  },
  "language_info": {
   "codemirror_mode": {
    "name": "ipython",
    "version": 3
   },
   "file_extension": ".py",
   "mimetype": "text/x-python",
   "name": "python",
   "nbconvert_exporter": "python",
   "pygments_lexer": "ipython3",
   "version": "3.9.12"
  }
 },
 "nbformat": 4,
 "nbformat_minor": 4
}
