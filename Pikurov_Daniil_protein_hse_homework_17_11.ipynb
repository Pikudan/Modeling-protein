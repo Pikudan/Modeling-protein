{
  "cells": [
    {
      "cell_type": "markdown",
      "metadata": {
        "id": "cTGNIrxIa6O0"
      },
      "source": [
        "# Предсказание ротамеров угла $\\chi_1$ в зависимости от окружения"
      ]
    },
    {
      "cell_type": "code",
      "execution_count": null,
      "metadata": {
        "id": "wGK6EcJea6PC"
      },
      "outputs": [],
      "source": [
        "import json\n",
        "import pandas as pd\n",
        "import numpy as np"
      ]
    },
    {
      "cell_type": "markdown",
      "metadata": {
        "id": "G8tFCBuWa6PF"
      },
      "source": [
        "## Запустите следующую клетку. Будет случайно выбрана аминокислота, для которой вы будете проводить исследование"
      ]
    },
    {
      "cell_type": "code",
      "execution_count": null,
      "metadata": {
        "id": "_TteytHUa6PH",
        "outputId": "29d7dc33-1db8-49c9-9c5b-eb488159d301"
      },
      "outputs": [
        {
          "name": "stdout",
          "output_type": "stream",
          "text": [
            "Моя аминокислота - LYS\n"
          ]
        }
      ],
      "source": [
        "amacid_names = ['ARG', 'ASN', 'ASP', 'CYS', 'GLN', 'GLU', 'HIS', 'ILE', 'LEU',\n",
        "                'LYS', 'MET', 'PHE', 'PRO', 'SER', 'THR', 'TRP', 'TYR', 'VAL']\n",
        "\n",
        "print(f\"Моя аминокислота - {np.random.choice(amacid_names)}\")"
      ]
    },
    {
      "cell_type": "markdown",
      "metadata": {
        "id": "aw9YQPaXa6PK"
      },
      "source": [
        " "
      ]
    },
    {
      "cell_type": "markdown",
      "metadata": {
        "id": "othdo6AGa6PL"
      },
      "source": [
        "## Загрузите <a href=\"https://yadi.sk/d/FeLl5KYfjbhHgA?w=1\">отсюда</a> соответствующий файл. Далее мы будем работать с ним."
      ]
    },
    {
      "cell_type": "markdown",
      "metadata": {
        "id": "tJGI40lWa6PN"
      },
      "source": [
        " "
      ]
    },
    {
      "cell_type": "markdown",
      "metadata": {
        "id": "vrtz6VyPa6PO"
      },
      "source": [
        " "
      ]
    },
    {
      "cell_type": "markdown",
      "metadata": {
        "id": "4gy-s9fAa6PQ"
      },
      "source": [
        "# Часть 1. Анализ значений угла $\\chi_1$"
      ]
    },
    {
      "cell_type": "markdown",
      "metadata": {
        "id": "POXNgI6Ya6PS"
      },
      "source": [
        "## Задание 1.1. Откроем загруженный файл. Посмотрим на колонки:"
      ]
    },
    {
      "cell_type": "code",
      "execution_count": null,
      "metadata": {
        "id": "7DVfZGTra6PT"
      },
      "outputs": [],
      "source": [
        "dpath = \"CYS_data.csv\""
      ]
    },
    {
      "cell_type": "code",
      "execution_count": null,
      "metadata": {
        "id": "j8QFP_lja6PT"
      },
      "outputs": [],
      "source": [
        "df = pd.read_csv(dpath)"
      ]
    },
    {
      "cell_type": "code",
      "execution_count": null,
      "metadata": {
        "id": "1MPluMq7a6PU",
        "outputId": "9873cfe9-2fad-4b79-b1a9-77bd7feedd37"
      },
      "outputs": [
        {
          "data": {
            "text/html": [
              "<div>\n",
              "<style scoped>\n",
              "    .dataframe tbody tr th:only-of-type {\n",
              "        vertical-align: middle;\n",
              "    }\n",
              "\n",
              "    .dataframe tbody tr th {\n",
              "        vertical-align: top;\n",
              "    }\n",
              "\n",
              "    .dataframe thead th {\n",
              "        text-align: right;\n",
              "    }\n",
              "</style>\n",
              "<table border=\"1\" class=\"dataframe\">\n",
              "  <thead>\n",
              "    <tr style=\"text-align: right;\">\n",
              "      <th></th>\n",
              "      <th>Unnamed: 0</th>\n",
              "      <th>pbd_indx</th>\n",
              "      <th>phi</th>\n",
              "      <th>psi</th>\n",
              "      <th>tau</th>\n",
              "      <th>alpha</th>\n",
              "      <th>ind_from_start</th>\n",
              "      <th>ind_from_end</th>\n",
              "      <th>sec_structure</th>\n",
              "      <th>is_tail</th>\n",
              "      <th>...</th>\n",
              "      <th>gamma14</th>\n",
              "      <th>alpha15</th>\n",
              "      <th>beta15</th>\n",
              "      <th>gamma15</th>\n",
              "      <th>alpha16</th>\n",
              "      <th>beta16</th>\n",
              "      <th>gamma16</th>\n",
              "      <th>alpha17</th>\n",
              "      <th>beta17</th>\n",
              "      <th>gamma17</th>\n",
              "    </tr>\n",
              "  </thead>\n",
              "  <tbody>\n",
              "    <tr>\n",
              "      <th>0</th>\n",
              "      <td>0</td>\n",
              "      <td>2BO5</td>\n",
              "      <td>-86.289060</td>\n",
              "      <td>80.129109</td>\n",
              "      <td>99.465397</td>\n",
              "      <td>124.766781</td>\n",
              "      <td>117</td>\n",
              "      <td>2</td>\n",
              "      <td>-</td>\n",
              "      <td>1</td>\n",
              "      <td>...</td>\n",
              "      <td>61.204178</td>\n",
              "      <td>14.393570</td>\n",
              "      <td>78.214955</td>\n",
              "      <td>98.855541</td>\n",
              "      <td>20.018496</td>\n",
              "      <td>73.503805</td>\n",
              "      <td>109.185533</td>\n",
              "      <td>14.096429</td>\n",
              "      <td>75.073150</td>\n",
              "      <td>78.408270</td>\n",
              "    </tr>\n",
              "    <tr>\n",
              "      <th>1</th>\n",
              "      <td>1</td>\n",
              "      <td>4ME2</td>\n",
              "      <td>-77.957307</td>\n",
              "      <td>111.602981</td>\n",
              "      <td>104.424973</td>\n",
              "      <td>-131.464192</td>\n",
              "      <td>156</td>\n",
              "      <td>37</td>\n",
              "      <td>-</td>\n",
              "      <td>0</td>\n",
              "      <td>...</td>\n",
              "      <td>126.266483</td>\n",
              "      <td>29.282810</td>\n",
              "      <td>81.599245</td>\n",
              "      <td>62.559622</td>\n",
              "      <td>49.301163</td>\n",
              "      <td>61.707781</td>\n",
              "      <td>54.498715</td>\n",
              "      <td>71.325172</td>\n",
              "      <td>157.876790</td>\n",
              "      <td>76.945032</td>\n",
              "    </tr>\n",
              "    <tr>\n",
              "      <th>2</th>\n",
              "      <td>2</td>\n",
              "      <td>4MFI</td>\n",
              "      <td>-143.098602</td>\n",
              "      <td>122.209238</td>\n",
              "      <td>125.463285</td>\n",
              "      <td>-148.405833</td>\n",
              "      <td>271</td>\n",
              "      <td>131</td>\n",
              "      <td>-</td>\n",
              "      <td>0</td>\n",
              "      <td>...</td>\n",
              "      <td>57.415362</td>\n",
              "      <td>45.760690</td>\n",
              "      <td>55.458920</td>\n",
              "      <td>44.428799</td>\n",
              "      <td>18.474128</td>\n",
              "      <td>57.678291</td>\n",
              "      <td>98.011131</td>\n",
              "      <td>64.440909</td>\n",
              "      <td>99.855009</td>\n",
              "      <td>118.466435</td>\n",
              "    </tr>\n",
              "    <tr>\n",
              "      <th>3</th>\n",
              "      <td>3</td>\n",
              "      <td>4MGS</td>\n",
              "      <td>-160.161311</td>\n",
              "      <td>158.165350</td>\n",
              "      <td>144.003350</td>\n",
              "      <td>-98.027769</td>\n",
              "      <td>37</td>\n",
              "      <td>103</td>\n",
              "      <td>E</td>\n",
              "      <td>0</td>\n",
              "      <td>...</td>\n",
              "      <td>155.553624</td>\n",
              "      <td>77.846412</td>\n",
              "      <td>34.608278</td>\n",
              "      <td>56.152167</td>\n",
              "      <td>42.175209</td>\n",
              "      <td>49.241969</td>\n",
              "      <td>122.582962</td>\n",
              "      <td>65.583217</td>\n",
              "      <td>114.697208</td>\n",
              "      <td>48.315392</td>\n",
              "    </tr>\n",
              "    <tr>\n",
              "      <th>4</th>\n",
              "      <td>4</td>\n",
              "      <td>4MHP</td>\n",
              "      <td>-107.953693</td>\n",
              "      <td>143.417571</td>\n",
              "      <td>129.873796</td>\n",
              "      <td>143.114974</td>\n",
              "      <td>68</td>\n",
              "      <td>257</td>\n",
              "      <td>E</td>\n",
              "      <td>0</td>\n",
              "      <td>...</td>\n",
              "      <td>59.266282</td>\n",
              "      <td>62.025918</td>\n",
              "      <td>127.105162</td>\n",
              "      <td>59.040101</td>\n",
              "      <td>24.055904</td>\n",
              "      <td>60.401098</td>\n",
              "      <td>105.420630</td>\n",
              "      <td>66.244386</td>\n",
              "      <td>144.051586</td>\n",
              "      <td>87.993983</td>\n",
              "    </tr>\n",
              "  </tbody>\n",
              "</table>\n",
              "<p>5 rows × 300 columns</p>\n",
              "</div>"
            ],
            "text/plain": [
              "   Unnamed: 0 pbd_indx         phi         psi         tau       alpha  \\\n",
              "0           0     2BO5  -86.289060   80.129109   99.465397  124.766781   \n",
              "1           1     4ME2  -77.957307  111.602981  104.424973 -131.464192   \n",
              "2           2     4MFI -143.098602  122.209238  125.463285 -148.405833   \n",
              "3           3     4MGS -160.161311  158.165350  144.003350  -98.027769   \n",
              "4           4     4MHP -107.953693  143.417571  129.873796  143.114974   \n",
              "\n",
              "   ind_from_start  ind_from_end sec_structure  is_tail  ...     gamma14  \\\n",
              "0             117             2             -        1  ...   61.204178   \n",
              "1             156            37             -        0  ...  126.266483   \n",
              "2             271           131             -        0  ...   57.415362   \n",
              "3              37           103             E        0  ...  155.553624   \n",
              "4              68           257             E        0  ...   59.266282   \n",
              "\n",
              "     alpha15      beta15    gamma15    alpha16     beta16     gamma16  \\\n",
              "0  14.393570   78.214955  98.855541  20.018496  73.503805  109.185533   \n",
              "1  29.282810   81.599245  62.559622  49.301163  61.707781   54.498715   \n",
              "2  45.760690   55.458920  44.428799  18.474128  57.678291   98.011131   \n",
              "3  77.846412   34.608278  56.152167  42.175209  49.241969  122.582962   \n",
              "4  62.025918  127.105162  59.040101  24.055904  60.401098  105.420630   \n",
              "\n",
              "     alpha17      beta17     gamma17  \n",
              "0  14.096429   75.073150   78.408270  \n",
              "1  71.325172  157.876790   76.945032  \n",
              "2  64.440909   99.855009  118.466435  \n",
              "3  65.583217  114.697208   48.315392  \n",
              "4  66.244386  144.051586   87.993983  \n",
              "\n",
              "[5 rows x 300 columns]"
            ]
          },
          "execution_count": 4,
          "metadata": {},
          "output_type": "execute_result"
        }
      ],
      "source": [
        "df.head()"
      ]
    },
    {
      "cell_type": "markdown",
      "metadata": {
        "id": "rd6TB6tea6PV"
      },
      "source": [
        "Эта таблица содержит информацию о сэмплах одной аминокислоты. Для каждого сэмпла известны:\n",
        "- Значения всех двугранных углов $\\chi$;\n",
        "- Значения $\\phi, \\psi, \\alpha$ (двугранный угол, построенный по 4 последовательным атомам $C_\\alpha$);\n",
        "- Данные о 17 ближайших пространственных соседях:\n",
        "    - $\\phi, \\psi$;\n",
        "    - Названия аминокислот;\n",
        "    - Расстояние до целевой аминокислоты по $C_\\alpha$;\n",
        "    - Химические / физикохимические характеристики соседа: группы и точные значения некоторых характеристик;\n",
        "    - Дополнительные геометрические характеристики (относительно целевой аминокислоты)."
      ]
    },
    {
      "cell_type": "markdown",
      "metadata": {
        "id": "O3xrUJAXa6PV"
      },
      "source": [
        " "
      ]
    },
    {
      "cell_type": "markdown",
      "metadata": {
        "id": "aJ1ZIbB5a6PW"
      },
      "source": [
        " "
      ]
    },
    {
      "cell_type": "markdown",
      "metadata": {
        "id": "QuBxOeoEa6PW"
      },
      "source": [
        " "
      ]
    },
    {
      "cell_type": "markdown",
      "metadata": {
        "id": "BC6dO2j0a6PW"
      },
      "source": [
        " "
      ]
    },
    {
      "cell_type": "markdown",
      "metadata": {
        "id": "lXok2WGua6PX"
      },
      "source": [
        " "
      ]
    },
    {
      "cell_type": "markdown",
      "metadata": {
        "id": "jRWGMx-ua6PX"
      },
      "source": [
        "## Задание 1.2. Постройте гистограмму значений $\\chi_1$ из этой таблицы. Какие ротамеры выделяются на этой гистограмме?"
      ]
    },
    {
      "cell_type": "code",
      "execution_count": null,
      "metadata": {
        "id": "ed-uBQGla6PX"
      },
      "outputs": [],
      "source": [
        "import matplotlib.pyplot as plt"
      ]
    },
    {
      "cell_type": "code",
      "execution_count": null,
      "metadata": {
        "id": "ZhS5mYkSa6PY"
      },
      "outputs": [],
      "source": [
        "df = df[~np.isnan(df[\"chi_1\"])]"
      ]
    },
    {
      "cell_type": "code",
      "execution_count": null,
      "metadata": {
        "id": "8kog_M_wa6PY",
        "outputId": "5febc97d-e39f-4f82-960a-63c598daffd0"
      },
      "outputs": [
        {
          "data": {
            "image/png": "[encoded data removed]",
            "text/plain": [
              "<Figure size 1080x360 with 1 Axes>"
            ]
          },
          "metadata": {},
          "output_type": "display_data"
        }
      ],
      "source": [
        "plt.figure(figsize=(15,5))\n",
        "plt.hist(df[\"chi_1\"], bins=100)\n",
        "plt.show()"
      ]
    },
    {
      "cell_type": "markdown",
      "metadata": {
        "id": "RJd6e-JRa6PZ"
      },
      "source": [
        "Занесите обнаруженные ротамеры в список rotamers:"
      ]
    },
    {
      "cell_type": "code",
      "execution_count": null,
      "metadata": {
        "id": "ghVjFGVna6PZ"
      },
      "outputs": [],
      "source": [
        "rotamers = np.array([60, -60, 180])"
      ]
    },
    {
      "cell_type": "code",
      "execution_count": null,
      "metadata": {
        "id": "EtG15fODa6PZ",
        "outputId": "93689894-e1d2-4014-f946-bd82bcced6bb"
      },
      "outputs": [
        {
          "data": {
            "text/html": [
              "<div>\n",
              "<style scoped>\n",
              "    .dataframe tbody tr th:only-of-type {\n",
              "        vertical-align: middle;\n",
              "    }\n",
              "\n",
              "    .dataframe tbody tr th {\n",
              "        vertical-align: top;\n",
              "    }\n",
              "\n",
              "    .dataframe thead th {\n",
              "        text-align: right;\n",
              "    }\n",
              "</style>\n",
              "<table border=\"1\" class=\"dataframe\">\n",
              "  <thead>\n",
              "    <tr style=\"text-align: right;\">\n",
              "      <th></th>\n",
              "      <th>Unnamed: 0</th>\n",
              "      <th>pbd_indx</th>\n",
              "      <th>phi</th>\n",
              "      <th>psi</th>\n",
              "      <th>tau</th>\n",
              "      <th>alpha</th>\n",
              "      <th>ind_from_start</th>\n",
              "      <th>ind_from_end</th>\n",
              "      <th>sec_structure</th>\n",
              "      <th>is_tail</th>\n",
              "      <th>...</th>\n",
              "      <th>gamma14</th>\n",
              "      <th>alpha15</th>\n",
              "      <th>beta15</th>\n",
              "      <th>gamma15</th>\n",
              "      <th>alpha16</th>\n",
              "      <th>beta16</th>\n",
              "      <th>gamma16</th>\n",
              "      <th>alpha17</th>\n",
              "      <th>beta17</th>\n",
              "      <th>gamma17</th>\n",
              "    </tr>\n",
              "  </thead>\n",
              "  <tbody>\n",
              "    <tr>\n",
              "      <th>0</th>\n",
              "      <td>0</td>\n",
              "      <td>2BO5</td>\n",
              "      <td>-86.289060</td>\n",
              "      <td>80.129109</td>\n",
              "      <td>99.465397</td>\n",
              "      <td>124.766781</td>\n",
              "      <td>117</td>\n",
              "      <td>2</td>\n",
              "      <td>-</td>\n",
              "      <td>1</td>\n",
              "      <td>...</td>\n",
              "      <td>61.204178</td>\n",
              "      <td>14.393570</td>\n",
              "      <td>78.214955</td>\n",
              "      <td>98.855541</td>\n",
              "      <td>20.018496</td>\n",
              "      <td>73.503805</td>\n",
              "      <td>109.185533</td>\n",
              "      <td>14.096429</td>\n",
              "      <td>75.073150</td>\n",
              "      <td>78.408270</td>\n",
              "    </tr>\n",
              "    <tr>\n",
              "      <th>1</th>\n",
              "      <td>1</td>\n",
              "      <td>4ME2</td>\n",
              "      <td>-77.957307</td>\n",
              "      <td>111.602981</td>\n",
              "      <td>104.424973</td>\n",
              "      <td>-131.464192</td>\n",
              "      <td>156</td>\n",
              "      <td>37</td>\n",
              "      <td>-</td>\n",
              "      <td>0</td>\n",
              "      <td>...</td>\n",
              "      <td>126.266483</td>\n",
              "      <td>29.282810</td>\n",
              "      <td>81.599245</td>\n",
              "      <td>62.559622</td>\n",
              "      <td>49.301163</td>\n",
              "      <td>61.707781</td>\n",
              "      <td>54.498715</td>\n",
              "      <td>71.325172</td>\n",
              "      <td>157.876790</td>\n",
              "      <td>76.945032</td>\n",
              "    </tr>\n",
              "    <tr>\n",
              "      <th>2</th>\n",
              "      <td>2</td>\n",
              "      <td>4MFI</td>\n",
              "      <td>-143.098602</td>\n",
              "      <td>122.209238</td>\n",
              "      <td>125.463285</td>\n",
              "      <td>-148.405833</td>\n",
              "      <td>271</td>\n",
              "      <td>131</td>\n",
              "      <td>-</td>\n",
              "      <td>0</td>\n",
              "      <td>...</td>\n",
              "      <td>57.415362</td>\n",
              "      <td>45.760690</td>\n",
              "      <td>55.458920</td>\n",
              "      <td>44.428799</td>\n",
              "      <td>18.474128</td>\n",
              "      <td>57.678291</td>\n",
              "      <td>98.011131</td>\n",
              "      <td>64.440909</td>\n",
              "      <td>99.855009</td>\n",
              "      <td>118.466435</td>\n",
              "    </tr>\n",
              "    <tr>\n",
              "      <th>3</th>\n",
              "      <td>3</td>\n",
              "      <td>4MGS</td>\n",
              "      <td>-160.161311</td>\n",
              "      <td>158.165350</td>\n",
              "      <td>144.003350</td>\n",
              "      <td>-98.027769</td>\n",
              "      <td>37</td>\n",
              "      <td>103</td>\n",
              "      <td>E</td>\n",
              "      <td>0</td>\n",
              "      <td>...</td>\n",
              "      <td>155.553624</td>\n",
              "      <td>77.846412</td>\n",
              "      <td>34.608278</td>\n",
              "      <td>56.152167</td>\n",
              "      <td>42.175209</td>\n",
              "      <td>49.241969</td>\n",
              "      <td>122.582962</td>\n",
              "      <td>65.583217</td>\n",
              "      <td>114.697208</td>\n",
              "      <td>48.315392</td>\n",
              "    </tr>\n",
              "    <tr>\n",
              "      <th>4</th>\n",
              "      <td>4</td>\n",
              "      <td>4MHP</td>\n",
              "      <td>-107.953693</td>\n",
              "      <td>143.417571</td>\n",
              "      <td>129.873796</td>\n",
              "      <td>143.114974</td>\n",
              "      <td>68</td>\n",
              "      <td>257</td>\n",
              "      <td>E</td>\n",
              "      <td>0</td>\n",
              "      <td>...</td>\n",
              "      <td>59.266282</td>\n",
              "      <td>62.025918</td>\n",
              "      <td>127.105162</td>\n",
              "      <td>59.040101</td>\n",
              "      <td>24.055904</td>\n",
              "      <td>60.401098</td>\n",
              "      <td>105.420630</td>\n",
              "      <td>66.244386</td>\n",
              "      <td>144.051586</td>\n",
              "      <td>87.993983</td>\n",
              "    </tr>\n",
              "    <tr>\n",
              "      <th>...</th>\n",
              "      <td>...</td>\n",
              "      <td>...</td>\n",
              "      <td>...</td>\n",
              "      <td>...</td>\n",
              "      <td>...</td>\n",
              "      <td>...</td>\n",
              "      <td>...</td>\n",
              "      <td>...</td>\n",
              "      <td>...</td>\n",
              "      <td>...</td>\n",
              "      <td>...</td>\n",
              "      <td>...</td>\n",
              "      <td>...</td>\n",
              "      <td>...</td>\n",
              "      <td>...</td>\n",
              "      <td>...</td>\n",
              "      <td>...</td>\n",
              "      <td>...</td>\n",
              "      <td>...</td>\n",
              "      <td>...</td>\n",
              "      <td>...</td>\n",
              "    </tr>\n",
              "    <tr>\n",
              "      <th>15463</th>\n",
              "      <td>15463</td>\n",
              "      <td>6F4C</td>\n",
              "      <td>-106.276671</td>\n",
              "      <td>-167.476352</td>\n",
              "      <td>128.447587</td>\n",
              "      <td>-73.426788</td>\n",
              "      <td>247</td>\n",
              "      <td>115</td>\n",
              "      <td>S</td>\n",
              "      <td>0</td>\n",
              "      <td>...</td>\n",
              "      <td>68.856722</td>\n",
              "      <td>79.043717</td>\n",
              "      <td>85.993414</td>\n",
              "      <td>153.820477</td>\n",
              "      <td>19.282679</td>\n",
              "      <td>35.301877</td>\n",
              "      <td>95.432831</td>\n",
              "      <td>136.966767</td>\n",
              "      <td>151.772145</td>\n",
              "      <td>75.810080</td>\n",
              "    </tr>\n",
              "    <tr>\n",
              "      <th>15464</th>\n",
              "      <td>15464</td>\n",
              "      <td>6F4C</td>\n",
              "      <td>-145.828318</td>\n",
              "      <td>165.620016</td>\n",
              "      <td>146.456928</td>\n",
              "      <td>-133.776186</td>\n",
              "      <td>354</td>\n",
              "      <td>8</td>\n",
              "      <td>E</td>\n",
              "      <td>0</td>\n",
              "      <td>...</td>\n",
              "      <td>148.896375</td>\n",
              "      <td>31.947762</td>\n",
              "      <td>38.006489</td>\n",
              "      <td>119.390436</td>\n",
              "      <td>43.677530</td>\n",
              "      <td>28.470389</td>\n",
              "      <td>61.738046</td>\n",
              "      <td>32.592963</td>\n",
              "      <td>58.648027</td>\n",
              "      <td>60.712472</td>\n",
              "    </tr>\n",
              "    <tr>\n",
              "      <th>15465</th>\n",
              "      <td>15465</td>\n",
              "      <td>5X1X</td>\n",
              "      <td>-132.797209</td>\n",
              "      <td>141.296308</td>\n",
              "      <td>131.619612</td>\n",
              "      <td>173.489822</td>\n",
              "      <td>19</td>\n",
              "      <td>110</td>\n",
              "      <td>-</td>\n",
              "      <td>0</td>\n",
              "      <td>...</td>\n",
              "      <td>77.975174</td>\n",
              "      <td>24.713154</td>\n",
              "      <td>120.899457</td>\n",
              "      <td>113.611058</td>\n",
              "      <td>36.725367</td>\n",
              "      <td>97.409180</td>\n",
              "      <td>104.977890</td>\n",
              "      <td>108.753332</td>\n",
              "      <td>105.260271</td>\n",
              "      <td>45.556716</td>\n",
              "    </tr>\n",
              "    <tr>\n",
              "      <th>15466</th>\n",
              "      <td>15466</td>\n",
              "      <td>5X1X</td>\n",
              "      <td>-129.178042</td>\n",
              "      <td>179.085830</td>\n",
              "      <td>139.469126</td>\n",
              "      <td>-109.381260</td>\n",
              "      <td>59</td>\n",
              "      <td>70</td>\n",
              "      <td>S</td>\n",
              "      <td>0</td>\n",
              "      <td>...</td>\n",
              "      <td>100.318615</td>\n",
              "      <td>61.896144</td>\n",
              "      <td>136.217659</td>\n",
              "      <td>124.571258</td>\n",
              "      <td>57.396081</td>\n",
              "      <td>150.623348</td>\n",
              "      <td>78.470848</td>\n",
              "      <td>59.571626</td>\n",
              "      <td>56.132400</td>\n",
              "      <td>127.175390</td>\n",
              "    </tr>\n",
              "    <tr>\n",
              "      <th>15467</th>\n",
              "      <td>15467</td>\n",
              "      <td>5X1X</td>\n",
              "      <td>-110.139271</td>\n",
              "      <td>168.904980</td>\n",
              "      <td>133.049672</td>\n",
              "      <td>-136.847465</td>\n",
              "      <td>86</td>\n",
              "      <td>43</td>\n",
              "      <td>E</td>\n",
              "      <td>0</td>\n",
              "      <td>...</td>\n",
              "      <td>68.113857</td>\n",
              "      <td>79.875593</td>\n",
              "      <td>109.940753</td>\n",
              "      <td>158.836377</td>\n",
              "      <td>43.719918</td>\n",
              "      <td>71.170476</td>\n",
              "      <td>58.649011</td>\n",
              "      <td>92.125462</td>\n",
              "      <td>160.670310</td>\n",
              "      <td>105.120108</td>\n",
              "    </tr>\n",
              "  </tbody>\n",
              "</table>\n",
              "<p>15391 rows × 300 columns</p>\n",
              "</div>"
            ],
            "text/plain": [
              "       Unnamed: 0 pbd_indx         phi         psi         tau       alpha  \\\n",
              "0               0     2BO5  -86.289060   80.129109   99.465397  124.766781   \n",
              "1               1     4ME2  -77.957307  111.602981  104.424973 -131.464192   \n",
              "2               2     4MFI -143.098602  122.209238  125.463285 -148.405833   \n",
              "3               3     4MGS -160.161311  158.165350  144.003350  -98.027769   \n",
              "4               4     4MHP -107.953693  143.417571  129.873796  143.114974   \n",
              "...           ...      ...         ...         ...         ...         ...   \n",
              "15463       15463     6F4C -106.276671 -167.476352  128.447587  -73.426788   \n",
              "15464       15464     6F4C -145.828318  165.620016  146.456928 -133.776186   \n",
              "15465       15465     5X1X -132.797209  141.296308  131.619612  173.489822   \n",
              "15466       15466     5X1X -129.178042  179.085830  139.469126 -109.381260   \n",
              "15467       15467     5X1X -110.139271  168.904980  133.049672 -136.847465   \n",
              "\n",
              "       ind_from_start  ind_from_end sec_structure  is_tail  ...     gamma14  \\\n",
              "0                 117             2             -        1  ...   61.204178   \n",
              "1                 156            37             -        0  ...  126.266483   \n",
              "2                 271           131             -        0  ...   57.415362   \n",
              "3                  37           103             E        0  ...  155.553624   \n",
              "4                  68           257             E        0  ...   59.266282   \n",
              "...               ...           ...           ...      ...  ...         ...   \n",
              "15463             247           115             S        0  ...   68.856722   \n",
              "15464             354             8             E        0  ...  148.896375   \n",
              "15465              19           110             -        0  ...   77.975174   \n",
              "15466              59            70             S        0  ...  100.318615   \n",
              "15467              86            43             E        0  ...   68.113857   \n",
              "\n",
              "         alpha15      beta15     gamma15    alpha16      beta16     gamma16  \\\n",
              "0      14.393570   78.214955   98.855541  20.018496   73.503805  109.185533   \n",
              "1      29.282810   81.599245   62.559622  49.301163   61.707781   54.498715   \n",
              "2      45.760690   55.458920   44.428799  18.474128   57.678291   98.011131   \n",
              "3      77.846412   34.608278   56.152167  42.175209   49.241969  122.582962   \n",
              "4      62.025918  127.105162   59.040101  24.055904   60.401098  105.420630   \n",
              "...          ...         ...         ...        ...         ...         ...   \n",
              "15463  79.043717   85.993414  153.820477  19.282679   35.301877   95.432831   \n",
              "15464  31.947762   38.006489  119.390436  43.677530   28.470389   61.738046   \n",
              "15465  24.713154  120.899457  113.611058  36.725367   97.409180  104.977890   \n",
              "15466  61.896144  136.217659  124.571258  57.396081  150.623348   78.470848   \n",
              "15467  79.875593  109.940753  158.836377  43.719918   71.170476   58.649011   \n",
              "\n",
              "          alpha17      beta17     gamma17  \n",
              "0       14.096429   75.073150   78.408270  \n",
              "1       71.325172  157.876790   76.945032  \n",
              "2       64.440909   99.855009  118.466435  \n",
              "3       65.583217  114.697208   48.315392  \n",
              "4       66.244386  144.051586   87.993983  \n",
              "...           ...         ...         ...  \n",
              "15463  136.966767  151.772145   75.810080  \n",
              "15464   32.592963   58.648027   60.712472  \n",
              "15465  108.753332  105.260271   45.556716  \n",
              "15466   59.571626   56.132400  127.175390  \n",
              "15467   92.125462  160.670310  105.120108  \n",
              "\n",
              "[15391 rows x 300 columns]"
            ]
          },
          "execution_count": 34,
          "metadata": {},
          "output_type": "execute_result"
        }
      ],
      "source": [
        "df"
      ]
    },
    {
      "cell_type": "markdown",
      "metadata": {
        "id": "fdUfDoT1a6Pa"
      },
      "source": [
        " "
      ]
    },
    {
      "cell_type": "markdown",
      "metadata": {
        "id": "nazFrttpa6Pa"
      },
      "source": [
        " "
      ]
    },
    {
      "cell_type": "markdown",
      "metadata": {
        "id": "c6zSE8j0a6Pa"
      },
      "source": [
        " "
      ]
    },
    {
      "cell_type": "markdown",
      "metadata": {
        "id": "0JA0PUEva6Pa"
      },
      "source": [
        " "
      ]
    },
    {
      "cell_type": "markdown",
      "metadata": {
        "id": "a_UY27m7a6Pb"
      },
      "source": [
        " "
      ]
    },
    {
      "cell_type": "markdown",
      "metadata": {
        "id": "Olm55RnXa6Pb"
      },
      "source": [
        "## Задание 1.3. Давайте разберемся, как можно дискретизировать значения (разделить их на классы). Реализуйте функцию get_class(value, rotamers), которая возвращает индекс ротамера, к которому относится значение value."
      ]
    },
    {
      "cell_type": "markdown",
      "metadata": {
        "id": "-p0wJxora6Pb"
      },
      "source": [
        "**Комментарий**: стоит вычислять расстояние от value до каждого значения из rotamers. Но не забудьте, что с точки зрения окружности $-\\pi$ и $\\pi$ - одно и то же!"
      ]
    },
    {
      "cell_type": "code",
      "execution_count": null,
      "metadata": {
        "id": "-bTxFbXWa6Pb"
      },
      "outputs": [],
      "source": [
        "def get_class(value, rotamers):\n",
        "    diffs = np.abs(value - rotamers)\n",
        "    diffs = np.minimum(diffs, 360 - diffs)\n",
        "    return np.argmin(diffs)"
      ]
    },
    {
      "cell_type": "code",
      "execution_count": null,
      "metadata": {
        "id": "Gb4-tkb9a6Pc"
      },
      "outputs": [],
      "source": [
        "def get_class(value, rotamers):\n",
        "    diffs = np.abs(value - rotamers)\n",
        "    diffs = np.minimum(diffs, 360 - diffs)\n",
        "    return np.argmin(diffs)\n",
        "chi_class = []\n",
        "for val in df[\"chi_1\"]:\n",
        "    chi_class += [get_class(val, rotamers)]\n",
        "df.insert(1, 'chi_class', chi_class, allow_duplicates = False)"
      ]
    },
    {
      "cell_type": "code",
      "execution_count": null,
      "metadata": {
        "id": "odwEGrqEa6Pc",
        "outputId": "1ef3bebe-0a24-486f-c310-08395639c7b5"
      },
      "outputs": [
        {
          "data": {
            "text/html": [
              "<div>\n",
              "<style scoped>\n",
              "    .dataframe tbody tr th:only-of-type {\n",
              "        vertical-align: middle;\n",
              "    }\n",
              "\n",
              "    .dataframe tbody tr th {\n",
              "        vertical-align: top;\n",
              "    }\n",
              "\n",
              "    .dataframe thead th {\n",
              "        text-align: right;\n",
              "    }\n",
              "</style>\n",
              "<table border=\"1\" class=\"dataframe\">\n",
              "  <thead>\n",
              "    <tr style=\"text-align: right;\">\n",
              "      <th></th>\n",
              "      <th>Unnamed: 0</th>\n",
              "      <th>chi_class</th>\n",
              "      <th>pbd_indx</th>\n",
              "      <th>phi</th>\n",
              "      <th>psi</th>\n",
              "      <th>tau</th>\n",
              "      <th>alpha</th>\n",
              "      <th>ind_from_start</th>\n",
              "      <th>ind_from_end</th>\n",
              "      <th>sec_structure</th>\n",
              "      <th>...</th>\n",
              "      <th>gamma14</th>\n",
              "      <th>alpha15</th>\n",
              "      <th>beta15</th>\n",
              "      <th>gamma15</th>\n",
              "      <th>alpha16</th>\n",
              "      <th>beta16</th>\n",
              "      <th>gamma16</th>\n",
              "      <th>alpha17</th>\n",
              "      <th>beta17</th>\n",
              "      <th>gamma17</th>\n",
              "    </tr>\n",
              "  </thead>\n",
              "  <tbody>\n",
              "    <tr>\n",
              "      <th>0</th>\n",
              "      <td>0</td>\n",
              "      <td>0</td>\n",
              "      <td>2BO5</td>\n",
              "      <td>-86.289060</td>\n",
              "      <td>80.129109</td>\n",
              "      <td>99.465397</td>\n",
              "      <td>124.766781</td>\n",
              "      <td>117</td>\n",
              "      <td>2</td>\n",
              "      <td>-</td>\n",
              "      <td>...</td>\n",
              "      <td>61.204178</td>\n",
              "      <td>14.393570</td>\n",
              "      <td>78.214955</td>\n",
              "      <td>98.855541</td>\n",
              "      <td>20.018496</td>\n",
              "      <td>73.503805</td>\n",
              "      <td>109.185533</td>\n",
              "      <td>14.096429</td>\n",
              "      <td>75.073150</td>\n",
              "      <td>78.408270</td>\n",
              "    </tr>\n",
              "    <tr>\n",
              "      <th>1</th>\n",
              "      <td>1</td>\n",
              "      <td>2</td>\n",
              "      <td>4ME2</td>\n",
              "      <td>-77.957307</td>\n",
              "      <td>111.602981</td>\n",
              "      <td>104.424973</td>\n",
              "      <td>-131.464192</td>\n",
              "      <td>156</td>\n",
              "      <td>37</td>\n",
              "      <td>-</td>\n",
              "      <td>...</td>\n",
              "      <td>126.266483</td>\n",
              "      <td>29.282810</td>\n",
              "      <td>81.599245</td>\n",
              "      <td>62.559622</td>\n",
              "      <td>49.301163</td>\n",
              "      <td>61.707781</td>\n",
              "      <td>54.498715</td>\n",
              "      <td>71.325172</td>\n",
              "      <td>157.876790</td>\n",
              "      <td>76.945032</td>\n",
              "    </tr>\n",
              "    <tr>\n",
              "      <th>2</th>\n",
              "      <td>2</td>\n",
              "      <td>2</td>\n",
              "      <td>4MFI</td>\n",
              "      <td>-143.098602</td>\n",
              "      <td>122.209238</td>\n",
              "      <td>125.463285</td>\n",
              "      <td>-148.405833</td>\n",
              "      <td>271</td>\n",
              "      <td>131</td>\n",
              "      <td>-</td>\n",
              "      <td>...</td>\n",
              "      <td>57.415362</td>\n",
              "      <td>45.760690</td>\n",
              "      <td>55.458920</td>\n",
              "      <td>44.428799</td>\n",
              "      <td>18.474128</td>\n",
              "      <td>57.678291</td>\n",
              "      <td>98.011131</td>\n",
              "      <td>64.440909</td>\n",
              "      <td>99.855009</td>\n",
              "      <td>118.466435</td>\n",
              "    </tr>\n",
              "    <tr>\n",
              "      <th>3</th>\n",
              "      <td>3</td>\n",
              "      <td>0</td>\n",
              "      <td>4MGS</td>\n",
              "      <td>-160.161311</td>\n",
              "      <td>158.165350</td>\n",
              "      <td>144.003350</td>\n",
              "      <td>-98.027769</td>\n",
              "      <td>37</td>\n",
              "      <td>103</td>\n",
              "      <td>E</td>\n",
              "      <td>...</td>\n",
              "      <td>155.553624</td>\n",
              "      <td>77.846412</td>\n",
              "      <td>34.608278</td>\n",
              "      <td>56.152167</td>\n",
              "      <td>42.175209</td>\n",
              "      <td>49.241969</td>\n",
              "      <td>122.582962</td>\n",
              "      <td>65.583217</td>\n",
              "      <td>114.697208</td>\n",
              "      <td>48.315392</td>\n",
              "    </tr>\n",
              "    <tr>\n",
              "      <th>4</th>\n",
              "      <td>4</td>\n",
              "      <td>1</td>\n",
              "      <td>4MHP</td>\n",
              "      <td>-107.953693</td>\n",
              "      <td>143.417571</td>\n",
              "      <td>129.873796</td>\n",
              "      <td>143.114974</td>\n",
              "      <td>68</td>\n",
              "      <td>257</td>\n",
              "      <td>E</td>\n",
              "      <td>...</td>\n",
              "      <td>59.266282</td>\n",
              "      <td>62.025918</td>\n",
              "      <td>127.105162</td>\n",
              "      <td>59.040101</td>\n",
              "      <td>24.055904</td>\n",
              "      <td>60.401098</td>\n",
              "      <td>105.420630</td>\n",
              "      <td>66.244386</td>\n",
              "      <td>144.051586</td>\n",
              "      <td>87.993983</td>\n",
              "    </tr>\n",
              "    <tr>\n",
              "      <th>...</th>\n",
              "      <td>...</td>\n",
              "      <td>...</td>\n",
              "      <td>...</td>\n",
              "      <td>...</td>\n",
              "      <td>...</td>\n",
              "      <td>...</td>\n",
              "      <td>...</td>\n",
              "      <td>...</td>\n",
              "      <td>...</td>\n",
              "      <td>...</td>\n",
              "      <td>...</td>\n",
              "      <td>...</td>\n",
              "      <td>...</td>\n",
              "      <td>...</td>\n",
              "      <td>...</td>\n",
              "      <td>...</td>\n",
              "      <td>...</td>\n",
              "      <td>...</td>\n",
              "      <td>...</td>\n",
              "      <td>...</td>\n",
              "      <td>...</td>\n",
              "    </tr>\n",
              "    <tr>\n",
              "      <th>15463</th>\n",
              "      <td>15463</td>\n",
              "      <td>0</td>\n",
              "      <td>6F4C</td>\n",
              "      <td>-106.276671</td>\n",
              "      <td>-167.476352</td>\n",
              "      <td>128.447587</td>\n",
              "      <td>-73.426788</td>\n",
              "      <td>247</td>\n",
              "      <td>115</td>\n",
              "      <td>S</td>\n",
              "      <td>...</td>\n",
              "      <td>68.856722</td>\n",
              "      <td>79.043717</td>\n",
              "      <td>85.993414</td>\n",
              "      <td>153.820477</td>\n",
              "      <td>19.282679</td>\n",
              "      <td>35.301877</td>\n",
              "      <td>95.432831</td>\n",
              "      <td>136.966767</td>\n",
              "      <td>151.772145</td>\n",
              "      <td>75.810080</td>\n",
              "    </tr>\n",
              "    <tr>\n",
              "      <th>15464</th>\n",
              "      <td>15464</td>\n",
              "      <td>0</td>\n",
              "      <td>6F4C</td>\n",
              "      <td>-145.828318</td>\n",
              "      <td>165.620016</td>\n",
              "      <td>146.456928</td>\n",
              "      <td>-133.776186</td>\n",
              "      <td>354</td>\n",
              "      <td>8</td>\n",
              "      <td>E</td>\n",
              "      <td>...</td>\n",
              "      <td>148.896375</td>\n",
              "      <td>31.947762</td>\n",
              "      <td>38.006489</td>\n",
              "      <td>119.390436</td>\n",
              "      <td>43.677530</td>\n",
              "      <td>28.470389</td>\n",
              "      <td>61.738046</td>\n",
              "      <td>32.592963</td>\n",
              "      <td>58.648027</td>\n",
              "      <td>60.712472</td>\n",
              "    </tr>\n",
              "    <tr>\n",
              "      <th>15465</th>\n",
              "      <td>15465</td>\n",
              "      <td>2</td>\n",
              "      <td>5X1X</td>\n",
              "      <td>-132.797209</td>\n",
              "      <td>141.296308</td>\n",
              "      <td>131.619612</td>\n",
              "      <td>173.489822</td>\n",
              "      <td>19</td>\n",
              "      <td>110</td>\n",
              "      <td>-</td>\n",
              "      <td>...</td>\n",
              "      <td>77.975174</td>\n",
              "      <td>24.713154</td>\n",
              "      <td>120.899457</td>\n",
              "      <td>113.611058</td>\n",
              "      <td>36.725367</td>\n",
              "      <td>97.409180</td>\n",
              "      <td>104.977890</td>\n",
              "      <td>108.753332</td>\n",
              "      <td>105.260271</td>\n",
              "      <td>45.556716</td>\n",
              "    </tr>\n",
              "    <tr>\n",
              "      <th>15466</th>\n",
              "      <td>15466</td>\n",
              "      <td>2</td>\n",
              "      <td>5X1X</td>\n",
              "      <td>-129.178042</td>\n",
              "      <td>179.085830</td>\n",
              "      <td>139.469126</td>\n",
              "      <td>-109.381260</td>\n",
              "      <td>59</td>\n",
              "      <td>70</td>\n",
              "      <td>S</td>\n",
              "      <td>...</td>\n",
              "      <td>100.318615</td>\n",
              "      <td>61.896144</td>\n",
              "      <td>136.217659</td>\n",
              "      <td>124.571258</td>\n",
              "      <td>57.396081</td>\n",
              "      <td>150.623348</td>\n",
              "      <td>78.470848</td>\n",
              "      <td>59.571626</td>\n",
              "      <td>56.132400</td>\n",
              "      <td>127.175390</td>\n",
              "    </tr>\n",
              "    <tr>\n",
              "      <th>15467</th>\n",
              "      <td>15467</td>\n",
              "      <td>1</td>\n",
              "      <td>5X1X</td>\n",
              "      <td>-110.139271</td>\n",
              "      <td>168.904980</td>\n",
              "      <td>133.049672</td>\n",
              "      <td>-136.847465</td>\n",
              "      <td>86</td>\n",
              "      <td>43</td>\n",
              "      <td>E</td>\n",
              "      <td>...</td>\n",
              "      <td>68.113857</td>\n",
              "      <td>79.875593</td>\n",
              "      <td>109.940753</td>\n",
              "      <td>158.836377</td>\n",
              "      <td>43.719918</td>\n",
              "      <td>71.170476</td>\n",
              "      <td>58.649011</td>\n",
              "      <td>92.125462</td>\n",
              "      <td>160.670310</td>\n",
              "      <td>105.120108</td>\n",
              "    </tr>\n",
              "  </tbody>\n",
              "</table>\n",
              "<p>15391 rows × 301 columns</p>\n",
              "</div>"
            ],
            "text/plain": [
              "       Unnamed: 0  chi_class pbd_indx         phi         psi         tau  \\\n",
              "0               0          0     2BO5  -86.289060   80.129109   99.465397   \n",
              "1               1          2     4ME2  -77.957307  111.602981  104.424973   \n",
              "2               2          2     4MFI -143.098602  122.209238  125.463285   \n",
              "3               3          0     4MGS -160.161311  158.165350  144.003350   \n",
              "4               4          1     4MHP -107.953693  143.417571  129.873796   \n",
              "...           ...        ...      ...         ...         ...         ...   \n",
              "15463       15463          0     6F4C -106.276671 -167.476352  128.447587   \n",
              "15464       15464          0     6F4C -145.828318  165.620016  146.456928   \n",
              "15465       15465          2     5X1X -132.797209  141.296308  131.619612   \n",
              "15466       15466          2     5X1X -129.178042  179.085830  139.469126   \n",
              "15467       15467          1     5X1X -110.139271  168.904980  133.049672   \n",
              "\n",
              "            alpha  ind_from_start  ind_from_end sec_structure  ...  \\\n",
              "0      124.766781             117             2             -  ...   \n",
              "1     -131.464192             156            37             -  ...   \n",
              "2     -148.405833             271           131             -  ...   \n",
              "3      -98.027769              37           103             E  ...   \n",
              "4      143.114974              68           257             E  ...   \n",
              "...           ...             ...           ...           ...  ...   \n",
              "15463  -73.426788             247           115             S  ...   \n",
              "15464 -133.776186             354             8             E  ...   \n",
              "15465  173.489822              19           110             -  ...   \n",
              "15466 -109.381260              59            70             S  ...   \n",
              "15467 -136.847465              86            43             E  ...   \n",
              "\n",
              "          gamma14    alpha15      beta15     gamma15    alpha16      beta16  \\\n",
              "0       61.204178  14.393570   78.214955   98.855541  20.018496   73.503805   \n",
              "1      126.266483  29.282810   81.599245   62.559622  49.301163   61.707781   \n",
              "2       57.415362  45.760690   55.458920   44.428799  18.474128   57.678291   \n",
              "3      155.553624  77.846412   34.608278   56.152167  42.175209   49.241969   \n",
              "4       59.266282  62.025918  127.105162   59.040101  24.055904   60.401098   \n",
              "...           ...        ...         ...         ...        ...         ...   \n",
              "15463   68.856722  79.043717   85.993414  153.820477  19.282679   35.301877   \n",
              "15464  148.896375  31.947762   38.006489  119.390436  43.677530   28.470389   \n",
              "15465   77.975174  24.713154  120.899457  113.611058  36.725367   97.409180   \n",
              "15466  100.318615  61.896144  136.217659  124.571258  57.396081  150.623348   \n",
              "15467   68.113857  79.875593  109.940753  158.836377  43.719918   71.170476   \n",
              "\n",
              "          gamma16     alpha17      beta17     gamma17  \n",
              "0      109.185533   14.096429   75.073150   78.408270  \n",
              "1       54.498715   71.325172  157.876790   76.945032  \n",
              "2       98.011131   64.440909   99.855009  118.466435  \n",
              "3      122.582962   65.583217  114.697208   48.315392  \n",
              "4      105.420630   66.244386  144.051586   87.993983  \n",
              "...           ...         ...         ...         ...  \n",
              "15463   95.432831  136.966767  151.772145   75.810080  \n",
              "15464   61.738046   32.592963   58.648027   60.712472  \n",
              "15465  104.977890  108.753332  105.260271   45.556716  \n",
              "15466   78.470848   59.571626   56.132400  127.175390  \n",
              "15467   58.649011   92.125462  160.670310  105.120108  \n",
              "\n",
              "[15391 rows x 301 columns]"
            ]
          },
          "execution_count": 58,
          "metadata": {},
          "output_type": "execute_result"
        }
      ],
      "source": [
        "df"
      ]
    },
    {
      "cell_type": "code",
      "execution_count": null,
      "metadata": {
        "id": "jXF0oEeAa6Pd"
      },
      "outputs": [],
      "source": [
        "chi_class = []\n",
        "for val in df[\"chi_1\"]:\n",
        "    chi_class += [get_class(val, rotamers)]\n"
      ]
    },
    {
      "cell_type": "code",
      "execution_count": null,
      "metadata": {
        "id": "IdvjKXfOa6Pf"
      },
      "outputs": [],
      "source": [
        "from statsmodels.regression.linear_model import OLS\n",
        "from statsmodels.tools.tools import add_constant\n",
        "from statsmodels.stats.outliers_influence import variance_inflation_factor\n",
        "import statsmodels.api as sm\n",
        "\n",
        "def ex_10(sample):\n",
        "    print(\"Mультиколлинеарность в данных с помощью корреляционной матрицы:\")\n",
        "    print(sample.corr())  \n",
        "    sample_plot = sns.heatmap(sample.corr(), cmap=\"YlGnBu\", annot=True)  \n",
        "    plt.show()\n",
        "    print(\"Mультиколлинеарность в данных с помощью фактора инфляции дисперсии:\")\n",
        "    sample_constant = sm.add_constant(sample)\n",
        "\n",
        "    vif = [variance_inflation_factor(sample_constant.values, i) for i in range(sample_constant.shape[1])]\n",
        "    print(pd.DataFrame({'vif': vif[1:]}, index=sample.columns).T)"
      ]
    },
    {
      "cell_type": "code",
      "execution_count": null,
      "metadata": {
        "id": "Fw4dvS51a6Pg",
        "outputId": "f2270816-efef-454f-98d5-5320a6270541"
      },
      "outputs": [
        {
          "data": {
            "text/html": [
              "<div>\n",
              "<style scoped>\n",
              "    .dataframe tbody tr th:only-of-type {\n",
              "        vertical-align: middle;\n",
              "    }\n",
              "\n",
              "    .dataframe tbody tr th {\n",
              "        vertical-align: top;\n",
              "    }\n",
              "\n",
              "    .dataframe thead th {\n",
              "        text-align: right;\n",
              "    }\n",
              "</style>\n",
              "<table border=\"1\" class=\"dataframe\">\n",
              "  <thead>\n",
              "    <tr style=\"text-align: right;\">\n",
              "      <th></th>\n",
              "      <th>Unnamed: 0</th>\n",
              "      <th>pbd_indx</th>\n",
              "      <th>phi</th>\n",
              "      <th>psi</th>\n",
              "      <th>tau</th>\n",
              "      <th>alpha</th>\n",
              "      <th>ind_from_start</th>\n",
              "      <th>ind_from_end</th>\n",
              "      <th>sec_structure</th>\n",
              "      <th>is_tail</th>\n",
              "      <th>...</th>\n",
              "      <th>gamma14</th>\n",
              "      <th>alpha15</th>\n",
              "      <th>beta15</th>\n",
              "      <th>gamma15</th>\n",
              "      <th>alpha16</th>\n",
              "      <th>beta16</th>\n",
              "      <th>gamma16</th>\n",
              "      <th>alpha17</th>\n",
              "      <th>beta17</th>\n",
              "      <th>gamma17</th>\n",
              "    </tr>\n",
              "  </thead>\n",
              "  <tbody>\n",
              "    <tr>\n",
              "      <th>0</th>\n",
              "      <td>0</td>\n",
              "      <td>2BO5</td>\n",
              "      <td>-86.289060</td>\n",
              "      <td>80.129109</td>\n",
              "      <td>99.465397</td>\n",
              "      <td>124.766781</td>\n",
              "      <td>117</td>\n",
              "      <td>2</td>\n",
              "      <td>-</td>\n",
              "      <td>1</td>\n",
              "      <td>...</td>\n",
              "      <td>61.204178</td>\n",
              "      <td>14.393570</td>\n",
              "      <td>78.214955</td>\n",
              "      <td>98.855541</td>\n",
              "      <td>20.018496</td>\n",
              "      <td>73.503805</td>\n",
              "      <td>109.185533</td>\n",
              "      <td>14.096429</td>\n",
              "      <td>75.073150</td>\n",
              "      <td>78.408270</td>\n",
              "    </tr>\n",
              "    <tr>\n",
              "      <th>1</th>\n",
              "      <td>1</td>\n",
              "      <td>4ME2</td>\n",
              "      <td>-77.957307</td>\n",
              "      <td>111.602981</td>\n",
              "      <td>104.424973</td>\n",
              "      <td>-131.464192</td>\n",
              "      <td>156</td>\n",
              "      <td>37</td>\n",
              "      <td>-</td>\n",
              "      <td>0</td>\n",
              "      <td>...</td>\n",
              "      <td>126.266483</td>\n",
              "      <td>29.282810</td>\n",
              "      <td>81.599245</td>\n",
              "      <td>62.559622</td>\n",
              "      <td>49.301163</td>\n",
              "      <td>61.707781</td>\n",
              "      <td>54.498715</td>\n",
              "      <td>71.325172</td>\n",
              "      <td>157.876790</td>\n",
              "      <td>76.945032</td>\n",
              "    </tr>\n",
              "    <tr>\n",
              "      <th>2</th>\n",
              "      <td>2</td>\n",
              "      <td>4MFI</td>\n",
              "      <td>-143.098602</td>\n",
              "      <td>122.209238</td>\n",
              "      <td>125.463285</td>\n",
              "      <td>-148.405833</td>\n",
              "      <td>271</td>\n",
              "      <td>131</td>\n",
              "      <td>-</td>\n",
              "      <td>0</td>\n",
              "      <td>...</td>\n",
              "      <td>57.415362</td>\n",
              "      <td>45.760690</td>\n",
              "      <td>55.458920</td>\n",
              "      <td>44.428799</td>\n",
              "      <td>18.474128</td>\n",
              "      <td>57.678291</td>\n",
              "      <td>98.011131</td>\n",
              "      <td>64.440909</td>\n",
              "      <td>99.855009</td>\n",
              "      <td>118.466435</td>\n",
              "    </tr>\n",
              "    <tr>\n",
              "      <th>3</th>\n",
              "      <td>3</td>\n",
              "      <td>4MGS</td>\n",
              "      <td>-160.161311</td>\n",
              "      <td>158.165350</td>\n",
              "      <td>144.003350</td>\n",
              "      <td>-98.027769</td>\n",
              "      <td>37</td>\n",
              "      <td>103</td>\n",
              "      <td>E</td>\n",
              "      <td>0</td>\n",
              "      <td>...</td>\n",
              "      <td>155.553624</td>\n",
              "      <td>77.846412</td>\n",
              "      <td>34.608278</td>\n",
              "      <td>56.152167</td>\n",
              "      <td>42.175209</td>\n",
              "      <td>49.241969</td>\n",
              "      <td>122.582962</td>\n",
              "      <td>65.583217</td>\n",
              "      <td>114.697208</td>\n",
              "      <td>48.315392</td>\n",
              "    </tr>\n",
              "    <tr>\n",
              "      <th>4</th>\n",
              "      <td>4</td>\n",
              "      <td>4MHP</td>\n",
              "      <td>-107.953693</td>\n",
              "      <td>143.417571</td>\n",
              "      <td>129.873796</td>\n",
              "      <td>143.114974</td>\n",
              "      <td>68</td>\n",
              "      <td>257</td>\n",
              "      <td>E</td>\n",
              "      <td>0</td>\n",
              "      <td>...</td>\n",
              "      <td>59.266282</td>\n",
              "      <td>62.025918</td>\n",
              "      <td>127.105162</td>\n",
              "      <td>59.040101</td>\n",
              "      <td>24.055904</td>\n",
              "      <td>60.401098</td>\n",
              "      <td>105.420630</td>\n",
              "      <td>66.244386</td>\n",
              "      <td>144.051586</td>\n",
              "      <td>87.993983</td>\n",
              "    </tr>\n",
              "    <tr>\n",
              "      <th>...</th>\n",
              "      <td>...</td>\n",
              "      <td>...</td>\n",
              "      <td>...</td>\n",
              "      <td>...</td>\n",
              "      <td>...</td>\n",
              "      <td>...</td>\n",
              "      <td>...</td>\n",
              "      <td>...</td>\n",
              "      <td>...</td>\n",
              "      <td>...</td>\n",
              "      <td>...</td>\n",
              "      <td>...</td>\n",
              "      <td>...</td>\n",
              "      <td>...</td>\n",
              "      <td>...</td>\n",
              "      <td>...</td>\n",
              "      <td>...</td>\n",
              "      <td>...</td>\n",
              "      <td>...</td>\n",
              "      <td>...</td>\n",
              "      <td>...</td>\n",
              "    </tr>\n",
              "    <tr>\n",
              "      <th>15463</th>\n",
              "      <td>15463</td>\n",
              "      <td>6F4C</td>\n",
              "      <td>-106.276671</td>\n",
              "      <td>-167.476352</td>\n",
              "      <td>128.447587</td>\n",
              "      <td>-73.426788</td>\n",
              "      <td>247</td>\n",
              "      <td>115</td>\n",
              "      <td>S</td>\n",
              "      <td>0</td>\n",
              "      <td>...</td>\n",
              "      <td>68.856722</td>\n",
              "      <td>79.043717</td>\n",
              "      <td>85.993414</td>\n",
              "      <td>153.820477</td>\n",
              "      <td>19.282679</td>\n",
              "      <td>35.301877</td>\n",
              "      <td>95.432831</td>\n",
              "      <td>136.966767</td>\n",
              "      <td>151.772145</td>\n",
              "      <td>75.810080</td>\n",
              "    </tr>\n",
              "    <tr>\n",
              "      <th>15464</th>\n",
              "      <td>15464</td>\n",
              "      <td>6F4C</td>\n",
              "      <td>-145.828318</td>\n",
              "      <td>165.620016</td>\n",
              "      <td>146.456928</td>\n",
              "      <td>-133.776186</td>\n",
              "      <td>354</td>\n",
              "      <td>8</td>\n",
              "      <td>E</td>\n",
              "      <td>0</td>\n",
              "      <td>...</td>\n",
              "      <td>148.896375</td>\n",
              "      <td>31.947762</td>\n",
              "      <td>38.006489</td>\n",
              "      <td>119.390436</td>\n",
              "      <td>43.677530</td>\n",
              "      <td>28.470389</td>\n",
              "      <td>61.738046</td>\n",
              "      <td>32.592963</td>\n",
              "      <td>58.648027</td>\n",
              "      <td>60.712472</td>\n",
              "    </tr>\n",
              "    <tr>\n",
              "      <th>15465</th>\n",
              "      <td>15465</td>\n",
              "      <td>5X1X</td>\n",
              "      <td>-132.797209</td>\n",
              "      <td>141.296308</td>\n",
              "      <td>131.619612</td>\n",
              "      <td>173.489822</td>\n",
              "      <td>19</td>\n",
              "      <td>110</td>\n",
              "      <td>-</td>\n",
              "      <td>0</td>\n",
              "      <td>...</td>\n",
              "      <td>77.975174</td>\n",
              "      <td>24.713154</td>\n",
              "      <td>120.899457</td>\n",
              "      <td>113.611058</td>\n",
              "      <td>36.725367</td>\n",
              "      <td>97.409180</td>\n",
              "      <td>104.977890</td>\n",
              "      <td>108.753332</td>\n",
              "      <td>105.260271</td>\n",
              "      <td>45.556716</td>\n",
              "    </tr>\n",
              "    <tr>\n",
              "      <th>15466</th>\n",
              "      <td>15466</td>\n",
              "      <td>5X1X</td>\n",
              "      <td>-129.178042</td>\n",
              "      <td>179.085830</td>\n",
              "      <td>139.469126</td>\n",
              "      <td>-109.381260</td>\n",
              "      <td>59</td>\n",
              "      <td>70</td>\n",
              "      <td>S</td>\n",
              "      <td>0</td>\n",
              "      <td>...</td>\n",
              "      <td>100.318615</td>\n",
              "      <td>61.896144</td>\n",
              "      <td>136.217659</td>\n",
              "      <td>124.571258</td>\n",
              "      <td>57.396081</td>\n",
              "      <td>150.623348</td>\n",
              "      <td>78.470848</td>\n",
              "      <td>59.571626</td>\n",
              "      <td>56.132400</td>\n",
              "      <td>127.175390</td>\n",
              "    </tr>\n",
              "    <tr>\n",
              "      <th>15467</th>\n",
              "      <td>15467</td>\n",
              "      <td>5X1X</td>\n",
              "      <td>-110.139271</td>\n",
              "      <td>168.904980</td>\n",
              "      <td>133.049672</td>\n",
              "      <td>-136.847465</td>\n",
              "      <td>86</td>\n",
              "      <td>43</td>\n",
              "      <td>E</td>\n",
              "      <td>0</td>\n",
              "      <td>...</td>\n",
              "      <td>68.113857</td>\n",
              "      <td>79.875593</td>\n",
              "      <td>109.940753</td>\n",
              "      <td>158.836377</td>\n",
              "      <td>43.719918</td>\n",
              "      <td>71.170476</td>\n",
              "      <td>58.649011</td>\n",
              "      <td>92.125462</td>\n",
              "      <td>160.670310</td>\n",
              "      <td>105.120108</td>\n",
              "    </tr>\n",
              "  </tbody>\n",
              "</table>\n",
              "<p>15391 rows × 300 columns</p>\n",
              "</div>"
            ],
            "text/plain": [
              "       Unnamed: 0 pbd_indx         phi         psi         tau       alpha  \\\n",
              "0               0     2BO5  -86.289060   80.129109   99.465397  124.766781   \n",
              "1               1     4ME2  -77.957307  111.602981  104.424973 -131.464192   \n",
              "2               2     4MFI -143.098602  122.209238  125.463285 -148.405833   \n",
              "3               3     4MGS -160.161311  158.165350  144.003350  -98.027769   \n",
              "4               4     4MHP -107.953693  143.417571  129.873796  143.114974   \n",
              "...           ...      ...         ...         ...         ...         ...   \n",
              "15463       15463     6F4C -106.276671 -167.476352  128.447587  -73.426788   \n",
              "15464       15464     6F4C -145.828318  165.620016  146.456928 -133.776186   \n",
              "15465       15465     5X1X -132.797209  141.296308  131.619612  173.489822   \n",
              "15466       15466     5X1X -129.178042  179.085830  139.469126 -109.381260   \n",
              "15467       15467     5X1X -110.139271  168.904980  133.049672 -136.847465   \n",
              "\n",
              "       ind_from_start  ind_from_end sec_structure  is_tail  ...     gamma14  \\\n",
              "0                 117             2             -        1  ...   61.204178   \n",
              "1                 156            37             -        0  ...  126.266483   \n",
              "2                 271           131             -        0  ...   57.415362   \n",
              "3                  37           103             E        0  ...  155.553624   \n",
              "4                  68           257             E        0  ...   59.266282   \n",
              "...               ...           ...           ...      ...  ...         ...   \n",
              "15463             247           115             S        0  ...   68.856722   \n",
              "15464             354             8             E        0  ...  148.896375   \n",
              "15465              19           110             -        0  ...   77.975174   \n",
              "15466              59            70             S        0  ...  100.318615   \n",
              "15467              86            43             E        0  ...   68.113857   \n",
              "\n",
              "         alpha15      beta15     gamma15    alpha16      beta16     gamma16  \\\n",
              "0      14.393570   78.214955   98.855541  20.018496   73.503805  109.185533   \n",
              "1      29.282810   81.599245   62.559622  49.301163   61.707781   54.498715   \n",
              "2      45.760690   55.458920   44.428799  18.474128   57.678291   98.011131   \n",
              "3      77.846412   34.608278   56.152167  42.175209   49.241969  122.582962   \n",
              "4      62.025918  127.105162   59.040101  24.055904   60.401098  105.420630   \n",
              "...          ...         ...         ...        ...         ...         ...   \n",
              "15463  79.043717   85.993414  153.820477  19.282679   35.301877   95.432831   \n",
              "15464  31.947762   38.006489  119.390436  43.677530   28.470389   61.738046   \n",
              "15465  24.713154  120.899457  113.611058  36.725367   97.409180  104.977890   \n",
              "15466  61.896144  136.217659  124.571258  57.396081  150.623348   78.470848   \n",
              "15467  79.875593  109.940753  158.836377  43.719918   71.170476   58.649011   \n",
              "\n",
              "          alpha17      beta17     gamma17  \n",
              "0       14.096429   75.073150   78.408270  \n",
              "1       71.325172  157.876790   76.945032  \n",
              "2       64.440909   99.855009  118.466435  \n",
              "3       65.583217  114.697208   48.315392  \n",
              "4       66.244386  144.051586   87.993983  \n",
              "...           ...         ...         ...  \n",
              "15463  136.966767  151.772145   75.810080  \n",
              "15464   32.592963   58.648027   60.712472  \n",
              "15465  108.753332  105.260271   45.556716  \n",
              "15466   59.571626   56.132400  127.175390  \n",
              "15467   92.125462  160.670310  105.120108  \n",
              "\n",
              "[15391 rows x 300 columns]"
            ]
          },
          "execution_count": 35,
          "metadata": {},
          "output_type": "execute_result"
        }
      ],
      "source": [
        "df"
      ]
    },
    {
      "cell_type": "markdown",
      "metadata": {
        "id": "FjOz99fZa6Pg"
      },
      "source": [
        " "
      ]
    },
    {
      "cell_type": "markdown",
      "metadata": {
        "id": "a2SefVvFa6Ph"
      },
      "source": [
        " "
      ]
    },
    {
      "cell_type": "markdown",
      "metadata": {
        "id": "htAIG1Dfa6Ph"
      },
      "source": [
        " "
      ]
    },
    {
      "cell_type": "markdown",
      "metadata": {
        "id": "KoFlqRYua6Ph"
      },
      "source": [
        " "
      ]
    },
    {
      "cell_type": "markdown",
      "metadata": {
        "id": "2FSzmx31a6Ph"
      },
      "source": [
        " "
      ]
    },
    {
      "cell_type": "markdown",
      "metadata": {
        "id": "MJWmUicXa6Pi"
      },
      "source": [
        " "
      ]
    },
    {
      "cell_type": "markdown",
      "metadata": {
        "id": "67nmu5aNa6Pi"
      },
      "source": [
        "## Задание 1.4. Теперь мы умеем делить значения $\\chi_1$ на классы, т.е. можем понять, к какому ротамеру относится то или иное значение.\n",
        "Реализуем первую часть подхода Dunbrack. Шаги:\n",
        "- Разделить карту Рамачандрана на блоки $20 x 20$. Для каждого блока нужно найти те сэмплы из выборки, которые входят в него.\n",
        "- Для всех найденных сэмплов нужно получить индексы классов; после этого выбрать класс, встречающийся чаще всего, и сохранить его в соответствующую ячейку матрицы **most_common_rotamers**.\n",
        "    - Если получилось меньше 10 значений для некоторого блока, нужно получить наиболее частый класс для всей выборки."
      ]
    },
    {
      "cell_type": "code",
      "execution_count": null,
      "metadata": {
        "id": "MwMcPwmHa6Pi"
      },
      "outputs": [],
      "source": [
        "all_rots = [get_class(val, rotamers) for val in df[\"chi_1\"]]\n",
        "all_un_rots, all_un_cnts = np.unique(all_rots, return_counts=True)\n",
        "\n",
        "most_common = all_un_rots[np.argmax(all_un_cnts)]"
      ]
    },
    {
      "cell_type": "code",
      "execution_count": null,
      "metadata": {
        "id": "c-IAQGjsa6Pj",
        "outputId": "e41d7103-6475-4c65-a72a-3fa19fd94bf8"
      },
      "outputs": [
        {
          "data": {
            "text/plain": [
              "1"
            ]
          },
          "execution_count": 16,
          "metadata": {},
          "output_type": "execute_result"
        }
      ],
      "source": [
        "most_common"
      ]
    },
    {
      "cell_type": "code",
      "execution_count": null,
      "metadata": {
        "id": "o8Yi_IL0a6Pj"
      },
      "outputs": [],
      "source": [
        "most_common_rotamers = np.full((18, 18), np.nan)\n",
        "for phi_ind in range(18):\n",
        "    phi_st = -180 + 20 * phi_ind\n",
        "    phi_end = -180 + 20 * (phi_ind + 1)\n",
        "    for psi_ind in range(18):\n",
        "        psi_st = -180 + 20 * psi_ind\n",
        "        psi_end = -180 + 20 * (psi_ind + 1)\n",
        "        \n",
        "        loc_data = df[(df[\"phi\"] >= phi_st) & (df[\"phi\"] < phi_end) & \n",
        "                      (df[\"psi\"] >= psi_st) & (df[\"psi\"] < psi_end)]\n",
        "        if loc_data.shape[0] < 10:\n",
        "            most_common_rotamers[psi_ind, phi_ind] = most_common\n",
        "        else:\n",
        "            loc_rots = [get_class(val, rotamers) \n",
        "                        for val in loc_data[\"chi_1\"]]\n",
        "            loc_un_rots, loc_un_cnts = np.unique(loc_rots, \n",
        "                                                 return_counts=True)\n",
        "            most_common_rotamers[psi_ind, phi_ind] = loc_un_rots[np.argmax(loc_un_cnts)]\n",
        "            "
      ]
    },
    {
      "cell_type": "markdown",
      "metadata": {
        "id": "kfM7kSWQa6Pk"
      },
      "source": [
        "Отобразите получившуюся матрицу с помощью plt.imshow: "
      ]
    },
    {
      "cell_type": "code",
      "execution_count": null,
      "metadata": {
        "id": "xvDBInJNa6Pk",
        "outputId": "476aab5b-1f5d-456e-8b92-e6668cfe339a"
      },
      "outputs": [
        {
          "data": {
            "image/png": "[encoded data removed]",
            "text/plain": [
              "<Figure size 432x288 with 2 Axes>"
            ]
          },
          "metadata": {},
          "output_type": "display_data"
        }
      ],
      "source": [
        "plt.imshow(most_common_rotamers)\n",
        "\n",
        "plt.colorbar()\n",
        "plt.show()"
      ]
    },
    {
      "cell_type": "markdown",
      "metadata": {
        "id": "4Iev8dfXa6Pk"
      },
      "source": [
        "Какие выводы можно сделать на основании изображения выше? Можно ли сказать, что какой-то ротамер характерен для определенной вторичной структуры?"
      ]
    },
    {
      "cell_type": "markdown",
      "metadata": {
        "id": "Pp5rqJ2Oa6Pl"
      },
      "source": [
        "# $\\rightarrow$ Ваши идеи 🙂"
      ]
    },
    {
      "cell_type": "markdown",
      "metadata": {
        "id": "syENrGcYa6Pm"
      },
      "source": [
        "## Задание 1.5. А насколько вообще состоятелен подход к поиску пересечений, основанный на энергии van der Waals?"
      ]
    },
    {
      "cell_type": "markdown",
      "metadata": {
        "id": "LGWTLIWYa6Pm"
      },
      "source": [
        "Давайте возьмем достаточно длинный белок $1Z87$, откроем его и изучим:"
      ]
    },
    {
      "cell_type": "code",
      "execution_count": null,
      "metadata": {
        "id": "MX45UpB7a6Pn"
      },
      "outputs": [],
      "source": [
        "import Bio.PDB as pdb"
      ]
    },
    {
      "cell_type": "code",
      "execution_count": null,
      "metadata": {
        "id": "-reb-qXUa6Pn",
        "outputId": "082652f4-cf45-48d4-d40f-753e74edaf94"
      },
      "outputs": [
        {
          "name": "stdout",
          "output_type": "stream",
          "text": [
            "Downloading PDB structure '1z87'...\n"
          ]
        }
      ],
      "source": [
        "path = pdb.PDBList().retrieve_pdb_file(\"1z87\", \n",
        "                                       file_format=\"pdb\")\n",
        "struct = pdb.PDBParser().get_structure(\"s\", path)"
      ]
    },
    {
      "cell_type": "markdown",
      "metadata": {
        "id": "ALZFLSLpa6Po"
      },
      "source": [
        " "
      ]
    },
    {
      "cell_type": "markdown",
      "metadata": {
        "id": "75_JWCwUa6Po"
      },
      "source": [
        "Получите 0-ую цепочку этого белка, найдите в ней индексы всех цистеинов (CYS):"
      ]
    },
    {
      "cell_type": "code",
      "execution_count": null,
      "metadata": {
        "id": "T-xsgUm3a6Pp",
        "outputId": "edf2f147-676e-428a-96fb-1e415c6abbff"
      },
      "outputs": [
        {
          "data": {
            "text/plain": [
              "[15, 218, 231]"
            ]
          },
          "execution_count": 21,
          "metadata": {},
          "output_type": "execute_result"
        }
      ],
      "source": [
        "chain = struct[0].child_list[0]\n",
        "residues = chain.child_list\n",
        "cys_inds = [i for i in range(len(chain)) \n",
        "            if residues[i].resname == \"CYS\"]\n",
        "\n",
        "cys_inds"
      ]
    },
    {
      "cell_type": "markdown",
      "metadata": {
        "id": "xMMBE2PPa6Pp"
      },
      "source": [
        " "
      ]
    },
    {
      "cell_type": "markdown",
      "metadata": {
        "id": "7KpTUEHDa6Pp"
      },
      "source": [
        " "
      ]
    },
    {
      "cell_type": "markdown",
      "metadata": {
        "id": "pHyJWdVga6Pp"
      },
      "source": [
        " "
      ]
    },
    {
      "cell_type": "markdown",
      "metadata": {
        "id": "zY1WHdbfa6Pq"
      },
      "source": [
        "Выберите первый найденный цистеин. Будем менять для него угол $\\chi_1$ и смотреть, как будет меняться энергия ван дер Ваальса при взаимодействии с другими атомами.\n",
        "\n",
        "$U_{LJ} = 4 \\cdot \\epsilon \\cdot [(\\frac{r_{min}}{r})^{12} - 2 \\cdot (\\frac{r_{min}}{r})^6]$"
      ]
    },
    {
      "cell_type": "code",
      "execution_count": null,
      "metadata": {
        "id": "dO5N9wHHa6Pq",
        "outputId": "759b10c0-1582-4fcf-8a7f-79f4fbdfd63a"
      },
      "outputs": [
        {
          "data": {
            "text/html": [
              "<div>\n",
              "<style scoped>\n",
              "    .dataframe tbody tr th:only-of-type {\n",
              "        vertical-align: middle;\n",
              "    }\n",
              "\n",
              "    .dataframe tbody tr th {\n",
              "        vertical-align: top;\n",
              "    }\n",
              "\n",
              "    .dataframe thead th {\n",
              "        text-align: right;\n",
              "    }\n",
              "</style>\n",
              "<table border=\"1\" class=\"dataframe\">\n",
              "  <thead>\n",
              "    <tr style=\"text-align: right;\">\n",
              "      <th></th>\n",
              "      <th>atom_pair</th>\n",
              "      <th>reqm</th>\n",
              "      <th>eps</th>\n",
              "    </tr>\n",
              "  </thead>\n",
              "  <tbody>\n",
              "    <tr>\n",
              "      <th>0</th>\n",
              "      <td>C-C</td>\n",
              "      <td>4</td>\n",
              "      <td>0,15</td>\n",
              "    </tr>\n",
              "    <tr>\n",
              "      <th>1</th>\n",
              "      <td>C-N</td>\n",
              "      <td>3,75</td>\n",
              "      <td>0,155</td>\n",
              "    </tr>\n",
              "    <tr>\n",
              "      <th>2</th>\n",
              "      <td>C-O</td>\n",
              "      <td>3,6</td>\n",
              "      <td>0,173</td>\n",
              "    </tr>\n",
              "    <tr>\n",
              "      <th>3</th>\n",
              "      <td>C-S</td>\n",
              "      <td>4</td>\n",
              "      <td>0,173</td>\n",
              "    </tr>\n",
              "    <tr>\n",
              "      <th>4</th>\n",
              "      <td>C-H</td>\n",
              "      <td>3</td>\n",
              "      <td>0,055</td>\n",
              "    </tr>\n",
              "  </tbody>\n",
              "</table>\n",
              "</div>"
            ],
            "text/plain": [
              "  atom_pair  reqm    eps\n",
              "0       C-C     4   0,15\n",
              "1       C-N  3,75  0,155\n",
              "2       C-O   3,6  0,173\n",
              "3       C-S     4  0,173\n",
              "4       C-H     3  0,055"
            ]
          },
          "execution_count": 22,
          "metadata": {},
          "output_type": "execute_result"
        }
      ],
      "source": [
        "lj_coeffs = pd.read_csv(\"lennard-jones_12-6.csv\", delimiter=\"\\t\")\n",
        "lj_coeffs.head()"
      ]
    },
    {
      "cell_type": "code",
      "execution_count": null,
      "metadata": {
        "id": "4Av0Og_Pa6Pq"
      },
      "outputs": [],
      "source": [
        "def van_der_Waals(d, d_m, eps):\n",
        "    return  4 * eps * (((d_m / d) ** 12) - 2 * ((d_m / d) ** 6))"
      ]
    },
    {
      "cell_type": "markdown",
      "metadata": {
        "id": "p5Hqw2V3a6Pq"
      },
      "source": [
        " "
      ]
    },
    {
      "cell_type": "markdown",
      "metadata": {
        "id": "okVMahxqa6Pq"
      },
      "source": [
        " "
      ]
    },
    {
      "cell_type": "markdown",
      "metadata": {
        "id": "B9sblAqja6Pr"
      },
      "source": [
        " "
      ]
    },
    {
      "cell_type": "markdown",
      "metadata": {
        "id": "gTMX737Ra6Pr"
      },
      "source": [
        "Изменяя двугранный угол в пределах $[-\\pi, \\pi)$:\n",
        "- Вычислите новые координаты атома SG у цистеина. Для этого можно воспользоваться функциями из файла geometry.py (из первого ДЗ).\n",
        "- После получения координат, их можно присвоить с помощью метода:\n",
        "\n",
        "    residue[\"CG\"].set_coord(new_cg1_coord)\n",
        "- После этого вычислите суммарную энергию ван дер Ваальса взаимодействия со всеми другими атомами белка."
      ]
    },
    {
      "cell_type": "code",
      "execution_count": null,
      "metadata": {
        "id": "_5EoYWIUa6Pr"
      },
      "outputs": [],
      "source": [
        "from geometry import *"
      ]
    },
    {
      "cell_type": "markdown",
      "metadata": {
        "id": "dq8BGcLsa6Pr"
      },
      "source": [
        "Для удобства сделаем словарь из таблицы с коэффициентами потенциала типа Леннарда-Джонса:"
      ]
    },
    {
      "cell_type": "code",
      "execution_count": null,
      "metadata": {
        "id": "LkqGAJ6_a6Pr",
        "outputId": "e503f046-75aa-4cf2-9616-92e5819f1367"
      },
      "outputs": [
        {
          "data": {
            "text/plain": [
              "{'C-C': {'d_min': 4.0, 'eps': 0.15},\n",
              " 'C-N': {'d_min': 3.75, 'eps': 0.155},\n",
              " 'C-O': {'d_min': 3.6, 'eps': 0.173},\n",
              " 'C-S': {'d_min': 4.0, 'eps': 0.173},\n",
              " 'C-H': {'d_min': 3.0, 'eps': 0.055},\n",
              " 'N-C': {'d_min': 3.75, 'eps': 0.155},\n",
              " 'N-N': {'d_min': 3.5, 'eps': 0.16},\n",
              " 'N-O': {'d_min': 3.35, 'eps': 0.179},\n",
              " 'N-S': {'d_min': 3.75, 'eps': 0.179},\n",
              " 'N-H': {'d_min': 2.75, 'eps': 0.057},\n",
              " 'O-C': {'d_min': 3.6, 'eps': 0.173},\n",
              " 'O-N': {'d_min': 3.35, 'eps': 0.179},\n",
              " 'O-O': {'d_min': 3.2, 'eps': 0.2},\n",
              " 'O-S': {'d_min': 3.6, 'eps': 0.2},\n",
              " 'O-H': {'d_min': 2.6, 'eps': 0.063},\n",
              " 'S-C': {'d_min': 4.0, 'eps': 0.173},\n",
              " 'S-N': {'d_min': 3.75, 'eps': 0.179},\n",
              " 'S-O': {'d_min': 3.6, 'eps': 0.2},\n",
              " 'S-S': {'d_min': 4.0, 'eps': 0.2},\n",
              " 'S-H': {'d_min': 3.0, 'eps': 0.063},\n",
              " 'H-C': {'d_min': 3.0, 'eps': 0.055},\n",
              " 'H-N': {'d_min': 2.75, 'eps': 0.057},\n",
              " 'H-O': {'d_min': 2.6, 'eps': 0.063},\n",
              " 'H-S': {'d_min': 3.0, 'eps': 0.063},\n",
              " 'H-H': {'d_min': 2.0, 'eps': 0.02}}"
            ]
          },
          "execution_count": 25,
          "metadata": {},
          "output_type": "execute_result"
        }
      ],
      "source": [
        "lj_coeffs = {row[0]: {\"d_min\": float(row[1].replace(\",\", \".\")), \n",
        "                      \"eps\": float(row[2].replace(\",\", \".\"))} for row in lj_coeffs.values}\n",
        "lj_coeffs"
      ]
    },
    {
      "cell_type": "code",
      "execution_count": null,
      "metadata": {
        "id": "82kefRD2a6Ps"
      },
      "outputs": [],
      "source": [
        "def calc_vdw_w_residue(ref_residue, residue):\n",
        "    ref_atoms = [at \n",
        "                 for at in ref_residue.child_list \n",
        "                 if at not in [\"C\", \"N\", \"CA\", \"CB\", \"O\"] and at.element[0] != \"H\"]\n",
        "    atoms = [at \n",
        "             for at in residue.child_list \n",
        "             if at.element[0] != \"H\"]\n",
        "    \n",
        "    ds, d_ms, epses = [], [], []\n",
        "    for at1 in ref_atoms:\n",
        "        for at2 in atoms:\n",
        "            pair = \"{}-{}\".format(at1.element, at2.element)\n",
        "            ds += [at1 - at2]\n",
        "            d_ms += [lj_coeffs[pair][\"d_min\"]]\n",
        "            epses += [lj_coeffs[pair][\"eps\"]]\n",
        "            \n",
        "    ds =    np.array(ds)\n",
        "    d_ms =  np.array(d_ms)\n",
        "    epses = np.array(epses)\n",
        "    \n",
        "    return van_der_Waals(ds, d_ms, epses).sum()\n",
        "    "
      ]
    },
    {
      "cell_type": "code",
      "execution_count": null,
      "metadata": {
        "id": "3NtTcfZBa6Ps",
        "outputId": "f51e121a-8b53-4fb9-ce47-4710d38a0f6b"
      },
      "outputs": [
        {
          "data": {
            "text/plain": [
              "157461.58711262036"
            ]
          },
          "execution_count": 27,
          "metadata": {},
          "output_type": "execute_result"
        }
      ],
      "source": [
        "calc_vdw_w_residue(chain[2], chain[3])"
      ]
    },
    {
      "cell_type": "code",
      "execution_count": null,
      "metadata": {
        "id": "_AwM07oda6Pt"
      },
      "outputs": [],
      "source": [
        "chi1_vals = np.arange(-np.pi, np.pi, np.pi/10)\n",
        "\n",
        "cys_residue = residues[cys_inds[0]]\n",
        "\n",
        "chi1_true = pdb.calc_dihedral(cys_residue[\"N\"].get_vector(),\n",
        "                              cys_residue[\"CA\"].get_vector(),\n",
        "                              cys_residue[\"CB\"].get_vector(),\n",
        "                              cys_residue[\"SG\"].get_vector(),                             \n",
        "                             )\n",
        "planar = pdb.calc_angle(cys_residue[\"CA\"].get_vector(),\n",
        "                      cys_residue[\"CB\"].get_vector(),\n",
        "                      cys_residue[\"SG\"].get_vector())\n",
        "bond = cys_residue[\"SG\"] - cys_residue[\"CB\"]\n",
        "prev_atoms = np.array([cys_residue[\"N\"].coord, \n",
        "                       cys_residue[\"CA\"].coord, \n",
        "                       cys_residue[\"CB\"].coord, \n",
        "                      ])\n",
        "\n",
        "vdw_vals = []\n",
        "\n",
        "for chi1 in chi1_vals:\n",
        "    new_coord = place_next_dihedral_atom(prev_atoms, chi1, planar, bond)\n",
        "    cys_residue[\"SG\"].set_coord(new_coord)\n",
        "    \n",
        "    vdw_sum = 0\n",
        "    for k in range(len(residues)):\n",
        "        if k == cys_inds[0]:\n",
        "            continue\n",
        "        \n",
        "        vdw_sum += calc_vdw_w_residue(cys_residue, residues[k])\n",
        "    \n",
        "    vdw_vals += [vdw_sum]"
      ]
    },
    {
      "cell_type": "code",
      "execution_count": null,
      "metadata": {
        "id": "VcnGifcda6Pt",
        "outputId": "d7ed4f4b-6ec9-40ba-8fa9-7da7e935f153"
      },
      "outputs": [
        {
          "data": {
            "text/plain": [
              "[316494.9523184376,\n",
              " 316494.5906475801,\n",
              " 316494.0557936428,\n",
              " 316493.3601221039,\n",
              " 316492.6451793587,\n",
              " 316492.1638548957,\n",
              " 316492.7847215147,\n",
              " 316494.62898544566,\n",
              " 316498.8750134653,\n",
              " 316528.64588690334,\n",
              " 316674.7817079464,\n",
              " 316866.379632938,\n",
              " 316733.97859090427,\n",
              " 316602.96995293314,\n",
              " 316560.22929701605,\n",
              " 316511.4835754767,\n",
              " 316493.01362402725,\n",
              " 316491.72926439845,\n",
              " 316493.66245639505,\n",
              " 316494.8653508598]"
            ]
          },
          "execution_count": 29,
          "metadata": {},
          "output_type": "execute_result"
        }
      ],
      "source": [
        "vdw_vals"
      ]
    },
    {
      "cell_type": "markdown",
      "metadata": {
        "id": "BO7kUH2za6Pu"
      },
      "source": [
        " "
      ]
    },
    {
      "cell_type": "markdown",
      "metadata": {
        "id": "AGPUBsyka6Pu"
      },
      "source": [
        " "
      ]
    },
    {
      "cell_type": "markdown",
      "metadata": {
        "id": "LhzchD1ja6Pu"
      },
      "source": [
        " "
      ]
    },
    {
      "cell_type": "markdown",
      "metadata": {
        "id": "BW_MSMdUa6Pu"
      },
      "source": [
        " "
      ]
    },
    {
      "cell_type": "markdown",
      "metadata": {
        "id": "Wmz6ZfFwa6Pu"
      },
      "source": [
        " "
      ]
    },
    {
      "cell_type": "markdown",
      "metadata": {
        "id": "oB9MdC7Ua6Pu"
      },
      "source": [
        "Постройте график для получившихся значений энергии. Какой вывод можно сделать из него?"
      ]
    },
    {
      "cell_type": "code",
      "execution_count": null,
      "metadata": {
        "id": "zGJY1jwOa6Pv",
        "outputId": "8f240be3-f8e8-4cf9-ea87-af8e49dd67b9"
      },
      "outputs": [
        {
          "data": {
            "text/plain": [
              "-2.702528834068977"
            ]
          },
          "execution_count": 30,
          "metadata": {},
          "output_type": "execute_result"
        }
      ],
      "source": [
        "chi1_true"
      ]
    },
    {
      "cell_type": "code",
      "execution_count": null,
      "metadata": {
        "id": "QqR5CA9sa6Pw",
        "outputId": "a9cefdc8-265f-4c8b-a4cb-6be5d965007e"
      },
      "outputs": [
        {
          "data": {
            "image/png": "[encoded data removed]",
            "text/plain": [
              "<Figure size 1080x360 with 1 Axes>"
            ]
          },
          "metadata": {},
          "output_type": "display_data"
        }
      ],
      "source": [
        "plt.figure(figsize=(15,5))\n",
        "plt.plot(chi1_vals, vdw_vals)\n",
        "#plt.plot([chi1_true, chi1_true], [0, max(vdw_vals)])\n",
        "plt.show()"
      ]
    },
    {
      "cell_type": "code",
      "execution_count": null,
      "metadata": {
        "id": "1XtJk-tqa6Px"
      },
      "outputs": [],
      "source": [
        "# your ideas here"
      ]
    },
    {
      "cell_type": "markdown",
      "metadata": {
        "id": "MkUGNOFoa6Px"
      },
      "source": [
        " "
      ]
    },
    {
      "cell_type": "markdown",
      "metadata": {
        "id": "dMm4NiFHa6Px"
      },
      "source": [
        " "
      ]
    },
    {
      "cell_type": "markdown",
      "metadata": {
        "id": "UCB1FAila6Px"
      },
      "source": [
        " "
      ]
    },
    {
      "cell_type": "markdown",
      "metadata": {
        "id": "mSklrGS-a6Py"
      },
      "source": [
        " "
      ]
    },
    {
      "cell_type": "markdown",
      "metadata": {
        "id": "MmlK2OXPa6Py"
      },
      "source": [
        " "
      ]
    },
    {
      "cell_type": "markdown",
      "metadata": {
        "id": "YfwoGc40a6Py"
      },
      "source": [
        " "
      ]
    },
    {
      "cell_type": "markdown",
      "metadata": {
        "id": "LRdB1IPda6Py"
      },
      "source": [
        " "
      ]
    },
    {
      "cell_type": "markdown",
      "metadata": {
        "id": "Fmoo0pmia6Pz"
      },
      "source": [
        " "
      ]
    },
    {
      "cell_type": "markdown",
      "metadata": {
        "id": "sZjEWwMpa6Pz"
      },
      "source": [
        " "
      ]
    },
    {
      "cell_type": "markdown",
      "metadata": {
        "id": "1bncC9QPa6Pz"
      },
      "source": [
        " "
      ]
    },
    {
      "cell_type": "markdown",
      "metadata": {
        "id": "b2Vp4PDma6Pz"
      },
      "source": [
        " "
      ]
    },
    {
      "cell_type": "markdown",
      "metadata": {
        "id": "kKDDPsYKa6P0"
      },
      "source": [
        " "
      ]
    },
    {
      "cell_type": "markdown",
      "metadata": {
        "id": "QD3caU_7a6P0"
      },
      "source": [
        " "
      ]
    },
    {
      "cell_type": "markdown",
      "metadata": {
        "id": "KSgN1pmGa6P0"
      },
      "source": [
        " "
      ]
    },
    {
      "cell_type": "markdown",
      "metadata": {
        "id": "AaX1dF-Va6P0"
      },
      "source": [
        " "
      ]
    },
    {
      "cell_type": "markdown",
      "metadata": {
        "id": "JQKcL_bSa6P1"
      },
      "source": [
        " "
      ]
    },
    {
      "cell_type": "markdown",
      "metadata": {
        "id": "_R5X0HZEa6P1"
      },
      "source": [
        " "
      ]
    },
    {
      "cell_type": "markdown",
      "metadata": {
        "id": "M_APzUF4a6P1"
      },
      "source": [
        " "
      ]
    },
    {
      "cell_type": "markdown",
      "metadata": {
        "id": "SDzvHEAHa6P4"
      },
      "source": [
        " "
      ]
    },
    {
      "cell_type": "markdown",
      "metadata": {
        "id": "n9Mjh02Va6P5"
      },
      "source": [
        "# Часть 2. Предсказание ротамеров $\\chi_1$"
      ]
    },
    {
      "cell_type": "markdown",
      "metadata": {
        "id": "Pr37KJFla6P5"
      },
      "source": [
        "В этой части Вам предстоит применить методы Машинного Обучения (деревья решений) к задаче предсказания ротамеров Вашей аминокислоты."
      ]
    },
    {
      "cell_type": "markdown",
      "metadata": {
        "id": "2wsEXPRWa6P6"
      },
      "source": [
        "## Задание 2.1. Вернемся к датасету из части 1. Добавьте колонку chi_class, которая получается преобразованием значений из колонки chi_1 к классам."
      ]
    },
    {
      "cell_type": "code",
      "source": [
        "import json\n",
        "import pandas as pd\n",
        "import numpy as np"
      ],
      "metadata": {
        "id": "p7hcwLNR0ABS"
      },
      "execution_count": 2,
      "outputs": []
    },
    {
      "cell_type": "code",
      "execution_count": 1,
      "metadata": {
        "colab": {
          "base_uri": "https://localhost:8080/"
        },
        "id": "PKPDygeda6P7",
        "outputId": "9c892069-599d-48eb-f141-1d3e41acef7f"
      },
      "outputs": [
        {
          "output_type": "stream",
          "name": "stdout",
          "text": [
            "Моя аминокислота - ASP\n"
          ]
        }
      ],
      "source": [
        "amacid_names = ['ARG', 'ASN', 'ASP', 'CYS', 'GLN', 'GLU', 'HIS', 'ILE', 'LEU',\n",
        "                'LYS', 'MET', 'PHE', 'PRO', 'SER', 'THR', 'TRP', 'TYR', 'VAL']\n",
        "\n",
        "print(f\"Моя аминокислота - {np.random.choice(amacid_names)}\")\n"
      ]
    },
    {
      "cell_type": "code",
      "execution_count": 4,
      "metadata": {
        "id": "C5XPVi13a6P7"
      },
      "outputs": [],
      "source": [
        "dpath = \"ASP_data.csv\"\n",
        "df = pd.read_csv(dpath)"
      ]
    },
    {
      "cell_type": "code",
      "execution_count": 5,
      "metadata": {
        "id": "TN_dOZ9fa6P8"
      },
      "outputs": [],
      "source": [
        "rotamers = np.array([60, -60, 180])\n",
        "def get_class(value, rotamers):\n",
        "    diffs = np.abs(value - rotamers)\n",
        "    diffs = np.minimum(diffs, 360 - diffs)\n",
        "    return np.argmin(diffs)\n",
        "chi_class = []\n",
        "for val in df[\"chi_1\"]:\n",
        "    chi_class += [get_class(val, rotamers)]\n",
        "df.insert(1, 'chi_class', chi_class, allow_duplicates = False)"
      ]
    },
    {
      "cell_type": "code",
      "execution_count": 6,
      "metadata": {
        "colab": {
          "base_uri": "https://localhost:8080/",
          "height": 500
        },
        "id": "lCqSkKhaa6P9",
        "outputId": "f5a274aa-21de-4d41-de3b-8d7e3f0cd03f"
      },
      "outputs": [
        {
          "output_type": "execute_result",
          "data": {
            "text/plain": [
              "       Unnamed: 0  chi_class pbd_indx        phi         psi         tau  \\\n",
              "0               0          1     2BO5 -66.725318  -28.027174   87.892905   \n",
              "1               1          2     2BW2 -46.819010  -48.164891   94.082980   \n",
              "2               2          2     2BW2 -71.249169  149.975739  115.414191   \n",
              "3               3          2     2BW2 -62.603932  -33.242635   89.944486   \n",
              "4               4          2     2BW2 -75.940690  -33.031491   88.163157   \n",
              "...           ...        ...      ...        ...         ...         ...   \n",
              "15081       15081          1     3VZ6  57.176933   70.849660  103.884223   \n",
              "15082       15082          2     3VZ6 -65.992557  -35.756785   90.120885   \n",
              "15083       15083          1     3VZ6 -63.715162  -39.583660   91.786450   \n",
              "15084       15084          1     3VZ7 -78.264295   56.480215  101.492771   \n",
              "15085       15085          0     3VZ7 -92.068975   15.668447   96.691556   \n",
              "\n",
              "            alpha  ind_from_start  ind_from_end sec_structure  ...  \\\n",
              "0       38.745571              70            49             H  ...   \n",
              "1     -112.929223              20           119             S  ...   \n",
              "2     -165.942046              22           117             -  ...   \n",
              "3       48.700073              36           103             H  ...   \n",
              "4       52.137527              37           102             H  ...   \n",
              "...           ...             ...           ...           ...  ...   \n",
              "15081 -149.262024             150            42             E  ...   \n",
              "15082   59.044477             175            17             H  ...   \n",
              "15083   51.697100             177            15             H  ...   \n",
              "15084  103.758705              12           180             S  ...   \n",
              "15085   61.989342              40           152             S  ...   \n",
              "\n",
              "          gamma14     alpha15      beta15     gamma15     alpha16      beta16  \\\n",
              "0      123.975091   19.291313   29.229187  106.452262   11.072507   36.244129   \n",
              "1       26.823775   93.206264  140.039328   66.270921  111.328368  126.782846   \n",
              "2      154.190701  104.246350   80.992793   18.593460   54.366711  122.312555   \n",
              "3       59.456278   75.295336   89.416390  112.482349   16.857069   11.022248   \n",
              "4       86.355653   40.562595   34.308552   71.597636   16.485020   79.552805   \n",
              "...           ...         ...         ...         ...         ...         ...   \n",
              "15081  122.607387   35.271964  102.208235   95.947151   58.661851   91.587707   \n",
              "15082   98.649904   46.270860  120.719277   67.786636   18.724456   90.198727   \n",
              "15083  139.748566   91.864159  123.667569  138.571288   35.917595  120.856550   \n",
              "15084   69.411558   43.272913   98.847618  128.159101   29.136658   78.588225   \n",
              "15085         NaN         NaN         NaN         NaN         NaN         NaN   \n",
              "\n",
              "          gamma16     alpha17      beta17     gamma17  \n",
              "0       78.927467   25.548396   26.095122   70.583940  \n",
              "1      104.768989   76.649524  135.229071  133.673905  \n",
              "2       60.485881  109.459464  133.648538  133.684752  \n",
              "3       79.213611   72.080065   60.791826  128.120634  \n",
              "4       79.901144   34.167471   89.233341   63.884644  \n",
              "...           ...         ...         ...         ...  \n",
              "15081   35.123654   62.974358  129.334550   80.408976  \n",
              "15082  106.787576    4.413617   85.816061   91.818875  \n",
              "15083   54.972255   49.869670  111.316196  139.753552  \n",
              "15084  119.062136   23.755879  102.600520   93.394436  \n",
              "15085         NaN         NaN         NaN         NaN  \n",
              "\n",
              "[15086 rows x 302 columns]"
            ],
            "text/html": [
              "\n",
              "  <div id=\"df-7786e18a-9ee2-49be-9d80-9f097bb3322e\">\n",
              "    <div class=\"colab-df-container\">\n",
              "      <div>\n",
              "<style scoped>\n",
              "    .dataframe tbody tr th:only-of-type {\n",
              "        vertical-align: middle;\n",
              "    }\n",
              "\n",
              "    .dataframe tbody tr th {\n",
              "        vertical-align: top;\n",
              "    }\n",
              "\n",
              "    .dataframe thead th {\n",
              "        text-align: right;\n",
              "    }\n",
              "</style>\n",
              "<table border=\"1\" class=\"dataframe\">\n",
              "  <thead>\n",
              "    <tr style=\"text-align: right;\">\n",
              "      <th></th>\n",
              "      <th>Unnamed: 0</th>\n",
              "      <th>chi_class</th>\n",
              "      <th>pbd_indx</th>\n",
              "      <th>phi</th>\n",
              "      <th>psi</th>\n",
              "      <th>tau</th>\n",
              "      <th>alpha</th>\n",
              "      <th>ind_from_start</th>\n",
              "      <th>ind_from_end</th>\n",
              "      <th>sec_structure</th>\n",
              "      <th>...</th>\n",
              "      <th>gamma14</th>\n",
              "      <th>alpha15</th>\n",
              "      <th>beta15</th>\n",
              "      <th>gamma15</th>\n",
              "      <th>alpha16</th>\n",
              "      <th>beta16</th>\n",
              "      <th>gamma16</th>\n",
              "      <th>alpha17</th>\n",
              "      <th>beta17</th>\n",
              "      <th>gamma17</th>\n",
              "    </tr>\n",
              "  </thead>\n",
              "  <tbody>\n",
              "    <tr>\n",
              "      <th>0</th>\n",
              "      <td>0</td>\n",
              "      <td>1</td>\n",
              "      <td>2BO5</td>\n",
              "      <td>-66.725318</td>\n",
              "      <td>-28.027174</td>\n",
              "      <td>87.892905</td>\n",
              "      <td>38.745571</td>\n",
              "      <td>70</td>\n",
              "      <td>49</td>\n",
              "      <td>H</td>\n",
              "      <td>...</td>\n",
              "      <td>123.975091</td>\n",
              "      <td>19.291313</td>\n",
              "      <td>29.229187</td>\n",
              "      <td>106.452262</td>\n",
              "      <td>11.072507</td>\n",
              "      <td>36.244129</td>\n",
              "      <td>78.927467</td>\n",
              "      <td>25.548396</td>\n",
              "      <td>26.095122</td>\n",
              "      <td>70.583940</td>\n",
              "    </tr>\n",
              "    <tr>\n",
              "      <th>1</th>\n",
              "      <td>1</td>\n",
              "      <td>2</td>\n",
              "      <td>2BW2</td>\n",
              "      <td>-46.819010</td>\n",
              "      <td>-48.164891</td>\n",
              "      <td>94.082980</td>\n",
              "      <td>-112.929223</td>\n",
              "      <td>20</td>\n",
              "      <td>119</td>\n",
              "      <td>S</td>\n",
              "      <td>...</td>\n",
              "      <td>26.823775</td>\n",
              "      <td>93.206264</td>\n",
              "      <td>140.039328</td>\n",
              "      <td>66.270921</td>\n",
              "      <td>111.328368</td>\n",
              "      <td>126.782846</td>\n",
              "      <td>104.768989</td>\n",
              "      <td>76.649524</td>\n",
              "      <td>135.229071</td>\n",
              "      <td>133.673905</td>\n",
              "    </tr>\n",
              "    <tr>\n",
              "      <th>2</th>\n",
              "      <td>2</td>\n",
              "      <td>2</td>\n",
              "      <td>2BW2</td>\n",
              "      <td>-71.249169</td>\n",
              "      <td>149.975739</td>\n",
              "      <td>115.414191</td>\n",
              "      <td>-165.942046</td>\n",
              "      <td>22</td>\n",
              "      <td>117</td>\n",
              "      <td>-</td>\n",
              "      <td>...</td>\n",
              "      <td>154.190701</td>\n",
              "      <td>104.246350</td>\n",
              "      <td>80.992793</td>\n",
              "      <td>18.593460</td>\n",
              "      <td>54.366711</td>\n",
              "      <td>122.312555</td>\n",
              "      <td>60.485881</td>\n",
              "      <td>109.459464</td>\n",
              "      <td>133.648538</td>\n",
              "      <td>133.684752</td>\n",
              "    </tr>\n",
              "    <tr>\n",
              "      <th>3</th>\n",
              "      <td>3</td>\n",
              "      <td>2</td>\n",
              "      <td>2BW2</td>\n",
              "      <td>-62.603932</td>\n",
              "      <td>-33.242635</td>\n",
              "      <td>89.944486</td>\n",
              "      <td>48.700073</td>\n",
              "      <td>36</td>\n",
              "      <td>103</td>\n",
              "      <td>H</td>\n",
              "      <td>...</td>\n",
              "      <td>59.456278</td>\n",
              "      <td>75.295336</td>\n",
              "      <td>89.416390</td>\n",
              "      <td>112.482349</td>\n",
              "      <td>16.857069</td>\n",
              "      <td>11.022248</td>\n",
              "      <td>79.213611</td>\n",
              "      <td>72.080065</td>\n",
              "      <td>60.791826</td>\n",
              "      <td>128.120634</td>\n",
              "    </tr>\n",
              "    <tr>\n",
              "      <th>4</th>\n",
              "      <td>4</td>\n",
              "      <td>2</td>\n",
              "      <td>2BW2</td>\n",
              "      <td>-75.940690</td>\n",
              "      <td>-33.031491</td>\n",
              "      <td>88.163157</td>\n",
              "      <td>52.137527</td>\n",
              "      <td>37</td>\n",
              "      <td>102</td>\n",
              "      <td>H</td>\n",
              "      <td>...</td>\n",
              "      <td>86.355653</td>\n",
              "      <td>40.562595</td>\n",
              "      <td>34.308552</td>\n",
              "      <td>71.597636</td>\n",
              "      <td>16.485020</td>\n",
              "      <td>79.552805</td>\n",
              "      <td>79.901144</td>\n",
              "      <td>34.167471</td>\n",
              "      <td>89.233341</td>\n",
              "      <td>63.884644</td>\n",
              "    </tr>\n",
              "    <tr>\n",
              "      <th>...</th>\n",
              "      <td>...</td>\n",
              "      <td>...</td>\n",
              "      <td>...</td>\n",
              "      <td>...</td>\n",
              "      <td>...</td>\n",
              "      <td>...</td>\n",
              "      <td>...</td>\n",
              "      <td>...</td>\n",
              "      <td>...</td>\n",
              "      <td>...</td>\n",
              "      <td>...</td>\n",
              "      <td>...</td>\n",
              "      <td>...</td>\n",
              "      <td>...</td>\n",
              "      <td>...</td>\n",
              "      <td>...</td>\n",
              "      <td>...</td>\n",
              "      <td>...</td>\n",
              "      <td>...</td>\n",
              "      <td>...</td>\n",
              "      <td>...</td>\n",
              "    </tr>\n",
              "    <tr>\n",
              "      <th>15081</th>\n",
              "      <td>15081</td>\n",
              "      <td>1</td>\n",
              "      <td>3VZ6</td>\n",
              "      <td>57.176933</td>\n",
              "      <td>70.849660</td>\n",
              "      <td>103.884223</td>\n",
              "      <td>-149.262024</td>\n",
              "      <td>150</td>\n",
              "      <td>42</td>\n",
              "      <td>E</td>\n",
              "      <td>...</td>\n",
              "      <td>122.607387</td>\n",
              "      <td>35.271964</td>\n",
              "      <td>102.208235</td>\n",
              "      <td>95.947151</td>\n",
              "      <td>58.661851</td>\n",
              "      <td>91.587707</td>\n",
              "      <td>35.123654</td>\n",
              "      <td>62.974358</td>\n",
              "      <td>129.334550</td>\n",
              "      <td>80.408976</td>\n",
              "    </tr>\n",
              "    <tr>\n",
              "      <th>15082</th>\n",
              "      <td>15082</td>\n",
              "      <td>2</td>\n",
              "      <td>3VZ6</td>\n",
              "      <td>-65.992557</td>\n",
              "      <td>-35.756785</td>\n",
              "      <td>90.120885</td>\n",
              "      <td>59.044477</td>\n",
              "      <td>175</td>\n",
              "      <td>17</td>\n",
              "      <td>H</td>\n",
              "      <td>...</td>\n",
              "      <td>98.649904</td>\n",
              "      <td>46.270860</td>\n",
              "      <td>120.719277</td>\n",
              "      <td>67.786636</td>\n",
              "      <td>18.724456</td>\n",
              "      <td>90.198727</td>\n",
              "      <td>106.787576</td>\n",
              "      <td>4.413617</td>\n",
              "      <td>85.816061</td>\n",
              "      <td>91.818875</td>\n",
              "    </tr>\n",
              "    <tr>\n",
              "      <th>15083</th>\n",
              "      <td>15083</td>\n",
              "      <td>1</td>\n",
              "      <td>3VZ6</td>\n",
              "      <td>-63.715162</td>\n",
              "      <td>-39.583660</td>\n",
              "      <td>91.786450</td>\n",
              "      <td>51.697100</td>\n",
              "      <td>177</td>\n",
              "      <td>15</td>\n",
              "      <td>H</td>\n",
              "      <td>...</td>\n",
              "      <td>139.748566</td>\n",
              "      <td>91.864159</td>\n",
              "      <td>123.667569</td>\n",
              "      <td>138.571288</td>\n",
              "      <td>35.917595</td>\n",
              "      <td>120.856550</td>\n",
              "      <td>54.972255</td>\n",
              "      <td>49.869670</td>\n",
              "      <td>111.316196</td>\n",
              "      <td>139.753552</td>\n",
              "    </tr>\n",
              "    <tr>\n",
              "      <th>15084</th>\n",
              "      <td>15084</td>\n",
              "      <td>1</td>\n",
              "      <td>3VZ7</td>\n",
              "      <td>-78.264295</td>\n",
              "      <td>56.480215</td>\n",
              "      <td>101.492771</td>\n",
              "      <td>103.758705</td>\n",
              "      <td>12</td>\n",
              "      <td>180</td>\n",
              "      <td>S</td>\n",
              "      <td>...</td>\n",
              "      <td>69.411558</td>\n",
              "      <td>43.272913</td>\n",
              "      <td>98.847618</td>\n",
              "      <td>128.159101</td>\n",
              "      <td>29.136658</td>\n",
              "      <td>78.588225</td>\n",
              "      <td>119.062136</td>\n",
              "      <td>23.755879</td>\n",
              "      <td>102.600520</td>\n",
              "      <td>93.394436</td>\n",
              "    </tr>\n",
              "    <tr>\n",
              "      <th>15085</th>\n",
              "      <td>15085</td>\n",
              "      <td>0</td>\n",
              "      <td>3VZ7</td>\n",
              "      <td>-92.068975</td>\n",
              "      <td>15.668447</td>\n",
              "      <td>96.691556</td>\n",
              "      <td>61.989342</td>\n",
              "      <td>40</td>\n",
              "      <td>152</td>\n",
              "      <td>S</td>\n",
              "      <td>...</td>\n",
              "      <td>NaN</td>\n",
              "      <td>NaN</td>\n",
              "      <td>NaN</td>\n",
              "      <td>NaN</td>\n",
              "      <td>NaN</td>\n",
              "      <td>NaN</td>\n",
              "      <td>NaN</td>\n",
              "      <td>NaN</td>\n",
              "      <td>NaN</td>\n",
              "      <td>NaN</td>\n",
              "    </tr>\n",
              "  </tbody>\n",
              "</table>\n",
              "<p>15086 rows × 302 columns</p>\n",
              "</div>\n",
              "      <button class=\"colab-df-convert\" onclick=\"convertToInteractive('df-7786e18a-9ee2-49be-9d80-9f097bb3322e')\"\n",
              "              title=\"Convert this dataframe to an interactive table.\"\n",
              "              style=\"display:none;\">\n",
              "        \n",
              "  <svg xmlns=\"http://www.w3.org/2000/svg\" height=\"24px\"viewBox=\"0 0 24 24\"\n",
              "       width=\"24px\">\n",
              "    <path d=\"M0 0h24v24H0V0z\" fill=\"none\"/>\n",
              "    <path d=\"M18.56 5.44l.94 2.06.94-2.06 2.06-.94-2.06-.94-.94-2.06-.94 2.06-2.06.94zm-11 1L8.5 8.5l.94-2.06 2.06-.94-2.06-.94L8.5 2.5l-.94 2.06-2.06.94zm10 10l.94 2.06.94-2.06 2.06-.94-2.06-.94-.94-2.06-.94 2.06-2.06.94z\"/><path d=\"M17.41 7.96l-1.37-1.37c-.4-.4-.92-.59-1.43-.59-.52 0-1.04.2-1.43.59L10.3 9.45l-7.72 7.72c-.78.78-.78 2.05 0 2.83L4 21.41c.39.39.9.59 1.41.59.51 0 1.02-.2 1.41-.59l7.78-7.78 2.81-2.81c.8-.78.8-2.07 0-2.86zM5.41 20L4 18.59l7.72-7.72 1.47 1.35L5.41 20z\"/>\n",
              "  </svg>\n",
              "      </button>\n",
              "      \n",
              "  <style>\n",
              "    .colab-df-container {\n",
              "      display:flex;\n",
              "      flex-wrap:wrap;\n",
              "      gap: 12px;\n",
              "    }\n",
              "\n",
              "    .colab-df-convert {\n",
              "      background-color: #E8F0FE;\n",
              "      border: none;\n",
              "      border-radius: 50%;\n",
              "      cursor: pointer;\n",
              "      display: none;\n",
              "      fill: #1967D2;\n",
              "      height: 32px;\n",
              "      padding: 0 0 0 0;\n",
              "      width: 32px;\n",
              "    }\n",
              "\n",
              "    .colab-df-convert:hover {\n",
              "      background-color: #E2EBFA;\n",
              "      box-shadow: 0px 1px 2px rgba(60, 64, 67, 0.3), 0px 1px 3px 1px rgba(60, 64, 67, 0.15);\n",
              "      fill: #174EA6;\n",
              "    }\n",
              "\n",
              "    [theme=dark] .colab-df-convert {\n",
              "      background-color: #3B4455;\n",
              "      fill: #D2E3FC;\n",
              "    }\n",
              "\n",
              "    [theme=dark] .colab-df-convert:hover {\n",
              "      background-color: #434B5C;\n",
              "      box-shadow: 0px 1px 3px 1px rgba(0, 0, 0, 0.15);\n",
              "      filter: drop-shadow(0px 1px 2px rgba(0, 0, 0, 0.3));\n",
              "      fill: #FFFFFF;\n",
              "    }\n",
              "  </style>\n",
              "\n",
              "      <script>\n",
              "        const buttonEl =\n",
              "          document.querySelector('#df-7786e18a-9ee2-49be-9d80-9f097bb3322e button.colab-df-convert');\n",
              "        buttonEl.style.display =\n",
              "          google.colab.kernel.accessAllowed ? 'block' : 'none';\n",
              "\n",
              "        async function convertToInteractive(key) {\n",
              "          const element = document.querySelector('#df-7786e18a-9ee2-49be-9d80-9f097bb3322e');\n",
              "          const dataTable =\n",
              "            await google.colab.kernel.invokeFunction('convertToInteractive',\n",
              "                                                     [key], {});\n",
              "          if (!dataTable) return;\n",
              "\n",
              "          const docLinkHtml = 'Like what you see? Visit the ' +\n",
              "            '<a target=\"_blank\" href=https://colab.research.google.com/notebooks/data_table.ipynb>data table notebook</a>'\n",
              "            + ' to learn more about interactive tables.';\n",
              "          element.innerHTML = '';\n",
              "          dataTable['output_type'] = 'display_data';\n",
              "          await google.colab.output.renderOutput(dataTable, element);\n",
              "          const docLink = document.createElement('div');\n",
              "          docLink.innerHTML = docLinkHtml;\n",
              "          element.appendChild(docLink);\n",
              "        }\n",
              "      </script>\n",
              "    </div>\n",
              "  </div>\n",
              "  "
            ]
          },
          "metadata": {},
          "execution_count": 6
        }
      ],
      "source": [
        "df"
      ]
    },
    {
      "cell_type": "markdown",
      "metadata": {
        "id": "xHTDcRcva6QC"
      },
      "source": [
        "## Задание 2.2. Теперь давайте дискретизируем значения $\\phi, \\psi, \\alpha$. Каждому значению из $[-\\pi, \\pi]$ нужно поставить в соответствие номер блока длиной 20 градусов, в который он попадает."
      ]
    },
    {
      "cell_type": "markdown",
      "metadata": {
        "id": "-1--D4o9a6QD"
      },
      "source": [
        "## Задание 2.3. В датасете есть текстовые признаки! Так как они категориальные, их значения можно поменять на натуральные числа. Пронумеруйте все уникальные значения таких признаков и измените текстовые значения на соответствующие номера. "
      ]
    },
    {
      "cell_type": "markdown",
      "metadata": {
        "id": "ptmMMtKFa6QD"
      },
      "source": [
        "**Комментарий**: обратите внимание, значения могут быть отрицательными. А номер блока нет 🤔"
      ]
    },
    {
      "cell_type": "code",
      "execution_count": 7,
      "metadata": {
        "id": "HX6AJcYca6QE"
      },
      "outputs": [],
      "source": [
        "from sklearn.preprocessing import LabelEncoder\n",
        "def changed(df, cols):\n",
        "    for name in df.columns:\n",
        "        if (type(df[name][0]) == str):\n",
        "            le = LabelEncoder()\n",
        "            le.fit(df[name])\n",
        "            df[name] = le.transform(df[name])\n",
        "        elif name in cols:\n",
        "            df[name] = (df[[name]] + 180) // 20\n",
        "            "
      ]
    },
    {
      "cell_type": "code",
      "execution_count": 8,
      "metadata": {
        "id": "oQoF3FMva6QE"
      },
      "outputs": [],
      "source": [
        "changed(df, ['phi', 'psi', 'alpha'])"
      ]
    },
    {
      "cell_type": "code",
      "execution_count": 9,
      "metadata": {
        "colab": {
          "base_uri": "https://localhost:8080/"
        },
        "id": "wxieRutba6QF",
        "outputId": "e0fa4b0f-6e8b-4fc6-99bd-d02822965072"
      },
      "outputs": [
        {
          "output_type": "stream",
          "name": "stdout",
          "text": [
            "<class 'pandas.core.frame.DataFrame'>\n",
            "RangeIndex: 15086 entries, 0 to 15085\n",
            "Columns: 302 entries, Unnamed: 0 to gamma17\n",
            "dtypes: float64(159), int64(143)\n",
            "memory usage: 34.8 MB\n"
          ]
        }
      ],
      "source": [
        "df.info()"
      ]
    },
    {
      "cell_type": "markdown",
      "metadata": {
        "id": "a6S1NwYCa6QH"
      },
      "source": [
        "## Задание 2.4. Обучим нашу модель!"
      ]
    },
    {
      "cell_type": "markdown",
      "metadata": {
        "id": "nWIXWM1qa6QH"
      },
      "source": [
        "Импортируйте библиотеку lightgbm. Если она не установлена, установить ее можно с помощью консольной команды pip:"
      ]
    },
    {
      "cell_type": "code",
      "execution_count": 10,
      "metadata": {
        "colab": {
          "base_uri": "https://localhost:8080/"
        },
        "id": "Q3fVFgT9a6QH",
        "outputId": "d1c93a0a-3089-4d57-ff7d-431967383253"
      },
      "outputs": [
        {
          "output_type": "stream",
          "name": "stdout",
          "text": [
            "Looking in indexes: https://pypi.org/simple, https://us-python.pkg.dev/colab-wheels/public/simple/\n",
            "Requirement already satisfied: lightgbm in /usr/local/lib/python3.7/dist-packages (2.2.3)\n",
            "Requirement already satisfied: numpy in /usr/local/lib/python3.7/dist-packages (from lightgbm) (1.21.6)\n",
            "Requirement already satisfied: scipy in /usr/local/lib/python3.7/dist-packages (from lightgbm) (1.7.3)\n",
            "Requirement already satisfied: scikit-learn in /usr/local/lib/python3.7/dist-packages (from lightgbm) (1.0.2)\n",
            "Requirement already satisfied: threadpoolctl>=2.0.0 in /usr/local/lib/python3.7/dist-packages (from scikit-learn->lightgbm) (3.1.0)\n",
            "Requirement already satisfied: joblib>=0.11 in /usr/local/lib/python3.7/dist-packages (from scikit-learn->lightgbm) (1.2.0)\n"
          ]
        }
      ],
      "source": [
        "!pip install lightgbm"
      ]
    },
    {
      "cell_type": "code",
      "execution_count": 11,
      "metadata": {
        "id": "5VbrEHfZa6QI"
      },
      "outputs": [],
      "source": [
        "import lightgbm as lgb"
      ]
    },
    {
      "cell_type": "code",
      "execution_count": 12,
      "metadata": {
        "id": "A9nor3-5a6QJ"
      },
      "outputs": [],
      "source": [
        "X = df.drop(columns=['pbd_indx', 'Unnamed: 0', 'chi_1', 'chi_class'], axis = 1)\n",
        "y = df[['chi_class']]"
      ]
    },
    {
      "cell_type": "code",
      "execution_count": 13,
      "metadata": {
        "id": "-Cy4Mrgka6QJ"
      },
      "outputs": [],
      "source": [
        "from sklearn.model_selection import train_test_split\n",
        "X_train, X_test, y_train, y_test = train_test_split(X, y, test_size = 0.3, random_state=42)"
      ]
    },
    {
      "cell_type": "code",
      "execution_count": 40,
      "metadata": {
        "id": "z79uTUZWsoNd",
        "colab": {
          "base_uri": "https://localhost:8080/"
        },
        "outputId": "bcd41349-8582-45d9-c06f-61121e3fa624"
      },
      "outputs": [
        {
          "output_type": "execute_result",
          "data": {
            "text/plain": [
              "chi_class\n",
              "1            6680\n",
              "2            5936\n",
              "0            2470\n",
              "dtype: int64"
            ]
          },
          "metadata": {},
          "execution_count": 40
        }
      ],
      "source": [
        " y.value_counts()"
      ]
    },
    {
      "cell_type": "markdown",
      "metadata": {
        "id": "9fL27V0Ga6QK"
      },
      "source": [
        "Обучите модель, проверьте качество обучения на тестовой выборке (по метрике accuracy). Получилось ли хорошая модель?"
      ]
    },
    {
      "cell_type": "code",
      "execution_count": 50,
      "metadata": {
        "id": "CuczXP0ga6QL"
      },
      "outputs": [],
      "source": [
        " clf = lgb.LGBMClassifier(\n",
        "                         num_leaves=88,\n",
        "                         min_child_samples=1358,\n",
        "                         max_depth=16,\n",
        "                         n_estimators=2170,\n",
        "                         reg_lambda=4702.599,\n",
        "                         reg_alpha=28.532,\n",
        "                         learning_rate=0.2461,\n",
        "                         random_state=42\n",
        "                        )"
      ]
    },
    {
      "cell_type": "code",
      "execution_count": 15,
      "metadata": {
        "colab": {
          "base_uri": "https://localhost:8080/"
        },
        "id": "6Thl7Z25a6QL",
        "outputId": "2dbdc5e6-d978-4d1d-8b23-72b332edb0f9"
      },
      "outputs": [
        {
          "output_type": "stream",
          "name": "stderr",
          "text": [
            "/usr/local/lib/python3.7/dist-packages/sklearn/preprocessing/_label.py:98: DataConversionWarning: A column-vector y was passed when a 1d array was expected. Please change the shape of y to (n_samples, ), for example using ravel().\n",
            "  y = column_or_1d(y, warn=True)\n",
            "/usr/local/lib/python3.7/dist-packages/sklearn/preprocessing/_label.py:133: DataConversionWarning: A column-vector y was passed when a 1d array was expected. Please change the shape of y to (n_samples, ), for example using ravel().\n",
            "  y = column_or_1d(y, warn=True)\n"
          ]
        },
        {
          "output_type": "execute_result",
          "data": {
            "text/plain": [
              "LGBMClassifier(learning_rate=0.2461, max_depth=64, min_child_samples=1358,\n",
              "               n_estimators=2170, num_leaves=88, random_state=42,\n",
              "               reg_alpha=28.532, reg_lambda=4702.599)"
            ]
          },
          "metadata": {},
          "execution_count": 15
        }
      ],
      "source": [
        "clf.fit(X_train, y_train)"
      ]
    },
    {
      "cell_type": "code",
      "execution_count": 18,
      "metadata": {
        "colab": {
          "base_uri": "https://localhost:8080/"
        },
        "id": "omKptG5Oa6QM",
        "outputId": "642a23d6-14a7-4f94-d8ea-a867fd6547c5"
      },
      "outputs": [
        {
          "output_type": "stream",
          "name": "stdout",
          "text": [
            "Accuracy score: train - 0.7324810606060606, test - 0.6878038002651348\n"
          ]
        }
      ],
      "source": [
        "from sklearn.metrics import accuracy_score\n",
        "y_test_pred = clf.predict(X_test)\n",
        "y_train_pred = clf.predict(X_train)\n",
        "accuracy = accuracy_score(y_train_pred, y_train)\n",
        "print(\"Accuracy score: train - {0}, test - {1}\".format(accuracy_score(y_train_pred, y_train), accuracy_score(y_test_pred, y_test)))"
      ]
    },
    {
      "cell_type": "markdown",
      "source": [
        "Модель переобучилась. Точность модели средняя"
      ],
      "metadata": {
        "id": "Q0QrSpyvxGCG"
      }
    }
  ],
  "metadata": {
    "colab": {
      "provenance": []
    },
    "kernelspec": {
      "display_name": "Python 3 (ipykernel)",
      "language": "python",
      "name": "python3"
    },
    "language_info": {
      "codemirror_mode": {
        "name": "ipython",
        "version": 3
      },
      "file_extension": ".py",
      "mimetype": "text/x-python",
      "name": "python",
      "nbconvert_exporter": "python",
      "pygments_lexer": "ipython3",
      "version": "3.9.12"
    },
    "accelerator": "GPU",
    "gpuClass": "standard"
  },
  "nbformat": 4,
  "nbformat_minor": 0
}