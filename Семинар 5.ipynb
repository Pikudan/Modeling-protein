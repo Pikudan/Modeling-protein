{
 "cells": [
  {
   "cell_type": "markdown",
   "metadata": {},
   "source": [
    "# Семинар 5: Потенциал AlphaFold"
   ]
  },
  {
   "cell_type": "markdown",
   "metadata": {},
   "source": [
    " "
   ]
  },
  {
   "cell_type": "markdown",
   "metadata": {},
   "source": [
    " "
   ]
  },
  {
   "cell_type": "markdown",
   "metadata": {},
   "source": [
    "# Попробуем сделать предсказание структуры белка с помощью минимизации потенциала AlphaFold из имеющихся дистограмм.\n",
    "\n",
    "# Сегодня будем работать с отсносительно короткими белками - длиной 40-50."
   ]
  },
  {
   "cell_type": "markdown",
   "metadata": {},
   "source": [
    " "
   ]
  },
  {
   "cell_type": "markdown",
   "metadata": {},
   "source": [
    " "
   ]
  },
  {
   "cell_type": "markdown",
   "metadata": {},
   "source": [
    "# 0. Приготовления!"
   ]
  },
  {
   "cell_type": "markdown",
   "metadata": {},
   "source": [
    "В этом семинаре потребуется много всего. 🙂"
   ]
  },
  {
   "cell_type": "markdown",
   "metadata": {},
   "source": [
    "Для начала библиотеки, с которыми мы уже работали:"
   ]
  },
  {
   "cell_type": "code",
   "execution_count": 1,
   "metadata": {},
   "outputs": [],
   "source": [
    "import Bio.PDB as pdb\n",
    "from Bio.PDB.QCPSuperimposer import QCPSuperimposer\n",
    "import numpy as np\n",
    "import matplotlib.pyplot as plt\n",
    "import os"
   ]
  },
  {
   "cell_type": "code",
   "execution_count": 2,
   "metadata": {},
   "outputs": [
    {
     "name": "stdout",
     "output_type": "stream",
     "text": [
      "Requirement already satisfied: Biopython in /opt/anaconda3/lib/python3.9/site-packages (1.79)\n",
      "Requirement already satisfied: numpy in /opt/anaconda3/lib/python3.9/site-packages (from Biopython) (1.21.5)\n",
      "Note: you may need to restart the kernel to use updated packages.\n"
     ]
    }
   ],
   "source": [
    "pip install Biopython"
   ]
  },
  {
   "cell_type": "markdown",
   "metadata": {},
   "source": [
    "Потенциал требует минимизации. Оптимизировать будем с помощью модуля **scipy.optimize**:"
   ]
  },
  {
   "cell_type": "code",
   "execution_count": 3,
   "metadata": {},
   "outputs": [],
   "source": [
    "from scipy.optimize import minimize"
   ]
  },
  {
   "cell_type": "markdown",
   "metadata": {},
   "source": [
    "Главный герой сегодняшнего семинара. Загрузите <a href=\"https://disk.yandex.ru/d/3eFkKsx7coUqXA\">Python модуль для вычисления потенциала AlphaFold</a> и положите его в ту же директорию, где лежит эта тетрадка."
   ]
  },
  {
   "cell_type": "code",
   "execution_count": 4,
   "metadata": {},
   "outputs": [],
   "source": [
    "from alphafold_potential.potential import Potential\n",
    "from alphafold_potential.supplementary import read_pickle"
   ]
  },
  {
   "cell_type": "markdown",
   "metadata": {},
   "source": [
    " "
   ]
  },
  {
   "cell_type": "markdown",
   "metadata": {},
   "source": [
    " "
   ]
  },
  {
   "cell_type": "markdown",
   "metadata": {},
   "source": [
    "# 1. Прочитаем данные:"
   ]
  },
  {
   "cell_type": "markdown",
   "metadata": {},
   "source": [
    "Загрузите папку с результатами первого этапа работы AlphaFold для своего белка <a href=\"https://disk.yandex.ru/d/vW79A2J3-M_-gg\">отсюда</a>. Положите папку целиком в ту же директорию, где находится эта тетрадка."
   ]
  },
  {
   "cell_type": "code",
   "execution_count": 30,
   "metadata": {},
   "outputs": [],
   "source": [
    "dir_name = \"contacts_pdb1w4e_2020_07_22_14_31_46\""
   ]
  },
  {
   "cell_type": "code",
   "execution_count": 31,
   "metadata": {},
   "outputs": [],
   "source": [
    "pdb_id = dir_name.split(\"_\")[1][3:]"
   ]
  },
  {
   "cell_type": "code",
   "execution_count": 32,
   "metadata": {},
   "outputs": [
    {
     "data": {
      "text/plain": [
       "'1w4e'"
      ]
     },
     "execution_count": 32,
     "metadata": {},
     "output_type": "execute_result"
    }
   ],
   "source": [
    "pdb_id"
   ]
  },
  {
   "cell_type": "code",
   "execution_count": 33,
   "metadata": {},
   "outputs": [],
   "source": [
    "p1 = f\"./{dir_name}/pasted/{pdb_id}A00.pickle\"\n",
    "p2 = f\"./{dir_name}/background_distogram/ensemble/{pdb_id}A00.pickle\"\n",
    "p3 = f\"./{dir_name}/torsion/ensemble/{pdb_id}A00.pickle\"\n",
    "p4 = f\"./{dir_name}/torsion/0/torsions/{pdb_id}A00.torsions\""
   ]
  },
  {
   "cell_type": "markdown",
   "metadata": {},
   "source": [
    "Загрузим белок, которому соответствуют загруженные выше данные:"
   ]
  },
  {
   "cell_type": "code",
   "execution_count": 34,
   "metadata": {},
   "outputs": [
    {
     "name": "stdout",
     "output_type": "stream",
     "text": [
      "Structure exists: '/Users/daniilpikurov/Desktop/hse/w4/pdb1w4e.ent' \n"
     ]
    }
   ],
   "source": [
    "path = pdb.PDBList().retrieve_pdb_file(pdb_id, file_format=\"pdb\")"
   ]
  },
  {
   "cell_type": "code",
   "execution_count": 36,
   "metadata": {},
   "outputs": [],
   "source": [
    "parser = pdb.PDBParser()\n",
    "chain = parser.get_structure(\"s\", path)[0].child_list[0].child_list"
   ]
  },
  {
   "cell_type": "markdown",
   "metadata": {},
   "source": [
    "## 1.1. Для сравнения результата минимизации с оргинальными значениями $\\phi, \\psi$ посчитаем все двугранные углы реального белка."
   ]
  },
  {
   "cell_type": "markdown",
   "metadata": {},
   "source": [
    "Зададим вектор **orig_angles**, в котором последовательно запишем $\\phi_1, \\psi_1, \\phi_2, \\psi_2, ..., \\phi_n, \\psi_n$:"
   ]
  },
  {
   "cell_type": "markdown",
   "metadata": {},
   "source": [
    "**Замечание**: У первого остатка нет угла $\\phi_1$, у последнего - $\\psi_n$. Пусть они будут равны $\\pi$."
   ]
  },
  {
   "cell_type": "code",
   "execution_count": 37,
   "metadata": {},
   "outputs": [],
   "source": [
    "orig_angles = [np.pi]\n",
    "\n",
    "for i in range(len(chain)):\n",
    "    n = chain[i][\"N\"].get_vector()\n",
    "    ca = chain[i][\"CA\"].get_vector()\n",
    "    c = chain[i][\"C\"].get_vector()\n",
    "    \n",
    "    if i != 0:\n",
    "        #phi = np.pi\n",
    "   # else:\n",
    "        c_prev = chain[i-1][\"C\"].get_vector()\n",
    "        phi = pdb.calc_dihedral(c_prev,n,ca,c)\n",
    "        orig_angles.append(phi)\n",
    "    \n",
    "    if i != len(chain)-1:\n",
    "        #psi = np.pi\n",
    "    #else:\n",
    "        n_next = chain[i+1][\"N\"].get_vector()\n",
    "        psi = pdb.calc_dihedral(n, ca,c,n_next)\n",
    "        orig_angles.append(psi)\n",
    "    \n",
    "orig_angles.append(np.pi)"
   ]
  },
  {
   "cell_type": "code",
   "execution_count": 38,
   "metadata": {},
   "outputs": [
    {
     "data": {
      "text/plain": [
       "(90, 90)"
      ]
     },
     "execution_count": 38,
     "metadata": {},
     "output_type": "execute_result"
    }
   ],
   "source": [
    "len(orig_angles),len(chain)*2"
   ]
  },
  {
   "cell_type": "markdown",
   "metadata": {},
   "source": [
    "## 1.2. Построим матрицу расстояний по реальным координатам $C_\\beta$:"
   ]
  },
  {
   "cell_type": "markdown",
   "metadata": {},
   "source": [
    "**Замечание**: Если у первого остатка нет угла $\\phi_1$, то и $C_\\beta$ может не быть. А что, а вдруг? 🤔"
   ]
  },
  {
   "cell_type": "markdown",
   "metadata": {},
   "source": [
    "Заменим у первого остатка координату $C_\\beta$ на $C_\\alpha$."
   ]
  },
  {
   "cell_type": "markdown",
   "metadata": {},
   "source": [
    "**К слову**: Вы же помните, что у глицина (GLY) нет $C_\\beta$? 😉"
   ]
  },
  {
   "cell_type": "code",
   "execution_count": null,
   "metadata": {},
   "outputs": [],
   "source": []
  },
  {
   "cell_type": "code",
   "execution_count": 39,
   "metadata": {},
   "outputs": [],
   "source": [
    "cbs = np.array([res[\"CB\"\n",
    "                    if (i != 0 and res.resname != \"GLY\")\n",
    "                    else \"CA\"].coord \n",
    "                for i,res in enumerate(chain)])"
   ]
  },
  {
   "cell_type": "code",
   "execution_count": 40,
   "metadata": {},
   "outputs": [],
   "source": [
    "orig_matr = np.zeros((len(cbs), len(cbs)))\n",
    "for i in range(len(cbs) - 1):\n",
    "    for j in range(i, len(cbs)):\n",
    "        orig_matr[i,j] = orig_matr[j,i] = np.linalg.norm(cbs[i] - cbs[j])"
   ]
  },
  {
   "cell_type": "code",
   "execution_count": 41,
   "metadata": {},
   "outputs": [
    {
     "data": {
      "text/plain": [
       "array([[ 0.        ,  4.73853922,  6.17882872, ..., 27.07105446,\n",
       "        24.92765617, 25.13708305],\n",
       "       [ 4.73853922,  0.        ,  5.44976282, ..., 22.76605415,\n",
       "        20.8547802 , 20.77360153],\n",
       "       [ 6.17882872,  5.44976282,  0.        , ..., 24.48826027,\n",
       "        23.29394722, 23.58060455],\n",
       "       ...,\n",
       "       [27.07105446, 22.76605415, 24.48826027, ...,  0.        ,\n",
       "         4.5783987 ,  5.28386164],\n",
       "       [24.92765617, 20.8547802 , 23.29394722, ...,  4.5783987 ,\n",
       "         0.        ,  3.78366852],\n",
       "       [25.13708305, 20.77360153, 23.58060455, ...,  5.28386164,\n",
       "         3.78366852,  0.        ]])"
      ]
     },
     "execution_count": 41,
     "metadata": {},
     "output_type": "execute_result"
    }
   ],
   "source": [
    "orig_matr"
   ]
  },
  {
   "cell_type": "code",
   "execution_count": 42,
   "metadata": {},
   "outputs": [
    {
     "data": {
      "image/png": "[encoded data removed]",
      "text/plain": [
       "<Figure size 1008x504 with 2 Axes>"
      ]
     },
     "metadata": {
      "needs_background": "light"
     },
     "output_type": "display_data"
    }
   ],
   "source": [
    "R = 8\n",
    "\n",
    "_, axs = plt.subplots(1,2,figsize=(14,7))\n",
    "axs[0].imshow(orig_matr)\n",
    "axs[1].imshow(orig_matr < R)\n",
    "plt.show()"
   ]
  },
  {
   "cell_type": "markdown",
   "metadata": {},
   "source": [
    " "
   ]
  },
  {
   "cell_type": "markdown",
   "metadata": {},
   "source": [
    " "
   ]
  },
  {
   "cell_type": "markdown",
   "metadata": {},
   "source": [
    " "
   ]
  },
  {
   "cell_type": "markdown",
   "metadata": {},
   "source": [
    "# 2. Работа с потенциалом!"
   ]
  },
  {
   "cell_type": "code",
   "execution_count": 43,
   "metadata": {},
   "outputs": [
    {
     "ename": "FileNotFoundError",
     "evalue": "[Errno 2] No such file or directory: './contacts_pdb1w4e_2020_07_22_14_31_46/torsion/0/torsions/1w4eA00.torsions'",
     "output_type": "error",
     "traceback": [
      "\u001b[0;31m---------------------------------------------------------------------------\u001b[0m",
      "\u001b[0;31mFileNotFoundError\u001b[0m                         Traceback (most recent call last)",
      "Input \u001b[0;32mIn [43]\u001b[0m, in \u001b[0;36m<cell line: 1>\u001b[0;34m()\u001b[0m\n\u001b[0;32m----> 1\u001b[0m pot \u001b[38;5;241m=\u001b[39m Potential(\u001b[43mread_pickle\u001b[49m\u001b[43m(\u001b[49m\u001b[43mp4\u001b[49m\u001b[43m)\u001b[49m[\u001b[38;5;124m\"\u001b[39m\u001b[38;5;124msequence\u001b[39m\u001b[38;5;124m\"\u001b[39m], p1, p2, p4, init_angles_by_dists\u001b[38;5;241m=\u001b[39m\u001b[38;5;28;01mFalse\u001b[39;00m)\n",
      "File \u001b[0;32m~/Desktop/hse/alphafold_potential/supplementary.py:7\u001b[0m, in \u001b[0;36mread_pickle\u001b[0;34m(path)\u001b[0m\n\u001b[1;32m      6\u001b[0m \u001b[38;5;28;01mdef\u001b[39;00m \u001b[38;5;21mread_pickle\u001b[39m(path):\n\u001b[0;32m----> 7\u001b[0m     output \u001b[38;5;241m=\u001b[39m \u001b[38;5;28;43mopen\u001b[39;49m\u001b[43m(\u001b[49m\u001b[43mpath\u001b[49m\u001b[43m,\u001b[49m\u001b[43m \u001b[49m\u001b[38;5;124;43m'\u001b[39;49m\u001b[38;5;124;43mrb\u001b[39;49m\u001b[38;5;124;43m'\u001b[39;49m\u001b[43m)\u001b[49m\n\u001b[1;32m      8\u001b[0m     pred_pickle \u001b[38;5;241m=\u001b[39m pkl\u001b[38;5;241m.\u001b[39mload(output, encoding\u001b[38;5;241m=\u001b[39m\u001b[38;5;124m'\u001b[39m\u001b[38;5;124mlatin1\u001b[39m\u001b[38;5;124m'\u001b[39m)\n\u001b[1;32m      9\u001b[0m     output\u001b[38;5;241m.\u001b[39mclose()\n",
      "\u001b[0;31mFileNotFoundError\u001b[0m: [Errno 2] No such file or directory: './contacts_pdb1w4e_2020_07_22_14_31_46/torsion/0/torsions/1w4eA00.torsions'"
     ]
    }
   ],
   "source": [
    "pot = Potential(read_pickle(p4)[\"sequence\"], p1, p2, p4, init_angles_by_dists=False)"
   ]
  },
  {
   "cell_type": "markdown",
   "metadata": {},
   "source": [
    "## 2.1. Для начала посмотрим на значения потенциала AlphaFold для оригинальных данных:"
   ]
  },
  {
   "cell_type": "markdown",
   "metadata": {},
   "source": [
    "Мы получили, что весь потенциал можно сделать зависимым от $\\phi, \\psi$. Подставим вектор оригинальных значений $\\phi, \\psi$ в потенциал:"
   ]
  },
  {
   "cell_type": "code",
   "execution_count": 44,
   "metadata": {},
   "outputs": [
    {
     "ename": "NameError",
     "evalue": "name 'pot' is not defined",
     "output_type": "error",
     "traceback": [
      "\u001b[0;31m---------------------------------------------------------------------------\u001b[0m",
      "\u001b[0;31mNameError\u001b[0m                                 Traceback (most recent call last)",
      "Input \u001b[0;32mIn [44]\u001b[0m, in \u001b[0;36m<cell line: 1>\u001b[0;34m()\u001b[0m\n\u001b[0;32m----> 1\u001b[0m \u001b[43mpot\u001b[49m\u001b[38;5;241m.\u001b[39mcalc(orig_angles)\n",
      "\u001b[0;31mNameError\u001b[0m: name 'pot' is not defined"
     ]
    }
   ],
   "source": [
    "pot.calc(orig_angles)"
   ]
  },
  {
   "cell_type": "markdown",
   "metadata": {},
   "source": [
    "Хорош ли этот результат? 🤔"
   ]
  },
  {
   "cell_type": "markdown",
   "metadata": {},
   "source": [
    " "
   ]
  },
  {
   "cell_type": "markdown",
   "metadata": {},
   "source": [
    "Посмотрим отдельно значения составных частей потенциала:"
   ]
  },
  {
   "cell_type": "markdown",
   "metadata": {},
   "source": [
    "- $V_{distance}$:"
   ]
  },
  {
   "cell_type": "code",
   "execution_count": 19,
   "metadata": {},
   "outputs": [
    {
     "ename": "NameError",
     "evalue": "name 'pot' is not defined",
     "output_type": "error",
     "traceback": [
      "\u001b[0;31m---------------------------------------------------------------------------\u001b[0m",
      "\u001b[0;31mNameError\u001b[0m                                 Traceback (most recent call last)",
      "Input \u001b[0;32mIn [19]\u001b[0m, in \u001b[0;36m<cell line: 1>\u001b[0;34m()\u001b[0m\n\u001b[0;32m----> 1\u001b[0m \u001b[43mpot\u001b[49m\u001b[38;5;241m.\u001b[39m_calc_distance_potential(orig_angles)\n",
      "\u001b[0;31mNameError\u001b[0m: name 'pot' is not defined"
     ]
    }
   ],
   "source": [
    "pot._calc_distance_potential(orig_angles)"
   ]
  },
  {
   "cell_type": "markdown",
   "metadata": {},
   "source": [
    "- $V_{torsion}$:"
   ]
  },
  {
   "cell_type": "code",
   "execution_count": 20,
   "metadata": {},
   "outputs": [
    {
     "ename": "NameError",
     "evalue": "name 'pot' is not defined",
     "output_type": "error",
     "traceback": [
      "\u001b[0;31m---------------------------------------------------------------------------\u001b[0m",
      "\u001b[0;31mNameError\u001b[0m                                 Traceback (most recent call last)",
      "Input \u001b[0;32mIn [20]\u001b[0m, in \u001b[0;36m<cell line: 1>\u001b[0;34m()\u001b[0m\n\u001b[0;32m----> 1\u001b[0m \u001b[43mpot\u001b[49m\u001b[38;5;241m.\u001b[39m_calc_torsion_potential(orig_angles)\n",
      "\u001b[0;31mNameError\u001b[0m: name 'pot' is not defined"
     ]
    }
   ],
   "source": [
    "pot._calc_torsion_potential(orig_angles)"
   ]
  },
  {
   "cell_type": "raw",
   "metadata": {},
   "source": [
    "Так как большой торсион потенциал, это настораживает, но пока сложно что-то сказать"
   ]
  },
  {
   "cell_type": "markdown",
   "metadata": {},
   "source": [
    " "
   ]
  },
  {
   "cell_type": "markdown",
   "metadata": {},
   "source": [
    "$\\uparrow$ Какой вывод можно сделать из такого результата?"
   ]
  },
  {
   "cell_type": "markdown",
   "metadata": {},
   "source": [
    "**your ideas here**: TODO"
   ]
  },
  {
   "cell_type": "markdown",
   "metadata": {},
   "source": [
    " "
   ]
  },
  {
   "cell_type": "markdown",
   "metadata": {},
   "source": [
    " "
   ]
  },
  {
   "cell_type": "markdown",
   "metadata": {},
   "source": [
    " "
   ]
  },
  {
   "cell_type": "markdown",
   "metadata": {},
   "source": [
    "## 2.2. Минимизируем!"
   ]
  },
  {
   "cell_type": "markdown",
   "metadata": {},
   "source": [
    "Выберем начальные значения углов. Пусть это будут наиболее вероятные углы с точки зрения потенциала $V_{torsion}$:"
   ]
  },
  {
   "cell_type": "code",
   "execution_count": 40,
   "metadata": {},
   "outputs": [],
   "source": [
    "x0 = pot.get_initial_angles()"
   ]
  },
  {
   "cell_type": "raw",
   "metadata": {},
   "source": [
    "Наиболее вероятные углы с точки зрения потенциала. Отсюда и начнем минимизацию"
   ]
  },
  {
   "cell_type": "code",
   "execution_count": 49,
   "metadata": {},
   "outputs": [
    {
     "data": {
      "text/plain": [
       "array([-1.22173048, -0.6981317 , -1.22173048, -0.6981317 , -1.22173048,\n",
       "       -0.87266463, -1.22173048, -0.87266463, -1.22173048, -0.87266463,\n",
       "       -1.22173048, -0.87266463, -1.22173048,  2.61799388, -1.3962634 ,\n",
       "        2.7925268 , -1.22173048, -0.87266463, -1.22173048, -0.6981317 ,\n",
       "       -1.22173048, -0.6981317 , -1.22173048, -0.87266463, -1.22173048,\n",
       "       -0.87266463, -1.22173048, -0.87266463, -1.22173048, -0.87266463,\n",
       "       -1.22173048, -0.6981317 , -1.22173048, -0.6981317 , -1.22173048,\n",
       "       -0.87266463, -1.22173048, -0.6981317 , -1.22173048, -0.87266463,\n",
       "       -1.22173048, -0.87266463, -1.22173048, -0.87266463, -1.22173048,\n",
       "       -0.87266463, -1.22173048, -0.87266463, -1.22173048, -0.6981317 ,\n",
       "       -1.22173048, -0.87266463, -1.22173048, -0.6981317 , -1.04719755,\n",
       "       -0.87266463, -1.22173048, -0.6981317 , -1.04719755,  2.26892803,\n",
       "       -1.04719755, -0.87266463, -1.22173048, -0.87266463, -1.22173048,\n",
       "       -0.87266463, -1.22173048, -0.6981317 , -1.04719755, -0.87266463,\n",
       "       -1.22173048, -0.87266463, -1.22173048, -0.87266463, -1.22173048,\n",
       "       -0.87266463, -1.04719755, -0.87266463, -1.22173048, -0.87266463,\n",
       "       -1.22173048, -0.87266463, -1.22173048, -0.87266463, -1.22173048,\n",
       "       -0.6981317 , -1.3962634 , -0.34906585,  1.57079633,  0.        ])"
      ]
     },
     "execution_count": 49,
     "metadata": {},
     "output_type": "execute_result"
    }
   ],
   "source": [
    "x0"
   ]
  },
  {
   "cell_type": "markdown",
   "metadata": {},
   "source": [
    "**К слову**: а какое значение потенциала $V_{torsion}$ для $x_0$? 🤔"
   ]
  },
  {
   "cell_type": "code",
   "execution_count": 52,
   "metadata": {},
   "outputs": [
    {
     "data": {
      "text/plain": [
       "4.612518605830157"
      ]
     },
     "execution_count": 52,
     "metadata": {},
     "output_type": "execute_result"
    }
   ],
   "source": [
    "pot._calc_distance_potential(x0)"
   ]
  },
  {
   "cell_type": "code",
   "execution_count": 41,
   "metadata": {},
   "outputs": [
    {
     "data": {
      "text/plain": [
       "307.82789998557877"
      ]
     },
     "execution_count": 41,
     "metadata": {},
     "output_type": "execute_result"
    }
   ],
   "source": [
    "pot._calc_torsion_potential(x0)"
   ]
  },
  {
   "cell_type": "raw",
   "metadata": {},
   "source": [
    "Разница с оригиналами разительная.\n"
   ]
  },
  {
   "cell_type": "code",
   "execution_count": 53,
   "metadata": {},
   "outputs": [
    {
     "data": {
      "text/plain": [
       "312.4404185914089"
      ]
     },
     "execution_count": 53,
     "metadata": {},
     "output_type": "execute_result"
    }
   ],
   "source": [
    "pot.calc(x0)"
   ]
  },
  {
   "cell_type": "markdown",
   "metadata": {},
   "source": [
    " "
   ]
  },
  {
   "cell_type": "markdown",
   "metadata": {},
   "source": [
    "Зададим множества значений переменных. Хорошо бы поставить границы $[\\pi, \\pi]$, но может, стоит как-то расширить диапазон? 🤔"
   ]
  },
  {
   "cell_type": "code",
   "execution_count": 42,
   "metadata": {},
   "outputs": [],
   "source": [
    "bounds = [[-1.5 * np.pi, 1.5 * np.pi]] * len(x0)"
   ]
  },
  {
   "cell_type": "code",
   "execution_count": 55,
   "metadata": {},
   "outputs": [
    {
     "data": {
      "text/plain": [
       "[[-4.71238898038469, 4.71238898038469],\n",
       " [-4.71238898038469, 4.71238898038469],\n",
       " [-4.71238898038469, 4.71238898038469]]"
      ]
     },
     "execution_count": 55,
     "metadata": {},
     "output_type": "execute_result"
    }
   ],
   "source": [
    "bounds[:3]"
   ]
  },
  {
   "cell_type": "markdown",
   "metadata": {},
   "source": [
    " "
   ]
  },
  {
   "cell_type": "markdown",
   "metadata": {},
   "source": [
    "Алгоритм минимизации - BFGS. Но оригинальный BFGS:\n",
    "\n",
    "    - Не может обрабатывать ограничение множества значений переменных\n",
    "    \n",
    "    - Неэкономно расходует память\n",
    "    \n",
    "Поэтому возьмем модификацию BFGS - L-BFGS-B, которая предназначена для минимизации на ограниченных \"брусах\" в условиях ограниченной памяти:"
   ]
  },
  {
   "cell_type": "code",
   "execution_count": 43,
   "metadata": {},
   "outputs": [],
   "source": [
    "method = \"L-BFGS-B\""
   ]
  },
  {
   "cell_type": "markdown",
   "metadata": {},
   "source": [
    " "
   ]
  },
  {
   "cell_type": "markdown",
   "metadata": {},
   "source": [
    "А еще мы можем попытаться \"упростить жизнь\" алгоритму за счет передачи ему функции, которая точно. вычисляет первую производную целевой функции в произвольной точке:"
   ]
  },
  {
   "cell_type": "code",
   "execution_count": 44,
   "metadata": {},
   "outputs": [],
   "source": [
    "diff = pot.derivative"
   ]
  },
  {
   "cell_type": "markdown",
   "metadata": {},
   "source": [
    " "
   ]
  },
  {
   "cell_type": "markdown",
   "metadata": {},
   "source": [
    "Уфф. Запускаем!"
   ]
  },
  {
   "cell_type": "code",
   "execution_count": 45,
   "metadata": {},
   "outputs": [],
   "source": [
    "from time import time"
   ]
  },
  {
   "cell_type": "code",
   "execution_count": 47,
   "metadata": {},
   "outputs": [
    {
     "name": "stdout",
     "output_type": "stream",
     "text": [
      "minimization started\n",
      "minimization over. res =  (False, 'ABNORMAL_TERMINATION_IN_LNSRCH')\n",
      "\tMinimization took 12.796360969543457 sec\n"
     ]
    }
   ],
   "source": [
    "print(\"minimization started\")\n",
    "st_time = time()\n",
    "\n",
    "min_res = minimize(pot.calc, \n",
    "                   x0=x0,\n",
    "                   bounds=bounds,\n",
    "                   jac=diff,\n",
    "                   method=method\n",
    "                  )\n",
    "print(\"minimization over. res = \", (min_res.success, min_res.message))\n",
    "print(f\"\\tMinimization took {time() - st_time} sec\")"
   ]
  },
  {
   "cell_type": "code",
   "execution_count": 56,
   "metadata": {},
   "outputs": [
    {
     "data": {
      "text/plain": [
       "      fun: 284.424963879021\n",
       " hess_inv: <90x90 LbfgsInvHessProduct with dtype=float64>\n",
       "      jac: array([-8.52086891e+00,  1.64063934e+02, -2.04870416e-01, -6.12536493e+00,\n",
       "       -6.19586994e+00,  1.49698369e+00, -3.13041139e+03, -2.43349973e+02,\n",
       "        2.07335341e+00,  3.49704810e+00, -5.62727366e+00, -9.63280809e+00,\n",
       "        4.77757710e-01, -3.40278813e-01, -1.23062498e+01,  4.17074441e+00,\n",
       "       -5.56185170e+00, -1.38816337e+01, -1.11745192e+01,  2.56421843e+00,\n",
       "       -5.74579315e+01,  1.16297239e+01, -1.67171271e-01,  4.82727044e+00,\n",
       "       -1.27285027e+01, -1.83130518e+01, -4.22715014e-02,  6.75168406e+00,\n",
       "       -7.41139073e+02,  2.57409082e+02, -3.12303462e+00, -6.57645167e+00,\n",
       "        1.02086540e+01, -1.94035279e+01, -8.16904950e+00, -1.51746524e+01,\n",
       "       -5.70705734e+00, -2.41465668e+00, -1.02157799e+00,  1.66540425e-02,\n",
       "       -4.80553540e+00, -6.82462674e-01, -5.64648400e+01, -1.92809123e+01,\n",
       "       -1.38461127e+03,  1.27155111e+00, -2.49739982e+03,  1.12733432e+02,\n",
       "       -4.44160214e+00,  2.01384156e+01, -4.44193169e+00,  6.17035691e+02,\n",
       "       -1.83121124e+03,  1.46995124e+02,  6.81460816e+01, -2.37280044e+00,\n",
       "        1.23337798e+01,  1.58573454e+01,  3.84363186e-01, -6.17752504e+00,\n",
       "       -2.97722503e+00,  1.81005133e+00,  6.02655818e+00,  8.77005486e+00,\n",
       "        8.03820350e+00,  8.09509911e+00, -1.49595476e+01, -2.69984844e+01,\n",
       "       -8.63278330e+00,  5.32660210e+01, -4.17967061e+01,  2.78922522e-01,\n",
       "       -1.38489811e+00,  9.92182605e+01, -7.95128861e+03,  1.11660069e+01,\n",
       "        2.02943406e+02, -9.53816733e+02, -2.10365635e+01,  1.15996747e+01,\n",
       "        6.01415239e-01, -2.73912232e+00, -2.18076964e+00, -1.62673589e+00,\n",
       "       -1.84682580e+01,  4.96827882e+00,  1.24686283e+00,  3.08389985e+00,\n",
       "       -2.17978706e+00, -1.23919946e+00])\n",
       "  message: 'ABNORMAL_TERMINATION_IN_LNSRCH'\n",
       "     nfev: 89\n",
       "      nit: 5\n",
       "     njev: 89\n",
       "   status: 2\n",
       "  success: False\n",
       "        x: array([-0.91698768, -0.96723634, -0.84830145, -0.33568327, -0.8242055 ,\n",
       "       -0.55060108, -0.82269162, -1.08623308, -1.45177073, -1.1274509 ,\n",
       "       -0.82420545, -0.49851884, -0.85189146,  2.16492149, -0.98704084,\n",
       "        2.85314952, -0.82420719, -0.49851828, -0.82419173, -0.36863701,\n",
       "       -0.98340175, -0.96704846, -1.4178397 , -1.12975055, -0.82420029,\n",
       "       -0.49850827, -0.86900902, -0.54333698, -0.82472213, -1.08682856,\n",
       "       -1.42518834, -0.92223652, -0.86902393, -0.33792851, -0.82419791,\n",
       "       -0.49850982, -1.08480828, -0.92224276, -1.34364102, -1.10765948,\n",
       "       -0.84658794, -0.51235688, -0.82422517, -1.08692558, -0.82370147,\n",
       "       -1.12349476, -0.82269699, -1.08546819, -0.84557342, -0.38052897,\n",
       "       -0.8242377 , -1.12982883, -0.8230764 , -0.96723276, -0.70622696,\n",
       "       -1.08508538, -0.8690348 , -0.38050641, -1.28712284,  2.43261965,\n",
       "       -0.68652882, -0.54331461, -1.45556996, -1.12988857, -1.45557407,\n",
       "       -1.12989387, -0.82419403, -0.3356452 , -0.66135364, -0.54332781,\n",
       "       -0.82419242, -1.10067618, -1.08315228, -0.91966423, -0.82165901,\n",
       "       -1.08532607, -0.70648116, -1.08437231, -0.82474184, -0.54334919,\n",
       "       -0.85113065, -0.50768574, -1.11844744, -1.10762374, -1.2169269 ,\n",
       "       -0.96705016, -1.31090477, -0.16092028,  1.61315724,  0.05189707])"
      ]
     },
     "execution_count": 56,
     "metadata": {},
     "output_type": "execute_result"
    }
   ],
   "source": [
    "min_res"
   ]
  },
  {
   "cell_type": "markdown",
   "metadata": {},
   "source": [
    " "
   ]
  },
  {
   "cell_type": "markdown",
   "metadata": {},
   "source": [
    " "
   ]
  },
  {
   "cell_type": "markdown",
   "metadata": {},
   "source": [
    " "
   ]
  },
  {
   "cell_type": "markdown",
   "metadata": {},
   "source": [
    "# 3. Оценим результат 🤔"
   ]
  },
  {
   "cell_type": "code",
   "execution_count": 48,
   "metadata": {},
   "outputs": [
    {
     "data": {
      "image/png": "[encoded data removed]",
      "text/plain": [
       "<Figure size 1080x360 with 6 Axes>"
      ]
     },
     "metadata": {
      "needs_background": "light"
     },
     "output_type": "display_data"
    }
   ],
   "source": [
    "fig, axs = plt.subplots(1,3, figsize=(15,5))\n",
    "im = axs[0].imshow(orig_matr)\n",
    "axs[0].set_title(\"Матрица расстояний\\nдля нативного состояния\\nПотенциал = {}\".format(pot.calc(orig_angles)))\n",
    "cbar = plt.colorbar(im, ax=axs[0])\n",
    "\n",
    "imp = QCPSuperimposer()\n",
    "imp.set(cbs, np.array(pot._model.get_cb_coords(pot.get_initial_angles()[1:-1])[0]))\n",
    "imp.run()\n",
    "\n",
    "im = axs[1].imshow(pot._model.get_cb_dist_matrix(pot.get_initial_angles()[1:-1]))\n",
    "axs[1].set_title(\"Матрица для $x_0$.\\nПотенциал = {}\\nRMSD = {}\".format(pot.calc(pot.get_initial_angles()), \n",
    "                                                                        imp.get_rms()))\n",
    "plt.colorbar(im, ax=axs[1])\n",
    "\n",
    "imp = QCPSuperimposer()\n",
    "imp.set(cbs, np.array(pot._model.get_cb_coords(min_res.x[1:-1])[0]))\n",
    "imp.run()\n",
    "\n",
    "im = axs[2].imshow(pot._model.get_cb_dist_matrix(min_res.x[1:-1]))\n",
    "axs[2].set_title(\"Матрица для $x^*$ (после минимизации).\\nПотенциал: {}\\nRMSD = {}\".format(pot.calc(min_res.x), imp.get_rms()))\n",
    "plt.colorbar(im, ax=axs[2])\n",
    "# fig.suptitle(\"Белок 1h1j. Длина: {}\".format(len(chain)))\n",
    "plt.show()"
   ]
  },
  {
   "cell_type": "markdown",
   "metadata": {},
   "source": [
    " "
   ]
  },
  {
   "cell_type": "markdown",
   "metadata": {},
   "source": [
    " "
   ]
  },
  {
   "cell_type": "markdown",
   "metadata": {},
   "source": [
    "$\\uparrow$ Что получилось? Какие можно сделать выводы? 🤔"
   ]
  },
  {
   "cell_type": "markdown",
   "metadata": {},
   "source": [
    "$\\rightarrow$ **your ideas here**: TODO"
   ]
  }
 ],
 "metadata": {
  "kernelspec": {
   "display_name": "Python 3 (ipykernel)",
   "language": "python",
   "name": "python3"
  },
  "language_info": {
   "codemirror_mode": {
    "name": "ipython",
    "version": 3
   },
   "file_extension": ".py",
   "mimetype": "text/x-python",
   "name": "python",
   "nbconvert_exporter": "python",
   "pygments_lexer": "ipython3",
   "version": "3.9.12"
  }
 },
 "nbformat": 4,
 "nbformat_minor": 4
}
