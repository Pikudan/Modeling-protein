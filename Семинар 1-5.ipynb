{
 "cells": [
  {
   "cell_type": "markdown",
   "metadata": {},
   "source": [
    "# Семинар 5: Потенциал AlphaFold"
   ]
  },
  {
   "cell_type": "markdown",
   "metadata": {},
   "source": [
    " "
   ]
  },
  {
   "cell_type": "markdown",
   "metadata": {},
   "source": [
    " "
   ]
  },
  {
   "cell_type": "markdown",
   "metadata": {},
   "source": [
    "# Попробуем сделать предсказание структуры белка с помощью минимизации потенциала AlphaFold из имеющихся дистограмм.\n",
    "\n",
    "# Сегодня будем работать с отсносительно короткими белками - длиной 40-50."
   ]
  },
  {
   "cell_type": "markdown",
   "metadata": {},
   "source": [
    " "
   ]
  },
  {
   "cell_type": "markdown",
   "metadata": {},
   "source": [
    " "
   ]
  },
  {
   "cell_type": "markdown",
   "metadata": {},
   "source": [
    "# 0. Приготовления!"
   ]
  },
  {
   "cell_type": "markdown",
   "metadata": {},
   "source": [
    "В этом семинаре потребуется много всего. 🙂"
   ]
  },
  {
   "cell_type": "markdown",
   "metadata": {},
   "source": [
    "Для начала библиотеки, с которыми мы уже работали:"
   ]
  },
  {
   "cell_type": "code",
   "execution_count": 11,
   "metadata": {},
   "outputs": [
    {
     "name": "stdout",
     "output_type": "stream",
     "text": [
      "Requirement already satisfied: Bio in /opt/anaconda3/lib/python3.9/site-packages (1.4.0)\r\n",
      "Requirement already satisfied: requests in /opt/anaconda3/lib/python3.9/site-packages (from Bio) (2.27.1)\r\n",
      "Requirement already satisfied: tqdm in /opt/anaconda3/lib/python3.9/site-packages (from Bio) (4.64.0)\r\n",
      "Requirement already satisfied: mygene in /opt/anaconda3/lib/python3.9/site-packages (from Bio) (3.2.2)\r\n",
      "Requirement already satisfied: biopython>=1.79 in /opt/anaconda3/lib/python3.9/site-packages (from Bio) (1.79)\r\n",
      "Requirement already satisfied: numpy in /opt/anaconda3/lib/python3.9/site-packages (from biopython>=1.79->Bio) (1.21.5)\r\n",
      "Requirement already satisfied: biothings-client>=0.2.6 in /opt/anaconda3/lib/python3.9/site-packages (from mygene->Bio) (0.2.6)\r\n",
      "Requirement already satisfied: certifi>=2017.4.17 in /opt/anaconda3/lib/python3.9/site-packages (from requests->Bio) (2021.10.8)\r\n",
      "Requirement already satisfied: urllib3<1.27,>=1.21.1 in /opt/anaconda3/lib/python3.9/site-packages (from requests->Bio) (1.26.9)\r\n",
      "Requirement already satisfied: idna<4,>=2.5 in /opt/anaconda3/lib/python3.9/site-packages (from requests->Bio) (3.3)\r\n",
      "Requirement already satisfied: charset-normalizer~=2.0.0 in /opt/anaconda3/lib/python3.9/site-packages (from requests->Bio) (2.0.4)\r\n"
     ]
    }
   ],
   "source": [
    "!pip install Bio"
   ]
  },
  {
   "cell_type": "code",
   "execution_count": 12,
   "metadata": {},
   "outputs": [],
   "source": [
    "import Bio.PDB as pdb\n",
    "from Bio.PDB.QCPSuperimposer import QCPSuperimposer\n",
    "import numpy as np\n",
    "import matplotlib.pyplot as plt\n",
    "import os"
   ]
  },
  {
   "cell_type": "markdown",
   "metadata": {},
   "source": [
    "Потенциал требует минимизации. Оптимизировать будем с помощью модуля **scipy.optimize**:"
   ]
  },
  {
   "cell_type": "code",
   "execution_count": 13,
   "metadata": {},
   "outputs": [],
   "source": [
    "from scipy.optimize import minimize"
   ]
  },
  {
   "cell_type": "markdown",
   "metadata": {},
   "source": [
    "Главный герой сегодняшнего семинара. Загрузите <a href=\"https://disk.yandex.ru/d/3eFkKsx7coUqXA\">Python модуль для вычисления потенциала AlphaFold</a> и положите его в ту же директорию, где лежит эта тетрадка."
   ]
  },
  {
   "cell_type": "code",
   "execution_count": 14,
   "metadata": {},
   "outputs": [],
   "source": [
    "from alphafold_potential.potential import Potential\n",
    "from alphafold_potential.supplementary import read_pickle"
   ]
  },
  {
   "cell_type": "markdown",
   "metadata": {},
   "source": [
    " "
   ]
  },
  {
   "cell_type": "markdown",
   "metadata": {},
   "source": [
    " "
   ]
  },
  {
   "cell_type": "markdown",
   "metadata": {},
   "source": [
    "# 1. Прочитаем данные:"
   ]
  },
  {
   "cell_type": "markdown",
   "metadata": {},
   "source": [
    "Загрузите папку с результатами первого этапа работы AlphaFold для своего белка <a href=\"https://disk.yandex.ru/d/vW79A2J3-M_-gg\">отсюда</a>. Положите папку целиком в ту же директорию, где находится эта тетрадка."
   ]
  },
  {
   "cell_type": "code",
   "execution_count": 21,
   "metadata": {},
   "outputs": [],
   "source": [
    "dir_name = 'contacts_pdb1h1j_2020_07_22_12_10_37'"
   ]
  },
  {
   "cell_type": "code",
   "execution_count": 22,
   "metadata": {},
   "outputs": [],
   "source": [
    "pdb_id = dir_name.split(\"_\")[1][3:]"
   ]
  },
  {
   "cell_type": "code",
   "execution_count": 23,
   "metadata": {},
   "outputs": [],
   "source": [
    "p1 = f\"./{dir_name}/pasted/{pdb_id}.pickle\"\n",
    "p2 = f\"./{dir_name}/background_distogram/ensemble/{pdb_id}.pickle\"\n",
    "p3 = f\"./{dir_name}/torsion/ensemble/{pdb_id}.pickle\"\n",
    "p4 = f\"./{dir_name}/torsion/0/torsions/{pdb_id}.torsions\""
   ]
  },
  {
   "cell_type": "markdown",
   "metadata": {},
   "source": [
    "Загрузим белок, которому соответствуют загруженные выше данные:"
   ]
  },
  {
   "cell_type": "code",
   "execution_count": 24,
   "metadata": {},
   "outputs": [
    {
     "name": "stdout",
     "output_type": "stream",
     "text": [
      "Downloading PDB structure '1h1j'...\n"
     ]
    }
   ],
   "source": [
    "path = pdb.PDBList().retrieve_pdb_file(pdb_id, file_format=\"pdb\")"
   ]
  },
  {
   "cell_type": "code",
   "execution_count": 26,
   "metadata": {},
   "outputs": [],
   "source": [
    "parser = pdb.PDBParser()\n",
    "chain = parser.get_structure(\"s\", path)[0].child_list[0].child_list"
   ]
  },
  {
   "cell_type": "markdown",
   "metadata": {},
   "source": [
    "## 1.1. Для сравнения результата минимизации с оргинальными значениями $\\phi, \\psi$ посчитаем все двугранные углы реального белка."
   ]
  },
  {
   "cell_type": "markdown",
   "metadata": {},
   "source": [
    "Зададим вектор **orig_angles**, в котором последовательно запишем $\\phi_1, \\psi_1, \\phi_2, \\psi_2, ..., \\phi_n, \\psi_n$:"
   ]
  },
  {
   "cell_type": "markdown",
   "metadata": {},
   "source": [
    "**Замечание**: У первого остатка нет угла $\\phi_1$, у последнего - $\\psi_n$. Пусть они будут равны $\\pi$."
   ]
  },
  {
   "cell_type": "code",
   "execution_count": 32,
   "metadata": {},
   "outputs": [],
   "source": [
    "orig_angles = [np.pi]\n",
    "for i in range(len(chain)):\n",
    "    n = chain[i][\"N\"].get_vector()\n",
    "    ca = chain[i][\"CA\"].get_vector()\n",
    "    c = chain[i][\"C\"].get_vector()\n",
    "    \n",
    "    if i == 0:\n",
    "        phi = np.pi\n",
    "    else:\n",
    "        c_prev = chain[i - 1][\"C\"].get_vector()\n",
    "        phi = pdb.calc_dihedral(c_prev, n, ca, c)\n",
    "        orig_angles.append(phi)\n",
    "    if i == len(chain) - 1:\n",
    "        psi = np.pi\n",
    "    else:\n",
    "        n_next = chain[i + 1][\"N\"].get_vector()\n",
    "        psi = pdb.calc_dihedral(n, ca, c, n_next)\n",
    "        orig_angles.append(psi)\n",
    "    \n",
    "orig_angles.append(np.pi)"
   ]
  },
  {
   "cell_type": "code",
   "execution_count": 33,
   "metadata": {},
   "outputs": [
    {
     "data": {
      "text/plain": [
       "(88, 88)"
      ]
     },
     "execution_count": 33,
     "metadata": {},
     "output_type": "execute_result"
    }
   ],
   "source": [
    "len(orig_angles), len(chain) * 2"
   ]
  },
  {
   "cell_type": "markdown",
   "metadata": {},
   "source": [
    "## 1.2. Построим матрицу расстояний по реальным координатам $C_\\beta$:"
   ]
  },
  {
   "cell_type": "markdown",
   "metadata": {},
   "source": [
    "**Замечание**: Если у первого остатка нет угла $\\phi_1$, то и $C_\\beta$ может не быть. А что, а вдруг? 🤔"
   ]
  },
  {
   "cell_type": "markdown",
   "metadata": {},
   "source": [
    "Заменим у первого остатка координату $C_\\beta$ на $C_\\alpha$."
   ]
  },
  {
   "cell_type": "markdown",
   "metadata": {},
   "source": [
    "**К слову**: Вы же помните, что у глицина (GLY) нет $C_\\beta$? 😉"
   ]
  },
  {
   "cell_type": "code",
   "execution_count": 46,
   "metadata": {},
   "outputs": [
    {
     "name": "stdout",
     "output_type": "stream",
     "text": [
      "0 <Residue GLY het=  resseq=1 icode= >\n",
      "1 <Residue SER het=  resseq=2 icode= >\n",
      "2 <Residue ALA het=  resseq=3 icode= >\n",
      "3 <Residue ASP het=  resseq=4 icode= >\n",
      "4 <Residue TYR het=  resseq=5 icode= >\n",
      "5 <Residue SER het=  resseq=6 icode= >\n",
      "6 <Residue SER het=  resseq=7 icode= >\n",
      "7 <Residue LEU het=  resseq=8 icode= >\n",
      "8 <Residue THR het=  resseq=9 icode= >\n",
      "9 <Residue VAL het=  resseq=10 icode= >\n",
      "10 <Residue VAL het=  resseq=11 icode= >\n",
      "11 <Residue GLN het=  resseq=12 icode= >\n",
      "12 <Residue LEU het=  resseq=13 icode= >\n",
      "13 <Residue LYS het=  resseq=14 icode= >\n",
      "14 <Residue ASP het=  resseq=15 icode= >\n",
      "15 <Residue LEU het=  resseq=16 icode= >\n",
      "16 <Residue LEU het=  resseq=17 icode= >\n",
      "17 <Residue THR het=  resseq=18 icode= >\n",
      "18 <Residue LYS het=  resseq=19 icode= >\n",
      "19 <Residue ARG het=  resseq=20 icode= >\n",
      "20 <Residue ASN het=  resseq=21 icode= >\n",
      "21 <Residue LEU het=  resseq=22 icode= >\n",
      "22 <Residue SER het=  resseq=23 icode= >\n",
      "23 <Residue VAL het=  resseq=24 icode= >\n",
      "24 <Residue GLY het=  resseq=25 icode= >\n",
      "25 <Residue GLY het=  resseq=26 icode= >\n",
      "26 <Residue LEU het=  resseq=27 icode= >\n",
      "27 <Residue LYS het=  resseq=28 icode= >\n",
      "28 <Residue ASN het=  resseq=29 icode= >\n",
      "29 <Residue GLU het=  resseq=30 icode= >\n",
      "30 <Residue LEU het=  resseq=31 icode= >\n",
      "31 <Residue VAL het=  resseq=32 icode= >\n",
      "32 <Residue GLN het=  resseq=33 icode= >\n",
      "33 <Residue ARG het=  resseq=34 icode= >\n",
      "34 <Residue LEU het=  resseq=35 icode= >\n",
      "35 <Residue ILE het=  resseq=36 icode= >\n",
      "36 <Residue LYS het=  resseq=37 icode= >\n",
      "37 <Residue ASP het=  resseq=38 icode= >\n",
      "38 <Residue ASP het=  resseq=39 icode= >\n",
      "39 <Residue GLU het=  resseq=40 icode= >\n",
      "40 <Residue GLU het=  resseq=41 icode= >\n",
      "41 <Residue SER het=  resseq=42 icode= >\n",
      "42 <Residue LYS het=  resseq=43 icode= >\n",
      "43 <Residue GLY het=  resseq=44 icode= >\n"
     ]
    }
   ],
   "source": [
    "for i, res in enumerate(chain):\n",
    "    print(i ,res)"
   ]
  },
  {
   "cell_type": "code",
   "execution_count": 47,
   "metadata": {},
   "outputs": [
    {
     "name": "stdout",
     "output_type": "stream",
     "text": [
      "<Residue GLY het=  resseq=1 icode= >\n",
      "<Residue SER het=  resseq=2 icode= >\n",
      "<Residue ALA het=  resseq=3 icode= >\n",
      "<Residue ASP het=  resseq=4 icode= >\n",
      "<Residue TYR het=  resseq=5 icode= >\n",
      "<Residue SER het=  resseq=6 icode= >\n",
      "<Residue SER het=  resseq=7 icode= >\n",
      "<Residue LEU het=  resseq=8 icode= >\n",
      "<Residue THR het=  resseq=9 icode= >\n",
      "<Residue VAL het=  resseq=10 icode= >\n",
      "<Residue VAL het=  resseq=11 icode= >\n",
      "<Residue GLN het=  resseq=12 icode= >\n",
      "<Residue LEU het=  resseq=13 icode= >\n",
      "<Residue LYS het=  resseq=14 icode= >\n",
      "<Residue ASP het=  resseq=15 icode= >\n",
      "<Residue LEU het=  resseq=16 icode= >\n",
      "<Residue LEU het=  resseq=17 icode= >\n",
      "<Residue THR het=  resseq=18 icode= >\n",
      "<Residue LYS het=  resseq=19 icode= >\n",
      "<Residue ARG het=  resseq=20 icode= >\n",
      "<Residue ASN het=  resseq=21 icode= >\n",
      "<Residue LEU het=  resseq=22 icode= >\n",
      "<Residue SER het=  resseq=23 icode= >\n",
      "<Residue VAL het=  resseq=24 icode= >\n",
      "<Residue GLY het=  resseq=25 icode= >\n",
      "<Residue GLY het=  resseq=26 icode= >\n",
      "<Residue LEU het=  resseq=27 icode= >\n",
      "<Residue LYS het=  resseq=28 icode= >\n",
      "<Residue ASN het=  resseq=29 icode= >\n",
      "<Residue GLU het=  resseq=30 icode= >\n",
      "<Residue LEU het=  resseq=31 icode= >\n",
      "<Residue VAL het=  resseq=32 icode= >\n",
      "<Residue GLN het=  resseq=33 icode= >\n",
      "<Residue ARG het=  resseq=34 icode= >\n",
      "<Residue LEU het=  resseq=35 icode= >\n",
      "<Residue ILE het=  resseq=36 icode= >\n",
      "<Residue LYS het=  resseq=37 icode= >\n",
      "<Residue ASP het=  resseq=38 icode= >\n",
      "<Residue ASP het=  resseq=39 icode= >\n",
      "<Residue GLU het=  resseq=40 icode= >\n",
      "<Residue GLU het=  resseq=41 icode= >\n",
      "<Residue SER het=  resseq=42 icode= >\n",
      "<Residue LYS het=  resseq=43 icode= >\n",
      "<Residue GLY het=  resseq=44 icode= >\n"
     ]
    }
   ],
   "source": [
    "for i in range(len(chain)):\n",
    "    print(chain[i])"
   ]
  },
  {
   "cell_type": "code",
   "execution_count": 51,
   "metadata": {},
   "outputs": [],
   "source": [
    "cbs = 'B3JJ'"
   ]
  },
  {
   "cell_type": "code",
   "execution_count": 52,
   "metadata": {},
   "outputs": [
    {
     "ename": "TypeError",
     "evalue": "unsupported operand type(s) for -: 'str' and 'str'",
     "output_type": "error",
     "traceback": [
      "\u001b[0;31m---------------------------------------------------------------------------\u001b[0m",
      "\u001b[0;31mTypeError\u001b[0m                                 Traceback (most recent call last)",
      "Input \u001b[0;32mIn [52]\u001b[0m, in \u001b[0;36m<cell line: 2>\u001b[0;34m()\u001b[0m\n\u001b[1;32m      2\u001b[0m \u001b[38;5;28;01mfor\u001b[39;00m i \u001b[38;5;129;01min\u001b[39;00m \u001b[38;5;28mrange\u001b[39m(\u001b[38;5;28mlen\u001b[39m(cbs) \u001b[38;5;241m-\u001b[39m \u001b[38;5;241m1\u001b[39m):\n\u001b[1;32m      3\u001b[0m     \u001b[38;5;28;01mfor\u001b[39;00m j \u001b[38;5;129;01min\u001b[39;00m \u001b[38;5;28mrange\u001b[39m(i, \u001b[38;5;28mlen\u001b[39m(cbs)):\n\u001b[0;32m----> 4\u001b[0m         orig_matr[i,j] \u001b[38;5;241m=\u001b[39m orig_matr[j,i] \u001b[38;5;241m=\u001b[39m np\u001b[38;5;241m.\u001b[39mlinalg\u001b[38;5;241m.\u001b[39mnorm(\u001b[43mcbs\u001b[49m\u001b[43m[\u001b[49m\u001b[43mi\u001b[49m\u001b[43m]\u001b[49m\u001b[43m \u001b[49m\u001b[38;5;241;43m-\u001b[39;49m\u001b[43m \u001b[49m\u001b[43mcbs\u001b[49m\u001b[43m[\u001b[49m\u001b[43mj\u001b[49m\u001b[43m]\u001b[49m)\n",
      "\u001b[0;31mTypeError\u001b[0m: unsupported operand type(s) for -: 'str' and 'str'"
     ]
    }
   ],
   "source": [
    "orig_matr = np.zeros((len(cbs), len(cbs)))\n",
    "for i in range(len(cbs) - 1):\n",
    "    for j in range(i, len(cbs)):\n",
    "        orig_matr[i,j] = orig_matr[j,i] = np.linalg.norm(cbs[i] - cbs[j])"
   ]
  },
  {
   "cell_type": "markdown",
   "metadata": {},
   "source": [
    " "
   ]
  },
  {
   "cell_type": "markdown",
   "metadata": {},
   "source": [
    " "
   ]
  },
  {
   "cell_type": "markdown",
   "metadata": {},
   "source": [
    " "
   ]
  },
  {
   "cell_type": "markdown",
   "metadata": {},
   "source": [
    "# 2. Работа с потенциалом!"
   ]
  },
  {
   "cell_type": "code",
   "execution_count": 53,
   "metadata": {},
   "outputs": [
    {
     "ename": "FileNotFoundError",
     "evalue": "[Errno 2] No such file or directory: './contacts_pdb1h1j_2020_07_22_12_10_37/torsion/0/torsions/1h1j.torsions'",
     "output_type": "error",
     "traceback": [
      "\u001b[0;31m---------------------------------------------------------------------------\u001b[0m",
      "\u001b[0;31mFileNotFoundError\u001b[0m                         Traceback (most recent call last)",
      "Input \u001b[0;32mIn [53]\u001b[0m, in \u001b[0;36m<cell line: 1>\u001b[0;34m()\u001b[0m\n\u001b[0;32m----> 1\u001b[0m pot \u001b[38;5;241m=\u001b[39m Potential(\u001b[43mread_pickle\u001b[49m\u001b[43m(\u001b[49m\u001b[43mp4\u001b[49m\u001b[43m)\u001b[49m[\u001b[38;5;124m\"\u001b[39m\u001b[38;5;124msequence\u001b[39m\u001b[38;5;124m\"\u001b[39m], p1, p2, p4, init_angles_by_dists\u001b[38;5;241m=\u001b[39m\u001b[38;5;28;01mFalse\u001b[39;00m)\n",
      "File \u001b[0;32m~/Desktop/hse/alphafold_potential/supplementary.py:7\u001b[0m, in \u001b[0;36mread_pickle\u001b[0;34m(path)\u001b[0m\n\u001b[1;32m      6\u001b[0m \u001b[38;5;28;01mdef\u001b[39;00m \u001b[38;5;21mread_pickle\u001b[39m(path):\n\u001b[0;32m----> 7\u001b[0m     output \u001b[38;5;241m=\u001b[39m \u001b[38;5;28;43mopen\u001b[39;49m\u001b[43m(\u001b[49m\u001b[43mpath\u001b[49m\u001b[43m,\u001b[49m\u001b[43m \u001b[49m\u001b[38;5;124;43m'\u001b[39;49m\u001b[38;5;124;43mrb\u001b[39;49m\u001b[38;5;124;43m'\u001b[39;49m\u001b[43m)\u001b[49m\n\u001b[1;32m      8\u001b[0m     pred_pickle \u001b[38;5;241m=\u001b[39m pkl\u001b[38;5;241m.\u001b[39mload(output, encoding\u001b[38;5;241m=\u001b[39m\u001b[38;5;124m'\u001b[39m\u001b[38;5;124mlatin1\u001b[39m\u001b[38;5;124m'\u001b[39m)\n\u001b[1;32m      9\u001b[0m     output\u001b[38;5;241m.\u001b[39mclose()\n",
      "\u001b[0;31mFileNotFoundError\u001b[0m: [Errno 2] No such file or directory: './contacts_pdb1h1j_2020_07_22_12_10_37/torsion/0/torsions/1h1j.torsions'"
     ]
    }
   ],
   "source": [
    "pot = Potential(read_pickle(p4)[\"sequence\"], p1, p2, p4, init_angles_by_dists=False)"
   ]
  },
  {
   "cell_type": "markdown",
   "metadata": {},
   "source": [
    "## 2.1. Для начала посмотрим на значения потенциала AlphaFold для оригинальных данных:"
   ]
  },
  {
   "cell_type": "markdown",
   "metadata": {},
   "source": [
    "Мы получили, что весь потенциал можно сделать зависимым от $\\phi, \\psi$. Подставим вектор оригинальных значений $\\phi, \\psi$ в потенциал:"
   ]
  },
  {
   "cell_type": "code",
   "execution_count": null,
   "metadata": {},
   "outputs": [],
   "source": [
    "pot.calc(orig_angles)"
   ]
  },
  {
   "cell_type": "markdown",
   "metadata": {},
   "source": [
    "Хорош ли этот результат? 🤔"
   ]
  },
  {
   "cell_type": "markdown",
   "metadata": {},
   "source": [
    " "
   ]
  },
  {
   "cell_type": "markdown",
   "metadata": {},
   "source": [
    "Посмотрим отдельно значения составных частей потенциала:"
   ]
  },
  {
   "cell_type": "markdown",
   "metadata": {},
   "source": [
    "- $V_{distance}$:"
   ]
  },
  {
   "cell_type": "code",
   "execution_count": null,
   "metadata": {},
   "outputs": [],
   "source": [
    "pot._calc_distance_potential(orig_angles)"
   ]
  },
  {
   "cell_type": "markdown",
   "metadata": {},
   "source": [
    "- $V_{torsion}$:"
   ]
  },
  {
   "cell_type": "code",
   "execution_count": null,
   "metadata": {},
   "outputs": [],
   "source": [
    "pot._calc_torsion_potential(orig_angles)"
   ]
  },
  {
   "cell_type": "markdown",
   "metadata": {},
   "source": [
    " "
   ]
  },
  {
   "cell_type": "markdown",
   "metadata": {},
   "source": [
    "$\\uparrow$ Какой вывод можно сделать из такого результата?"
   ]
  },
  {
   "cell_type": "markdown",
   "metadata": {},
   "source": [
    "**your ideas here**: TODO"
   ]
  },
  {
   "cell_type": "markdown",
   "metadata": {},
   "source": [
    " "
   ]
  },
  {
   "cell_type": "markdown",
   "metadata": {},
   "source": [
    " "
   ]
  },
  {
   "cell_type": "markdown",
   "metadata": {},
   "source": [
    " "
   ]
  },
  {
   "cell_type": "markdown",
   "metadata": {},
   "source": [
    "## 2.2. Минимизируем!"
   ]
  },
  {
   "cell_type": "markdown",
   "metadata": {},
   "source": [
    "Выберем начальные значения углов. Пусть это будут наиболее вероятные углы с точки зрения потенциала $V_{torsion}$:"
   ]
  },
  {
   "cell_type": "code",
   "execution_count": 43,
   "metadata": {},
   "outputs": [
    {
     "ename": "NameError",
     "evalue": "name 'pot' is not defined",
     "output_type": "error",
     "traceback": [
      "\u001b[0;31m---------------------------------------------------------------------------\u001b[0m",
      "\u001b[0;31mNameError\u001b[0m                                 Traceback (most recent call last)",
      "Input \u001b[0;32mIn [43]\u001b[0m, in \u001b[0;36m<cell line: 1>\u001b[0;34m()\u001b[0m\n\u001b[0;32m----> 1\u001b[0m x0 \u001b[38;5;241m=\u001b[39m \u001b[43mpot\u001b[49m\u001b[38;5;241m.\u001b[39mget_initial_angles()\n",
      "\u001b[0;31mNameError\u001b[0m: name 'pot' is not defined"
     ]
    }
   ],
   "source": [
    "x0 = pot.get_initial_angles()"
   ]
  },
  {
   "cell_type": "markdown",
   "metadata": {},
   "source": [
    "**К слову**: а какое значение потенциала $V_{torsion}$ для $x_0$? 🤔"
   ]
  },
  {
   "cell_type": "code",
   "execution_count": 44,
   "metadata": {},
   "outputs": [
    {
     "ename": "NameError",
     "evalue": "name 'pot' is not defined",
     "output_type": "error",
     "traceback": [
      "\u001b[0;31m---------------------------------------------------------------------------\u001b[0m",
      "\u001b[0;31mNameError\u001b[0m                                 Traceback (most recent call last)",
      "Input \u001b[0;32mIn [44]\u001b[0m, in \u001b[0;36m<cell line: 1>\u001b[0;34m()\u001b[0m\n\u001b[0;32m----> 1\u001b[0m \u001b[43mpot\u001b[49m\u001b[38;5;241m.\u001b[39m_calc_torsion_potential(x0)\n",
      "\u001b[0;31mNameError\u001b[0m: name 'pot' is not defined"
     ]
    }
   ],
   "source": [
    "pot._calc_torsion_potential(x0)"
   ]
  },
  {
   "cell_type": "markdown",
   "metadata": {},
   "source": [
    " "
   ]
  },
  {
   "cell_type": "markdown",
   "metadata": {},
   "source": [
    "Зададим множества значений переменных. Хорошо бы поставить границы $[\\pi, \\pi]$, но может, стоит как-то расширить диапазон? 🤔"
   ]
  },
  {
   "cell_type": "code",
   "execution_count": 45,
   "metadata": {},
   "outputs": [
    {
     "ename": "NameError",
     "evalue": "name 'x0' is not defined",
     "output_type": "error",
     "traceback": [
      "\u001b[0;31m---------------------------------------------------------------------------\u001b[0m",
      "\u001b[0;31mNameError\u001b[0m                                 Traceback (most recent call last)",
      "Input \u001b[0;32mIn [45]\u001b[0m, in \u001b[0;36m<cell line: 1>\u001b[0;34m()\u001b[0m\n\u001b[0;32m----> 1\u001b[0m bounds \u001b[38;5;241m=\u001b[39m [[\u001b[38;5;241m-\u001b[39m\u001b[38;5;241m1.5\u001b[39m \u001b[38;5;241m*\u001b[39m np\u001b[38;5;241m.\u001b[39mpi, \u001b[38;5;241m1.5\u001b[39m \u001b[38;5;241m*\u001b[39m np\u001b[38;5;241m.\u001b[39mpi]] \u001b[38;5;241m*\u001b[39m \u001b[38;5;28mlen\u001b[39m(\u001b[43mx0\u001b[49m)\n",
      "\u001b[0;31mNameError\u001b[0m: name 'x0' is not defined"
     ]
    }
   ],
   "source": [
    "bounds = [[-1.5 * np.pi, 1.5 * np.pi]] * len(x0)"
   ]
  },
  {
   "cell_type": "markdown",
   "metadata": {},
   "source": [
    " "
   ]
  },
  {
   "cell_type": "markdown",
   "metadata": {},
   "source": [
    "Алгоритм минимизации - BFGS. Но оригинальный BFGS:\n",
    "\n",
    "    - Не может обрабатывать ограничение множества значений переменных\n",
    "    \n",
    "    - Неэкономно расходует память\n",
    "    \n",
    "Поэтому возьмем модификацию BFGS - L-BFGS-B, которая предназначена для минимизации на ограниченных \"брусах\" в условиях ограниченной памяти:"
   ]
  },
  {
   "cell_type": "code",
   "execution_count": 39,
   "metadata": {},
   "outputs": [],
   "source": [
    "method = \"L-BFGS-B\""
   ]
  },
  {
   "cell_type": "markdown",
   "metadata": {},
   "source": [
    " "
   ]
  },
  {
   "cell_type": "markdown",
   "metadata": {},
   "source": [
    "А еще мы можем попытаться \"упростить жизнь\" алгоритму за счет передачи ему функции, которая точно. вычисляет первую производную целевой функции в произвольной точке:"
   ]
  },
  {
   "cell_type": "code",
   "execution_count": 40,
   "metadata": {},
   "outputs": [
    {
     "ename": "NameError",
     "evalue": "name 'pot' is not defined",
     "output_type": "error",
     "traceback": [
      "\u001b[0;31m---------------------------------------------------------------------------\u001b[0m",
      "\u001b[0;31mNameError\u001b[0m                                 Traceback (most recent call last)",
      "Input \u001b[0;32mIn [40]\u001b[0m, in \u001b[0;36m<cell line: 1>\u001b[0;34m()\u001b[0m\n\u001b[0;32m----> 1\u001b[0m diff \u001b[38;5;241m=\u001b[39m \u001b[43mpot\u001b[49m\u001b[38;5;241m.\u001b[39mderivative\n",
      "\u001b[0;31mNameError\u001b[0m: name 'pot' is not defined"
     ]
    }
   ],
   "source": [
    "diff = pot.derivative"
   ]
  },
  {
   "cell_type": "markdown",
   "metadata": {},
   "source": [
    " "
   ]
  },
  {
   "cell_type": "markdown",
   "metadata": {},
   "source": [
    " "
   ]
  },
  {
   "cell_type": "markdown",
   "metadata": {},
   "source": [
    "Уфф. Запускаем!"
   ]
  },
  {
   "cell_type": "code",
   "execution_count": 41,
   "metadata": {},
   "outputs": [],
   "source": [
    "from time import time"
   ]
  },
  {
   "cell_type": "code",
   "execution_count": 42,
   "metadata": {},
   "outputs": [
    {
     "ename": "SyntaxError",
     "evalue": "invalid syntax (3100620705.py, line 6)",
     "output_type": "error",
     "traceback": [
      "\u001b[0;36m  Input \u001b[0;32mIn [42]\u001b[0;36m\u001b[0m\n\u001b[0;31m    bounds=bounds,\u001b[0m\n\u001b[0m    ^\u001b[0m\n\u001b[0;31mSyntaxError\u001b[0m\u001b[0;31m:\u001b[0m invalid syntax\n"
     ]
    }
   ],
   "source": [
    "print(\"minimization started\")\n",
    "st_time = time()\n",
    "\n",
    "min_res = minimize(pot.calc, \n",
    "                   x0=x0\n",
    "                   bounds=bounds,\n",
    "                   jac=diff,\n",
    "                   method=method\n",
    "                  )\n",
    "print(\"minimization over. res = \", (min_res.success, min_res.message))\n",
    "print(f\"\\tMinimization took {time() - st_time} sec\")"
   ]
  },
  {
   "cell_type": "markdown",
   "metadata": {},
   "source": [
    " "
   ]
  },
  {
   "cell_type": "markdown",
   "metadata": {},
   "source": [
    " "
   ]
  },
  {
   "cell_type": "markdown",
   "metadata": {},
   "source": [
    " "
   ]
  },
  {
   "cell_type": "markdown",
   "metadata": {},
   "source": [
    "# 3. Оценим результат 🤔"
   ]
  },
  {
   "cell_type": "code",
   "execution_count": null,
   "metadata": {},
   "outputs": [],
   "source": [
    "fig, axs = plt.subplots(1,3, figsize=(15,5))\n",
    "im = axs[0].imshow(orig_matr)\n",
    "axs[0].set_title(\"Матрица расстояний\\nдля нативного состояния\\nПотенциал = {}\".format(pot.calc(orig_angles)))\n",
    "cbar = plt.colorbar(im, ax=axs[0])\n",
    "\n",
    "imp = QCPSuperimposer()\n",
    "imp.set(cbs, np.array(pot._model.get_cb_coords(pot.get_initial_angles()[1:-1])[0]))\n",
    "imp.run()\n",
    "\n",
    "im = axs[1].imshow(pot._model.get_cb_dist_matrix(pot.get_initial_angles()[1:-1]))\n",
    "axs[1].set_title(\"Матрица для $x_0$.\\nПотенциал = {}\\nRMSD = {}\".format(pot.calc(pot.get_initial_angles()), \n",
    "                                                                        imp.get_rms()))\n",
    "plt.colorbar(im, ax=axs[1])\n",
    "\n",
    "imp = QCPSuperimposer()\n",
    "imp.set(cbs, np.array(pot._model.get_cb_coords(min_res.x[1:-1])[0]))\n",
    "imp.run()\n",
    "\n",
    "im = axs[2].imshow(pot._model.get_cb_dist_matrix(min_res.x[1:-1]))\n",
    "axs[2].set_title(\"Матрица для $x^*$ (после минимизации).\\nПотенциал: {}\\nRMSD = {}\".format(pot.calc(min_res.x), imp.get_rms()))\n",
    "plt.colorbar(im, ax=axs[2])\n",
    "# fig.suptitle(\"Белок 1h1j. Длина: {}\".format(len(chain)))\n",
    "plt.show()"
   ]
  },
  {
   "cell_type": "markdown",
   "metadata": {},
   "source": [
    " "
   ]
  },
  {
   "cell_type": "markdown",
   "metadata": {},
   "source": [
    " "
   ]
  },
  {
   "cell_type": "markdown",
   "metadata": {},
   "source": [
    "$\\uparrow$ Что получилось? Какие можно сделать выводы? 🤔"
   ]
  },
  {
   "cell_type": "markdown",
   "metadata": {},
   "source": [
    "$\\rightarrow$ **your ideas here**: TODO"
   ]
  }
 ],
 "metadata": {
  "kernelspec": {
   "display_name": "Python 3 (ipykernel)",
   "language": "python",
   "name": "python3"
  },
  "language_info": {
   "codemirror_mode": {
    "name": "ipython",
    "version": 3
   },
   "file_extension": ".py",
   "mimetype": "text/x-python",
   "name": "python",
   "nbconvert_exporter": "python",
   "pygments_lexer": "ipython3",
   "version": "3.9.12"
  }
 },
 "nbformat": 4,
 "nbformat_minor": 4
}
