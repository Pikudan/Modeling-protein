{
 "cells": [
  {
   "cell_type": "code",
   "execution_count": 3,
   "metadata": {},
   "outputs": [],
   "source": [
    "import Bio.PDB as pdb\n",
    "import numpy as np\n",
    "import pandas as pd\n",
    "import matplotlib.pyplot as plt"
   ]
  },
  {
   "cell_type": "markdown",
   "metadata": {},
   "source": [
    "# ПОДГОТОВКА"
   ]
  },
  {
   "cell_type": "markdown",
   "metadata": {},
   "source": [
    "Перейдите на <a href=\"https://projectswhynot.site/pdb-filtering/\">эту страничку</a>, получим ID белков для этого семинара."
   ]
  },
  {
   "cell_type": "code",
   "execution_count": 7,
   "metadata": {},
   "outputs": [
    {
     "name": "stderr",
     "output_type": "stream",
     "text": [
      "/usr/local/lib/python3.8/site-packages/IPython/core/interactiveshell.py:3361: FutureWarning: In a future version of pandas all arguments of read_csv except for the argument 'filepath_or_buffer' will be keyword-only\n",
      "  exec(code_obj, self.user_global_ns, self.user_ns)\n"
     ]
    }
   ],
   "source": [
    "path = \"/Users/andreyignatov/Downloads/filtering_results-9.csv\"\n",
    "\n",
    "data = pd.read_csv(path, \";\")"
   ]
  },
  {
   "cell_type": "code",
   "execution_count": 11,
   "metadata": {},
   "outputs": [],
   "source": [
    "chains = []"
   ]
  },
  {
   "cell_type": "code",
   "execution_count": 12,
   "metadata": {},
   "outputs": [
    {
     "name": "stdout",
     "output_type": "stream",
     "text": [
      "Structure exists: '/Users/andreyignatov/work_google_drive/work/teaching/HSE/2022-2023/Методы_моделирования_пространственной_структуры_протеинов/1_2/jn/pdb2jnt.ent' \n",
      "Structure exists: '/Users/andreyignatov/work_google_drive/work/teaching/HSE/2022-2023/Методы_моделирования_пространственной_структуры_протеинов/1_2/b6/pdb4b6v.ent' \n",
      "Structure exists: '/Users/andreyignatov/work_google_drive/work/teaching/HSE/2022-2023/Методы_моделирования_пространственной_структуры_протеинов/1_2/k8/pdb2k8y.ent' \n",
      "Structure exists: '/Users/andreyignatov/work_google_drive/work/teaching/HSE/2022-2023/Методы_моделирования_пространственной_структуры_протеинов/1_2/dd/pdb1ddb.ent' \n",
      "Structure exists: '/Users/andreyignatov/work_google_drive/work/teaching/HSE/2022-2023/Методы_моделирования_пространственной_структуры_протеинов/1_2/h2/pdb1h2o.ent' \n",
      "Structure exists: '/Users/andreyignatov/work_google_drive/work/teaching/HSE/2022-2023/Методы_моделирования_пространственной_структуры_протеинов/1_2/do/pdb2do9.ent' \n",
      "Structure exists: '/Users/andreyignatov/work_google_drive/work/teaching/HSE/2022-2023/Методы_моделирования_пространственной_структуры_протеинов/1_2/bh/pdb4bh9.ent' \n",
      "Structure exists: '/Users/andreyignatov/work_google_drive/work/teaching/HSE/2022-2023/Методы_моделирования_пространственной_структуры_протеинов/1_2/jo/pdb2joe.ent' \n",
      "Structure exists: '/Users/andreyignatov/work_google_drive/work/teaching/HSE/2022-2023/Методы_моделирования_пространственной_структуры_протеинов/1_2/k3/pdb2k3i.ent' \n",
      "Structure exists: '/Users/andreyignatov/work_google_drive/work/teaching/HSE/2022-2023/Методы_моделирования_пространственной_структуры_протеинов/1_2/dl/pdb2dl9.ent' \n"
     ]
    }
   ],
   "source": [
    "parser = pdb.PDBParser()\n",
    "for i in range(data.shape[0]):\n",
    "    pdb_id, model_id, _ = data.loc[i]\n",
    "    # качаем файл\n",
    "    path = pdb.PDBList().retrieve_pdb_file(pdb_id, \n",
    "                                           file_format=\"pdb\")\n",
    "    # открываем структуру\n",
    "    struct = parser.get_structure(pdb_id, path)\n",
    "    \n",
    "    chain = struct[model_id].child_list[0].child_list\n",
    "    chains += [chain]"
   ]
  },
  {
   "cell_type": "markdown",
   "metadata": {},
   "source": [
    " "
   ]
  },
  {
   "cell_type": "markdown",
   "metadata": {},
   "source": [
    " "
   ]
  },
  {
   "cell_type": "markdown",
   "metadata": {},
   "source": [
    " "
   ]
  },
  {
   "cell_type": "markdown",
   "metadata": {},
   "source": [
    " "
   ]
  },
  {
   "cell_type": "markdown",
   "metadata": {},
   "source": [
    " "
   ]
  },
  {
   "cell_type": "markdown",
   "metadata": {},
   "source": [
    " "
   ]
  },
  {
   "cell_type": "markdown",
   "metadata": {},
   "source": [
    " "
   ]
  },
  {
   "cell_type": "markdown",
   "metadata": {},
   "source": [
    " "
   ]
  },
  {
   "cell_type": "markdown",
   "metadata": {},
   "source": [
    " "
   ]
  },
  {
   "cell_type": "markdown",
   "metadata": {},
   "source": [
    " "
   ]
  },
  {
   "cell_type": "markdown",
   "metadata": {},
   "source": [
    " "
   ]
  },
  {
   "cell_type": "markdown",
   "metadata": {},
   "source": [
    " "
   ]
  },
  {
   "cell_type": "markdown",
   "metadata": {},
   "source": [
    " "
   ]
  },
  {
   "cell_type": "markdown",
   "metadata": {},
   "source": [
    " "
   ]
  },
  {
   "cell_type": "markdown",
   "metadata": {},
   "source": [
    " "
   ]
  },
  {
   "cell_type": "markdown",
   "metadata": {},
   "source": [
    " "
   ]
  },
  {
   "cell_type": "markdown",
   "metadata": {},
   "source": [
    " "
   ]
  },
  {
   "cell_type": "markdown",
   "metadata": {},
   "source": [
    " "
   ]
  },
  {
   "cell_type": "markdown",
   "metadata": {},
   "source": [
    "# ЧАСТЬ 1"
   ]
  },
  {
   "cell_type": "markdown",
   "metadata": {},
   "source": [
    "### Задание 1. Соберите и выведите на гистограмме значения угла $\\omega = \\angle(C_\\alpha^{i-1}, C^{i-1}, N^{i}, C_\\alpha^{i})$. Почему он не рассматривается при предсказании геометрии?"
   ]
  },
  {
   "cell_type": "code",
   "execution_count": 14,
   "metadata": {},
   "outputs": [],
   "source": [
    "omegas = []\n",
    "\n",
    "for chain in chains:\n",
    "    for i in range(1, len(chain)):\n",
    "        omega = pdb.calc_dihedral(chain[i - 1][\"CA\"].get_vector(), \n",
    "                                  chain[i - 1][\"C\"].get_vector(), \n",
    "                                  chain[i][\"N\"].get_vector(), \n",
    "                                  chain[i][\"CA\"].get_vector())\n",
    "        omegas += [omega]\n"
   ]
  },
  {
   "cell_type": "code",
   "execution_count": 15,
   "metadata": {},
   "outputs": [
    {
     "data": {
      "image/png": "[encoded data removed]",
      "text/plain": [
       "<Figure size 640x480 with 1 Axes>"
      ]
     },
     "metadata": {},
     "output_type": "display_data"
    }
   ],
   "source": [
    "plt.hist(omegas, bins=50)\n",
    "plt.show()"
   ]
  },
  {
   "cell_type": "markdown",
   "metadata": {},
   "source": [
    "### Задание 2. Выведите отдельно гистограммы значений углов $\\phi, \\psi$."
   ]
  },
  {
   "cell_type": "code",
   "execution_count": 17,
   "metadata": {},
   "outputs": [],
   "source": [
    "phis = []\n",
    "psis = []\n",
    "\n",
    "for chain in chains:\n",
    "    for i in range(1, len(chain) - 1):\n",
    "        phi = pdb.calc_dihedral(chain[i - 1][\"C\"].get_vector(), \n",
    "                                chain[i][\"N\"].get_vector(), \n",
    "                                chain[i][\"CA\"].get_vector(), \n",
    "                                chain[i][\"C\"].get_vector())\n",
    "        psi = pdb.calc_dihedral(chain[i][\"N\"].get_vector(), \n",
    "                                chain[i][\"CA\"].get_vector(), \n",
    "                                chain[i][\"C\"].get_vector(), \n",
    "                                chain[i + 1][\"N\"].get_vector(),)\n",
    "        \n",
    "        phis += [phi]\n",
    "        psis += [psi]\n",
    "\n"
   ]
  },
  {
   "cell_type": "code",
   "execution_count": 18,
   "metadata": {},
   "outputs": [
    {
     "data": {
      "image/png": "[encoded data removed]",
      "text/plain": [
       "<Figure size 640x480 with 1 Axes>"
      ]
     },
     "metadata": {},
     "output_type": "display_data"
    },
    {
     "data": {
      "image/png": "[encoded data removed]",
      "text/plain": [
       "<Figure size 640x480 with 1 Axes>"
      ]
     },
     "metadata": {},
     "output_type": "display_data"
    }
   ],
   "source": [
    "plt.hist(phis, bins=50)\n",
    "plt.show()\n",
    "\n",
    "plt.hist(psis, bins=50)\n",
    "plt.show()"
   ]
  },
  {
   "cell_type": "markdown",
   "metadata": {},
   "source": [
    "### Задание 3. Постройте карту Рамачандрана для собранных значений. Соотносится ли она с тем, что было рассказано на лекции?"
   ]
  },
  {
   "cell_type": "code",
   "execution_count": 19,
   "metadata": {},
   "outputs": [
    {
     "data": {
      "image/png": "[encoded data removed]",
      "text/plain": [
       "<Figure size 640x480 with 1 Axes>"
      ]
     },
     "metadata": {},
     "output_type": "display_data"
    }
   ],
   "source": [
    "\n",
    "plt.scatter(phis, psis)\n",
    "\n",
    "plt.show()\n"
   ]
  },
  {
   "cell_type": "markdown",
   "metadata": {},
   "source": [
    " "
   ]
  },
  {
   "cell_type": "markdown",
   "metadata": {},
   "source": [
    " "
   ]
  },
  {
   "cell_type": "markdown",
   "metadata": {},
   "source": [
    " "
   ]
  },
  {
   "cell_type": "markdown",
   "metadata": {},
   "source": [
    " "
   ]
  },
  {
   "cell_type": "markdown",
   "metadata": {},
   "source": [
    " "
   ]
  },
  {
   "cell_type": "markdown",
   "metadata": {},
   "source": [
    " "
   ]
  },
  {
   "cell_type": "markdown",
   "metadata": {},
   "source": [
    " "
   ]
  },
  {
   "cell_type": "markdown",
   "metadata": {},
   "source": [
    " "
   ]
  },
  {
   "cell_type": "markdown",
   "metadata": {},
   "source": [
    " "
   ]
  },
  {
   "cell_type": "markdown",
   "metadata": {},
   "source": [
    " "
   ]
  },
  {
   "cell_type": "markdown",
   "metadata": {},
   "source": [
    " "
   ]
  },
  {
   "cell_type": "markdown",
   "metadata": {},
   "source": [
    " "
   ]
  },
  {
   "cell_type": "markdown",
   "metadata": {},
   "source": [
    " "
   ]
  },
  {
   "cell_type": "markdown",
   "metadata": {},
   "source": [
    " "
   ]
  },
  {
   "cell_type": "markdown",
   "metadata": {},
   "source": [
    " "
   ]
  },
  {
   "cell_type": "markdown",
   "metadata": {},
   "source": [
    " "
   ]
  },
  {
   "cell_type": "markdown",
   "metadata": {},
   "source": [
    "# ЧАСТЬ 2\n",
    "\n",
    "### Допустим, у нас есть основной каркас (все атомы $N,C_\\alpha, C$). Давайте восстановим координаты атома $C_\\beta$. Для этого нам нужно значение двугранного угла $\\angle(C^{i-1}, N^{i}, C_\\alpha^{i}, C_\\beta^{i})$, значение планарного угла $\\angle(N^{i}, C_\\alpha^{i}, C_\\beta^{i})$ и длина связи $C_\\alpha-C_\\beta$."
   ]
  },
  {
   "cell_type": "markdown",
   "metadata": {},
   "source": [
    "### Задание 4.1. Соберите и выведите на гистограмме значения двугранного угла $\\angle(C^{i-1}, N^{i}, C_\\alpha^{i}, C_\\beta^{i})$. Можно ли визуально заметить зависимость с углами $\\phi, \\psi?$\n",
    "\n",
    "**Комментарий:** обратите внимание, у GLY нет атома $C_\\beta$!"
   ]
  },
  {
   "cell_type": "code",
   "execution_count": 21,
   "metadata": {},
   "outputs": [],
   "source": [
    "angles = []\n",
    "\n",
    "for chain in chains:\n",
    "    for i in range(1, len(chain)):\n",
    "        if chain[i].resname == \"GLY\":\n",
    "            continue\n",
    "        ang = pdb.calc_dihedral(chain[i - 1][\"C\"].get_vector(), \n",
    "                                  chain[i][\"N\"].get_vector(), \n",
    "                                  chain[i][\"CA\"].get_vector(), \n",
    "                                  chain[i][\"CB\"].get_vector())\n",
    "        angles += [ang]\n",
    "\n"
   ]
  },
  {
   "cell_type": "code",
   "execution_count": 22,
   "metadata": {},
   "outputs": [
    {
     "data": {
      "image/png": "[encoded data removed]",
      "text/plain": [
       "<Figure size 640x480 with 1 Axes>"
      ]
     },
     "metadata": {},
     "output_type": "display_data"
    }
   ],
   "source": [
    "plt.hist(angles, bins=50)\n",
    "plt.show()"
   ]
  },
  {
   "cell_type": "markdown",
   "metadata": {},
   "source": [
    "### Выведите на одном графике значения $\\phi$ и $\\angle(C^{i-1}, N^{i}, C_\\alpha^{i}, C_\\beta^{i})$. Восстановите зависимость любым способом.\n",
    "\n",
    "**Комментарий**: восстановить зависимость = сделать функцию вида **ang_value(phi_value)**!"
   ]
  },
  {
   "cell_type": "code",
   "execution_count": 23,
   "metadata": {},
   "outputs": [],
   "source": [
    "phis = []\n",
    "\n",
    "for chain in chains:\n",
    "    for i in range(1, len(chain)):\n",
    "        if chain[i].resname == \"GLY\":\n",
    "            continue\n",
    "        phi = pdb.calc_dihedral(chain[i - 1][\"C\"].get_vector(), \n",
    "                                  chain[i][\"N\"].get_vector(), \n",
    "                                  chain[i][\"CA\"].get_vector(), \n",
    "                                  chain[i][\"C\"].get_vector())\n",
    "        phis += [phi]\n",
    "\n",
    "\n"
   ]
  },
  {
   "cell_type": "code",
   "execution_count": 24,
   "metadata": {},
   "outputs": [
    {
     "data": {
      "image/png": "[encoded data removed]",
      "text/plain": [
       "<Figure size 640x480 with 1 Axes>"
      ]
     },
     "metadata": {},
     "output_type": "display_data"
    }
   ],
   "source": [
    "plt.scatter(phis, angles)\n",
    "\n",
    "plt.show()"
   ]
  },
  {
   "cell_type": "code",
   "execution_count": null,
   "metadata": {},
   "outputs": [],
   "source": [
    "def ang_value(phi_value):\n",
    "    # your code here"
   ]
  },
  {
   "cell_type": "markdown",
   "metadata": {},
   "source": [
    "### Задание 4.2. Соберите и выведите на гистограмме значения планарного угла $\\angle(N^{i}, C_\\alpha^{i}, C_\\beta^{i})$. Нужно ли здесь искать зависимость с другими углами или можно просто выбрать какое-то одно значение?"
   ]
  },
  {
   "cell_type": "code",
   "execution_count": null,
   "metadata": {},
   "outputs": [],
   "source": [
    "# your code here"
   ]
  },
  {
   "cell_type": "markdown",
   "metadata": {},
   "source": [
    "### Задание 4.3. Проведите аналогичное исследование для длины связи $C_\\alpha-C_\\beta$."
   ]
  },
  {
   "cell_type": "code",
   "execution_count": null,
   "metadata": {},
   "outputs": [],
   "source": [
    "# your code here"
   ]
  },
  {
   "cell_type": "markdown",
   "metadata": {},
   "source": [
    " "
   ]
  },
  {
   "cell_type": "markdown",
   "metadata": {},
   "source": [
    " "
   ]
  },
  {
   "cell_type": "markdown",
   "metadata": {},
   "source": [
    " "
   ]
  },
  {
   "cell_type": "markdown",
   "metadata": {},
   "source": [
    " "
   ]
  },
  {
   "cell_type": "markdown",
   "metadata": {},
   "source": [
    "### Задание 5. Теперь у нас все готово для восстановления атомов $C_\\beta$. Загрузите <a href=https://disk.yandex.ru/d/QFymCllkjVpKTg>отсюда</a> подготовленный файл; поместите его в папку с ноутбуком и импортируйте все функции из него:"
   ]
  },
  {
   "cell_type": "code",
   "execution_count": 1,
   "metadata": {},
   "outputs": [],
   "source": [
    "from geometry import *"
   ]
  },
  {
   "cell_type": "markdown",
   "metadata": {},
   "source": [
    "Используйте функцию place_next_dihedral_atom, чтобы получить координаты следующего атома ($D$) в четверке двугранного угла $A,B,C,D$. Интерфейс запуска:\n",
    "place_next_dihedral_atom(previous_3_atoms, dihedral_angle_val, planar_angle_val, distance), где:\n",
    "\n",
    "- previous_3_atoms - np.array размера 3x3, где на каждой строчке записаны координаты соответствующего атома ($A,B,C$);\n",
    "- dihedral_angle_val - значение двугранного угла $\\angle (A-B-C-D)$ (в радианах);\n",
    "- planar_angle_val - значение планарного угла $\\angle (B-C-D)$ (в радианах);\n",
    "- distance - расстояние $C-D$ (в ангстремах).\n",
    "\n",
    "Пример запуска:"
   ]
  },
  {
   "cell_type": "code",
   "execution_count": 6,
   "metadata": {},
   "outputs": [
    {
     "name": "stdout",
     "output_type": "stream",
     "text": [
      "Атом D: [3.5        2.5        2.12132034]\n"
     ]
    }
   ],
   "source": [
    "prev_coords = np.array([[0,0,0],\n",
    "                        [1,0,0],\n",
    "                        [2,1,0]])\n",
    "dih_ang_val = np.pi/2\n",
    "planar_ang_val = np.pi * 3/4\n",
    "dist = 3\n",
    "next_at = place_next_dihedral_atom(prev_coords, dih_ang_val, planar_ang_val, dist)\n",
    "print(\"Атом D:\", next_at)"
   ]
  },
  {
   "cell_type": "markdown",
   "metadata": {},
   "source": [
    "**Проверка:**"
   ]
  },
  {
   "cell_type": "code",
   "execution_count": 8,
   "metadata": {},
   "outputs": [
    {
     "name": "stdout",
     "output_type": "stream",
     "text": [
      "Получился двугранный угол: 1.5707963267948966, а должен быть: 1.5707963267948966\n"
     ]
    }
   ],
   "source": [
    "final_dih_ang = pdb.calc_dihedral(pdb.Vector(prev_coords[0]),\n",
    "                                  pdb.Vector(prev_coords[1]),\n",
    "                                  pdb.Vector(prev_coords[2]),\n",
    "                                  pdb.Vector(next_at)\n",
    "                                 )\n",
    "print(\"Получился двугранный угол: {}, а должен быть: {}\".format(final_dih_ang, dih_ang_val))z"
   ]
  },
  {
   "cell_type": "code",
   "execution_count": 9,
   "metadata": {},
   "outputs": [
    {
     "name": "stdout",
     "output_type": "stream",
     "text": [
      "Получился планарный угол: 2.3561944901923453, а должен быть: 2.356194490192345\n"
     ]
    }
   ],
   "source": [
    "final_plan_ang = pdb.calc_angle(pdb.Vector(prev_coords[1]),\n",
    "                                pdb.Vector(prev_coords[2]),\n",
    "                                pdb.Vector(next_at)\n",
    "                                 )\n",
    "print(\"Получился планарный угол: {}, а должен быть: {}\".format(final_plan_ang, planar_ang_val))"
   ]
  },
  {
   "cell_type": "code",
   "execution_count": 10,
   "metadata": {},
   "outputs": [
    {
     "name": "stdout",
     "output_type": "stream",
     "text": [
      "Получилась длина связи: 3.0000000000000004, а должна быть: 3\n"
     ]
    }
   ],
   "source": [
    "final_bond_len = np.linalg.norm(next_at - prev_coords[2])\n",
    "print(\"Получилась длина связи: {}, а должна быть: {}\".format(final_bond_len, dist))"
   ]
  },
  {
   "cell_type": "markdown",
   "metadata": {},
   "source": [
    "### С помощью описанной функции предскажите координаты всех $C_\\beta$ в тестовом белке с индексом 0. В отдельную переменную сохраните все настоящие координаты $C_\\beta$ из белка.\n",
    "\n",
    "**Напоминание:** У GLY нет $C_\\beta$!"
   ]
  },
  {
   "cell_type": "code",
   "execution_count": 11,
   "metadata": {},
   "outputs": [],
   "source": [
    "# your code here"
   ]
  },
  {
   "cell_type": "markdown",
   "metadata": {},
   "source": [
    "### А теперь давайте посмотрим на точность такого восстановления геометрии. Пусть переменная с предсказанными координатами называется $cb\\_pred$, с оригинальными - $cb\\_orig$."
   ]
  },
  {
   "cell_type": "code",
   "execution_count": 18,
   "metadata": {},
   "outputs": [],
   "source": [
    "from Bio.PDB.QCPSuperimposer import QCPSuperimposer"
   ]
  },
  {
   "cell_type": "code",
   "execution_count": null,
   "metadata": {},
   "outputs": [],
   "source": [
    "imposer = QCPSuperimposer()\n",
    "imposer.set(cb_orig, cb_pred)\n",
    "imposer.run()\n",
    "rms = imposer.get_rms()\n",
    "print(\"Точность восстановленных CB = {} ангстрем\".format(rms))"
   ]
  }
 ],
 "metadata": {
  "kernelspec": {
   "display_name": "Python 3 (ipykernel)",
   "language": "python",
   "name": "python3"
  },
  "language_info": {
   "codemirror_mode": {
    "name": "ipython",
    "version": 3
   },
   "file_extension": ".py",
   "mimetype": "text/x-python",
   "name": "python",
   "nbconvert_exporter": "python",
   "pygments_lexer": "ipython3",
   "version": "3.9.12"
  }
 },
 "nbformat": 4,
 "nbformat_minor": 4
}
